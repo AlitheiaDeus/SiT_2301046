{
 "cells": [
  {
   "cell_type": "markdown",
   "id": "06ed669c-9332-428e-a8a7-502a2a3f056b",
   "metadata": {
    "jp-MarkdownHeadingCollapsed": true
   },
   "source": [
    "# This is a markdown cell with 1st header."
   ]
  },
  {
   "cell_type": "markdown",
   "id": "22c04cfe-ce6d-4dc5-8264-070ebe7a884d",
   "metadata": {},
   "source": [
    "## This is a markdown cell with 2nd header.\n",
    "### Header size can vary within cells\n",
    "#### Headers are nested within cells of higher headers."
   ]
  },
  {
   "cell_type": "markdown",
   "id": "e150b34a-6dbe-4d52-85fb-7b79e6243535",
   "metadata": {},
   "source": [
    "This is a markdown cell with no header."
   ]
  },
  {
   "cell_type": "raw",
   "id": "41aea6f8-0a42-4335-99c6-713621ecd64e",
   "metadata": {},
   "source": [
    "This is a raw text cell. It doesn't display markdown formats."
   ]
  },
  {
   "cell_type": "code",
   "execution_count": 1,
   "id": "247dce63-be04-45c5-86ba-4e5daa163228",
   "metadata": {},
   "outputs": [],
   "source": [
    "# This is a code cell. It runs python code."
   ]
  },
  {
   "cell_type": "code",
   "execution_count": 2,
   "id": "84f46a22-47ef-411c-a9fd-8ff3546c1004",
   "metadata": {},
   "outputs": [],
   "source": [
    "# Note the index on the left increasing when you run the cell."
   ]
  },
  {
   "cell_type": "code",
   "execution_count": 3,
   "id": "603e99e6-77c7-4e56-9bce-36c456b64ff3",
   "metadata": {},
   "outputs": [],
   "source": [
    "# Even if there is no actual code running."
   ]
  },
  {
   "cell_type": "code",
   "execution_count": null,
   "id": "07283eb1-b5ef-4709-83f7-041b475a7f1c",
   "metadata": {},
   "outputs": [],
   "source": []
  },
  {
   "cell_type": "code",
   "execution_count": 4,
   "id": "0179a2c1-0fa7-45bf-8922-e05034680265",
   "metadata": {},
   "outputs": [],
   "source": [
    "# Unless there is nothing in the cell like the one above."
   ]
  },
  {
   "cell_type": "markdown",
   "id": "d2dc4b6a-43d2-4ab6-9318-0d69cd8a4345",
   "metadata": {
    "jp-MarkdownHeadingCollapsed": true
   },
   "source": [
    "# Skip the basics of python."
   ]
  },
  {
   "cell_type": "markdown",
   "id": "eadcee6f-550c-4ade-9340-e91eed7af57a",
   "metadata": {
    "jp-MarkdownHeadingCollapsed": true
   },
   "source": [
    "# Learning IPython.display."
   ]
  },
  {
   "cell_type": "markdown",
   "id": "13767892-d63b-4794-a9c5-c5d6500ed0e1",
   "metadata": {},
   "source": [
    "IPython.display is very useful when dealing with pandas DataFrames and other libraries that can access the HTML framework."
   ]
  },
  {
   "cell_type": "markdown",
   "id": "f62662cd-f1eb-4cef-a1c2-52c7cda42d3b",
   "metadata": {},
   "source": [
    "## Importing the library."
   ]
  },
  {
   "cell_type": "code",
   "execution_count": 5,
   "id": "2c2da90e-117d-4591-9522-dd00d5d666a7",
   "metadata": {},
   "outputs": [],
   "source": [
    "from IPython.display import display"
   ]
  },
  {
   "cell_type": "markdown",
   "id": "26bc185d-4df5-4632-b1c2-d29c3f9f2f60",
   "metadata": {},
   "source": [
    "## A quick setup of pandas.DataFrame"
   ]
  },
  {
   "cell_type": "code",
   "execution_count": 6,
   "id": "78546de7-18ca-4744-ac7f-c2745276eaab",
   "metadata": {},
   "outputs": [],
   "source": [
    "import pandas as pd\n",
    "df = pd.DataFrame({'Column 1':['C1V1', 'C1V2', 'C1V3'],'Column 2':['C2V1', 'C2V2', 'C2V3']})"
   ]
  },
  {
   "cell_type": "markdown",
   "id": "6752326d-cd97-430d-9f0b-2a22c93dbdb7",
   "metadata": {},
   "source": [
    "## printing dataframe with print()"
   ]
  },
  {
   "cell_type": "code",
   "execution_count": 7,
   "id": "aaf24256-ecb5-43cf-88e9-3cee178a4cf1",
   "metadata": {},
   "outputs": [
    {
     "name": "stdout",
     "output_type": "stream",
     "text": [
      "  Column 1 Column 2\n",
      "0     C1V1     C2V1\n",
      "1     C1V2     C2V2\n",
      "2     C1V3     C2V3\n"
     ]
    }
   ],
   "source": [
    "print(df)"
   ]
  },
  {
   "cell_type": "markdown",
   "id": "746e3c3f-d776-40c9-ba31-18dbdf7b8054",
   "metadata": {},
   "source": [
    "## printing dataframe with display()"
   ]
  },
  {
   "cell_type": "code",
   "execution_count": 8,
   "id": "6be9f0af-e0fe-4101-ba81-ff349dcdb1f6",
   "metadata": {},
   "outputs": [
    {
     "data": {
      "text/html": [
       "<div>\n",
       "<style scoped>\n",
       "    .dataframe tbody tr th:only-of-type {\n",
       "        vertical-align: middle;\n",
       "    }\n",
       "\n",
       "    .dataframe tbody tr th {\n",
       "        vertical-align: top;\n",
       "    }\n",
       "\n",
       "    .dataframe thead th {\n",
       "        text-align: right;\n",
       "    }\n",
       "</style>\n",
       "<table border=\"1\" class=\"dataframe\">\n",
       "  <thead>\n",
       "    <tr style=\"text-align: right;\">\n",
       "      <th></th>\n",
       "      <th>Column 1</th>\n",
       "      <th>Column 2</th>\n",
       "    </tr>\n",
       "  </thead>\n",
       "  <tbody>\n",
       "    <tr>\n",
       "      <th>0</th>\n",
       "      <td>C1V1</td>\n",
       "      <td>C2V1</td>\n",
       "    </tr>\n",
       "    <tr>\n",
       "      <th>1</th>\n",
       "      <td>C1V2</td>\n",
       "      <td>C2V2</td>\n",
       "    </tr>\n",
       "    <tr>\n",
       "      <th>2</th>\n",
       "      <td>C1V3</td>\n",
       "      <td>C2V3</td>\n",
       "    </tr>\n",
       "  </tbody>\n",
       "</table>\n",
       "</div>"
      ],
      "text/plain": [
       "  Column 1 Column 2\n",
       "0     C1V1     C2V1\n",
       "1     C1V2     C2V2\n",
       "2     C1V3     C2V3"
      ]
     },
     "metadata": {},
     "output_type": "display_data"
    }
   ],
   "source": [
    "display(df)"
   ]
  },
  {
   "cell_type": "markdown",
   "id": "f2155c68-4a2f-47af-bd0c-c28d8764108e",
   "metadata": {},
   "source": [
    "## transposing a dataframe"
   ]
  },
  {
   "cell_type": "code",
   "execution_count": 9,
   "id": "2cee5eb0-1f7f-475f-a4ab-9ff352e01041",
   "metadata": {},
   "outputs": [
    {
     "data": {
      "text/html": [
       "<div>\n",
       "<style scoped>\n",
       "    .dataframe tbody tr th:only-of-type {\n",
       "        vertical-align: middle;\n",
       "    }\n",
       "\n",
       "    .dataframe tbody tr th {\n",
       "        vertical-align: top;\n",
       "    }\n",
       "\n",
       "    .dataframe thead th {\n",
       "        text-align: right;\n",
       "    }\n",
       "</style>\n",
       "<table border=\"1\" class=\"dataframe\">\n",
       "  <thead>\n",
       "    <tr style=\"text-align: right;\">\n",
       "      <th></th>\n",
       "      <th>0</th>\n",
       "      <th>1</th>\n",
       "      <th>2</th>\n",
       "    </tr>\n",
       "  </thead>\n",
       "  <tbody>\n",
       "    <tr>\n",
       "      <th>Column 1</th>\n",
       "      <td>C1V1</td>\n",
       "      <td>C1V2</td>\n",
       "      <td>C1V3</td>\n",
       "    </tr>\n",
       "    <tr>\n",
       "      <th>Column 2</th>\n",
       "      <td>C2V1</td>\n",
       "      <td>C2V2</td>\n",
       "      <td>C2V3</td>\n",
       "    </tr>\n",
       "  </tbody>\n",
       "</table>\n",
       "</div>"
      ],
      "text/plain": [
       "             0     1     2\n",
       "Column 1  C1V1  C1V2  C1V3\n",
       "Column 2  C2V1  C2V2  C2V3"
      ]
     },
     "metadata": {},
     "output_type": "display_data"
    }
   ],
   "source": [
    "display(df.T)"
   ]
  },
  {
   "cell_type": "markdown",
   "id": "410b8cbe-a924-4970-a057-c81c4b81a84f",
   "metadata": {},
   "source": [
    "# Learning the 'for x in X:' series."
   ]
  },
  {
   "cell_type": "markdown",
   "id": "56f5dc3f-2eda-4da9-bffb-8091e856179c",
   "metadata": {
    "jp-MarkdownHeadingCollapsed": true
   },
   "source": [
    "## Series vs Lists"
   ]
  },
  {
   "cell_type": "code",
   "execution_count": 10,
   "id": "0fa8ef7b-891d-4918-aa3a-f8459f981498",
   "metadata": {
    "scrolled": true
   },
   "outputs": [],
   "source": [
    "ones = df['Column 1'] # Series extracted from dataframe.\n",
    "twos = df['Column 2'].tolist() # Series converted to list.\n",
    "threes = ['C3V1', 'C3V2', 'C3V3'] # Standard list.\n",
    "fours = pd.Series(['C4V1', 'C4V2', 'C4V3']) # Series made from a list."
   ]
  },
  {
   "cell_type": "code",
   "execution_count": 11,
   "id": "476452e0-f835-462f-98f0-141d1903f754",
   "metadata": {
    "scrolled": true
   },
   "outputs": [
    {
     "name": "stdout",
     "output_type": "stream",
     "text": [
      "This is a series object. It includes a list accompanied by an index.\n",
      "0    C1V1\n",
      "1    C1V2\n",
      "2    C1V3\n",
      "Name: Column 1, dtype: object\n",
      "\n"
     ]
    },
    {
     "data": {
      "text/plain": [
       "0    C1V1\n",
       "1    C1V2\n",
       "2    C1V3\n",
       "Name: Column 1, dtype: object"
      ]
     },
     "metadata": {},
     "output_type": "display_data"
    },
    {
     "name": "stdout",
     "output_type": "stream",
     "text": [
      "Note print() and display() are the same when dealing with lists and series.\n"
     ]
    }
   ],
   "source": [
    "print('This is a series object. It includes a list accompanied by an index.')\n",
    "print(ones)\n",
    "print()\n",
    "display(ones)\n",
    "print('Note print() and display() are the same when dealing with lists and series.')"
   ]
  },
  {
   "cell_type": "code",
   "execution_count": 12,
   "id": "d75da2a1-15ed-4ff1-9eaa-493e10b3e786",
   "metadata": {
    "scrolled": true
   },
   "outputs": [
    {
     "name": "stdout",
     "output_type": "stream",
     "text": [
      "This is a list made from a series.\n",
      "['C2V1', 'C2V2', 'C2V3']\n",
      "\n"
     ]
    },
    {
     "data": {
      "text/plain": [
       "['C2V1', 'C2V2', 'C2V3']"
      ]
     },
     "metadata": {},
     "output_type": "display_data"
    },
    {
     "name": "stdout",
     "output_type": "stream",
     "text": [
      "List prints differently from series.\n"
     ]
    }
   ],
   "source": [
    "print('This is a list made from a series.')\n",
    "print(twos)\n",
    "print()\n",
    "display(twos)\n",
    "print('List prints differently from series.')"
   ]
  },
  {
   "cell_type": "code",
   "execution_count": 13,
   "id": "acc2fb9d-5375-43e6-abd5-5583a34d61ee",
   "metadata": {
    "scrolled": true
   },
   "outputs": [
    {
     "name": "stdout",
     "output_type": "stream",
     "text": [
      "Series is different from a list object.\n",
      "['C3V1', 'C3V2', 'C3V3']\n"
     ]
    }
   ],
   "source": [
    "print('Series is different from a list object.')\n",
    "print(threes)"
   ]
  },
  {
   "cell_type": "code",
   "execution_count": 14,
   "id": "346d318c-cfd2-4767-bb7c-c69a283705bc",
   "metadata": {
    "scrolled": true
   },
   "outputs": [
    {
     "name": "stdout",
     "output_type": "stream",
     "text": [
      "You can also make a series from a list.\n",
      "0    C4V1\n",
      "1    C4V2\n",
      "2    C4V3\n",
      "dtype: object\n"
     ]
    }
   ],
   "source": [
    "print('You can also make a series from a list.')\n",
    "print(fours)"
   ]
  },
  {
   "cell_type": "markdown",
   "id": "58d8ee09-8cd8-4f89-ba4c-15b3ef1eacce",
   "metadata": {
    "jp-MarkdownHeadingCollapsed": true
   },
   "source": [
    "## Zipping lists"
   ]
  },
  {
   "cell_type": "code",
   "execution_count": 15,
   "id": "3fc9677d-0a1f-4a28-97ad-7a8c734c4478",
   "metadata": {},
   "outputs": [],
   "source": [
    "list1 = ['A', 'B', 'C', 'D', 'E']\n",
    "list2 = ['X', 'Y', 'Z', 1, 2]"
   ]
  },
  {
   "cell_type": "code",
   "execution_count": 16,
   "id": "5206fd04-a2a9-4073-b19b-030f7cd65c1a",
   "metadata": {},
   "outputs": [
    {
     "name": "stdout",
     "output_type": "stream",
     "text": [
      "A\n",
      "B\n",
      "C\n",
      "D\n",
      "E\n",
      "\n",
      "X\n",
      "Y\n",
      "Z\n",
      "1\n",
      "2\n"
     ]
    }
   ],
   "source": [
    "for item in list1: # iterating through list1\n",
    "    print(item)\n",
    "print()\n",
    "for item in list2: # iterating through list2\n",
    "    print(item)"
   ]
  },
  {
   "cell_type": "code",
   "execution_count": 17,
   "id": "f00899d9-fc47-45f7-abae-f60d204256ff",
   "metadata": {},
   "outputs": [],
   "source": [
    "list12 = zip(list1, list2) # zipping lists creates a SINGLE USE iterator of touples (coupled variables)."
   ]
  },
  {
   "cell_type": "code",
   "execution_count": 18,
   "id": "f157d6e7-127c-4f46-8361-b54561213c2d",
   "metadata": {},
   "outputs": [
    {
     "name": "stdout",
     "output_type": "stream",
     "text": [
      "<zip object at 0x00000271EEBC52C0>\n"
     ]
    }
   ],
   "source": [
    "print(list12) # printing it directly doesn't change it. but it doesn't display anything useful."
   ]
  },
  {
   "cell_type": "code",
   "execution_count": 19,
   "id": "63aa98fa-5842-4c65-875a-6aea869a1842",
   "metadata": {},
   "outputs": [
    {
     "name": "stdout",
     "output_type": "stream",
     "text": [
      "First iteration.\n",
      "('A', 'X')\n",
      "('B', 'Y')\n",
      "('C', 'Z')\n",
      "('D', 1)\n",
      "('E', 2)\n",
      "It prints fine.\n",
      "\n",
      "Second iteration.\n",
      "It is gone. WTF?\n"
     ]
    }
   ],
   "source": [
    "print('First iteration.')\n",
    "for item in list12: # iterating through it the first time\n",
    "    print(item)\n",
    "print('It prints fine.')\n",
    "print()\n",
    "print('Second iteration.')\n",
    "for item in list12: # iterating through it the second time\n",
    "    print(item)\n",
    "print('It is gone. WTF?')"
   ]
  },
  {
   "cell_type": "code",
   "execution_count": 20,
   "id": "31c75913-526c-46bb-bd5d-dbce73565ca8",
   "metadata": {},
   "outputs": [
    {
     "name": "stdout",
     "output_type": "stream",
     "text": [
      "[('A', 'X'), ('B', 'Y'), ('C', 'Z'), ('D', 1), ('E', 2)]\n"
     ]
    }
   ],
   "source": [
    "list12 = list(zip(list1, list2)) # if we convert the zip([A, B], [C, D]) object <(A, C), (B, D)> to list of touples [(A, C), (B, D)], it becomes more permanent.\n",
    "print(list12)"
   ]
  },
  {
   "cell_type": "code",
   "execution_count": 21,
   "id": "0b86cce6-b0fa-407b-805d-535fc89c3fa9",
   "metadata": {},
   "outputs": [
    {
     "name": "stdout",
     "output_type": "stream",
     "text": [
      "You can iterate once.\n",
      "('A', 'X')\n",
      "('B', 'Y')\n",
      "('C', 'Z')\n",
      "('D', 1)\n",
      "('E', 2)\n",
      "\n",
      "You can iterate more than once!\n",
      "('A', 'X')\n",
      "('B', 'Y')\n",
      "('C', 'Z')\n",
      "('D', 1)\n",
      "('E', 2)\n"
     ]
    }
   ],
   "source": [
    "print('You can iterate once.')\n",
    "for item in list12: # iterating through it the first time\n",
    "    print(item)\n",
    "print()\n",
    "print('You can iterate more than once!')\n",
    "for item in list12: # iterating through it the second time\n",
    "    print(item)"
   ]
  },
  {
   "cell_type": "code",
   "execution_count": 22,
   "id": "e0359ca6-e25d-43ec-9d02-78ab08b80db3",
   "metadata": {},
   "outputs": [
    {
     "name": "stdout",
     "output_type": "stream",
     "text": [
      "A /\\ X\n",
      "B /\\ Y\n",
      "C /\\ Z\n",
      "D /\\ 1\n",
      "E /\\ 2\n"
     ]
    }
   ],
   "source": [
    "for item1, item2 in list12: # you can retrieve the elements of a zip as separate variables.\n",
    "    print(f'{item1} /\\\\ {item2}')"
   ]
  },
  {
   "cell_type": "code",
   "execution_count": 23,
   "id": "fb7e8199-00ce-448d-9b46-a3cf11bf3dbe",
   "metadata": {},
   "outputs": [
    {
     "name": "stdout",
     "output_type": "stream",
     "text": [
      "\n",
      "A / X \\ L\n",
      "B / Y \\ M\n",
      "C / Z \\ N\n",
      "D / 1 \\ O\n",
      "E / 2 \\ P\n"
     ]
    }
   ],
   "source": [
    "list3 = ['L', 'M', 'N', 'O', 'P']\n",
    "list123 = zip(list1, list2, list3) # You can zip multiple lists as long as they're the same size.\n",
    "\n",
    "print()\n",
    "for item1, item2, item3 in list123:\n",
    "    print(f'{item1} / {item2} \\\\ {item3}')"
   ]
  },
  {
   "cell_type": "markdown",
   "id": "ceeda3f8-a472-465b-b0ce-0f5f993645e0",
   "metadata": {},
   "source": [
    "## Enumerators"
   ]
  },
  {
   "cell_type": "code",
   "execution_count": 24,
   "id": "4634e9bc-6484-4041-ae55-b41db1b098aa",
   "metadata": {},
   "outputs": [
    {
     "name": "stdout",
     "output_type": "stream",
     "text": [
      "<enumerate object at 0x00000271EEBB30B0>\n"
     ]
    }
   ],
   "source": [
    "list1 = ['A', 'B', 'C', 'D', 'E']\n",
    "enumlist = enumerate(list1) # creates a SINGLE USE touple of index/item pair.\n",
    "print(enumlist) # printing it directly doesn't change it. but it doesn't display anything useful."
   ]
  },
  {
   "cell_type": "code",
   "execution_count": 25,
   "id": "04b67944-3d94-4f9f-a312-b6751472de67",
   "metadata": {},
   "outputs": [
    {
     "name": "stdout",
     "output_type": "stream",
     "text": [
      "First.\n",
      "(0, 'A')\n",
      "(1, 'B')\n",
      "(2, 'C')\n",
      "(3, 'D')\n",
      "(4, 'E')\n",
      "It works.\n",
      "\n",
      "Second.\n",
      "It is gone!\n"
     ]
    }
   ],
   "source": [
    "print('First.')\n",
    "for item in enumlist: # iterating through it the first time\n",
    "    print(item)\n",
    "print('It works.')\n",
    "print()\n",
    "print('Second.')\n",
    "for item in enumlist: # iterating through it the second time\n",
    "    print(item)\n",
    "print('It is gone!')"
   ]
  },
  {
   "cell_type": "code",
   "execution_count": 26,
   "id": "1da3b585-6f30-477c-a269-c3dd7ffe42e7",
   "metadata": {},
   "outputs": [
    {
     "name": "stdout",
     "output_type": "stream",
     "text": [
      "[(0, 'A'), (1, 'B'), (2, 'C'), (3, 'D'), (4, 'E')]\n"
     ]
    }
   ],
   "source": [
    "enumlist = list(enumerate(list1)) # similar to zip, you can store enumerate objects as a list of touples.\n",
    "print(enumlist)"
   ]
  },
  {
   "cell_type": "code",
   "execution_count": 27,
   "id": "d0a56191-31a1-4427-9836-bfe29d45f597",
   "metadata": {},
   "outputs": [
    {
     "name": "stdout",
     "output_type": "stream",
     "text": [
      "First.\n",
      "(0, 'A')\n",
      "(1, 'B')\n",
      "(2, 'C')\n",
      "(3, 'D')\n",
      "(4, 'E')\n",
      "It works.\n",
      "\n",
      "Second.\n",
      "(0, 'A')\n",
      "(1, 'B')\n",
      "(2, 'C')\n",
      "(3, 'D')\n",
      "(4, 'E')\n",
      "It still works.\n"
     ]
    }
   ],
   "source": [
    "print('First.')\n",
    "for item in enumlist: # iterating through it the first time\n",
    "    print(item)\n",
    "print('It works.')\n",
    "print()\n",
    "print('Second.')\n",
    "for item in enumlist: # iterating through it the second time\n",
    "    print(item)\n",
    "print('It still works.')"
   ]
  },
  {
   "cell_type": "code",
   "execution_count": 28,
   "id": "8be14f53-8b1b-487d-98fc-73f6e441f336",
   "metadata": {},
   "outputs": [
    {
     "name": "stdout",
     "output_type": "stream",
     "text": [
      "0 /\\ A\n",
      "-\n",
      "1 /\\ B\n",
      "-\n",
      "2 /\\ C\n",
      "-\n",
      "3 /\\ D\n",
      "-\n",
      "4 /\\ E\n",
      "-\n"
     ]
    }
   ],
   "source": [
    "for index, item in enumlist: # you can retrieve the elements of a enumerate object as separate variables.\n",
    "    print(f'{index} /\\\\ {item}')\n",
    "    print('-')"
   ]
  },
  {
   "cell_type": "markdown",
   "id": "e9f829bf-be3b-4cdd-a30b-ec5a7078e431",
   "metadata": {},
   "source": [
    "# DataFrame"
   ]
  },
  {
   "cell_type": "code",
   "execution_count": 5,
   "id": "b11b8a16-c2b7-4354-8032-77a6859f0715",
   "metadata": {},
   "outputs": [],
   "source": [
    "import pandas as pd\n",
    "import numpy as np"
   ]
  },
  {
   "cell_type": "code",
   "execution_count": 23,
   "id": "fe9754d6-3a1e-4060-9000-9ad316eb43fc",
   "metadata": {
    "scrolled": true
   },
   "outputs": [],
   "source": [
    "# Creating Data Sample\n",
    "data1 = ['A', 'B', 'C', 'D', 'E', 'F', 'G', 'H', 'I', 'J', 'K', 'L', 'M', 'N', 'O', 'P', 'Q', 'R', 'S', 'T', 'U', 'V', 'W', 'X', 'Y', 'Z']\n",
    "data2 = [1, 2, 3, 4, 5, 6, 7, 8, 9, 10, 11, 12, 13, 14, 15, 16, 17, 18, 19, 20, 21, 22, 23, 24, 25, 26]\n",
    "data3 = ['X-A1', 'X-B2', 'X-C3', 'X-D4', 'X-E5', 'X-F6', 'X-G7', 'X-H8', 'X-I9', 'X-J10', 'X-K11', 'X-L12', 'X-M13', 'X-N14', 'X-O15', 'X-P16', 'X-Q17', 'X-R18', 'X-S19', 'X-T20', 'X-U21', 'X-V22', 'X-W23', 'X-X24', 'X-Y25', 'X-Z26']"
   ]
  },
  {
   "cell_type": "code",
   "execution_count": 26,
   "id": "d5eca01e-7ee1-4601-817a-d1cdf49cb048",
   "metadata": {
    "scrolled": true
   },
   "outputs": [
    {
     "data": {
      "text/plain": [
       "0     A\n",
       "1     B\n",
       "2     C\n",
       "3     D\n",
       "4     E\n",
       "5     F\n",
       "6     G\n",
       "7     H\n",
       "8     I\n",
       "9     J\n",
       "10    K\n",
       "11    L\n",
       "12    M\n",
       "13    N\n",
       "14    O\n",
       "15    P\n",
       "16    Q\n",
       "17    R\n",
       "18    S\n",
       "19    T\n",
       "20    U\n",
       "21    V\n",
       "22    W\n",
       "23    X\n",
       "24    Y\n",
       "25    Z\n",
       "Name: Letters, dtype: object"
      ]
     },
     "metadata": {},
     "output_type": "display_data"
    },
    {
     "data": {
      "text/plain": [
       "0      1\n",
       "1      2\n",
       "2      3\n",
       "3      4\n",
       "4      5\n",
       "5      6\n",
       "6      7\n",
       "7      8\n",
       "8      9\n",
       "9     10\n",
       "10    11\n",
       "11    12\n",
       "12    13\n",
       "13    14\n",
       "14    15\n",
       "15    16\n",
       "16    17\n",
       "17    18\n",
       "18    19\n",
       "19    20\n",
       "20    21\n",
       "21    22\n",
       "22    23\n",
       "23    24\n",
       "24    25\n",
       "25    26\n",
       "dtype: int64"
      ]
     },
     "metadata": {},
     "output_type": "display_data"
    },
    {
     "data": {
      "text/plain": [
       "1      X-A1\n",
       "2      X-B2\n",
       "3      X-C3\n",
       "4      X-D4\n",
       "5      X-E5\n",
       "6      X-F6\n",
       "7      X-G7\n",
       "8      X-H8\n",
       "9      X-I9\n",
       "10    X-J10\n",
       "11    X-K11\n",
       "12    X-L12\n",
       "13    X-M13\n",
       "14    X-N14\n",
       "15    X-O15\n",
       "16    X-P16\n",
       "17    X-Q17\n",
       "18    X-R18\n",
       "19    X-S19\n",
       "20    X-T20\n",
       "21    X-U21\n",
       "22    X-V22\n",
       "23    X-W23\n",
       "24    X-X24\n",
       "25    X-Y25\n",
       "26    X-Z26\n",
       "Name: Mong, dtype: object"
      ]
     },
     "metadata": {},
     "output_type": "display_data"
    }
   ],
   "source": [
    "# Convert Data to Series\n",
    "d1_s = pd.Series(data = data1, name = 'Letters')\n",
    "display(d1_s)\n",
    "d2_s = pd.Series(data = data2)\n",
    "display(d2_s)\n",
    "d3_s = pd.Series(data = data3, name = 'Mong', index = data2)\n",
    "display(d3_s)"
   ]
  },
  {
   "cell_type": "code",
   "execution_count": 27,
   "id": "3e7cf934-3b3b-4e27-b89a-2546217429b8",
   "metadata": {
    "scrolled": true
   },
   "outputs": [
    {
     "data": {
      "text/html": [
       "<div>\n",
       "<style scoped>\n",
       "    .dataframe tbody tr th:only-of-type {\n",
       "        vertical-align: middle;\n",
       "    }\n",
       "\n",
       "    .dataframe tbody tr th {\n",
       "        vertical-align: top;\n",
       "    }\n",
       "\n",
       "    .dataframe thead th {\n",
       "        text-align: right;\n",
       "    }\n",
       "</style>\n",
       "<table border=\"1\" class=\"dataframe\">\n",
       "  <thead>\n",
       "    <tr style=\"text-align: right;\">\n",
       "      <th></th>\n",
       "      <th>Letters</th>\n",
       "      <th>0</th>\n",
       "      <th>Mong</th>\n",
       "    </tr>\n",
       "  </thead>\n",
       "  <tbody>\n",
       "    <tr>\n",
       "      <th>0</th>\n",
       "      <td>A</td>\n",
       "      <td>1.0</td>\n",
       "      <td>NaN</td>\n",
       "    </tr>\n",
       "    <tr>\n",
       "      <th>1</th>\n",
       "      <td>B</td>\n",
       "      <td>2.0</td>\n",
       "      <td>X-A1</td>\n",
       "    </tr>\n",
       "    <tr>\n",
       "      <th>2</th>\n",
       "      <td>C</td>\n",
       "      <td>3.0</td>\n",
       "      <td>X-B2</td>\n",
       "    </tr>\n",
       "    <tr>\n",
       "      <th>3</th>\n",
       "      <td>D</td>\n",
       "      <td>4.0</td>\n",
       "      <td>X-C3</td>\n",
       "    </tr>\n",
       "    <tr>\n",
       "      <th>4</th>\n",
       "      <td>E</td>\n",
       "      <td>5.0</td>\n",
       "      <td>X-D4</td>\n",
       "    </tr>\n",
       "    <tr>\n",
       "      <th>5</th>\n",
       "      <td>F</td>\n",
       "      <td>6.0</td>\n",
       "      <td>X-E5</td>\n",
       "    </tr>\n",
       "    <tr>\n",
       "      <th>6</th>\n",
       "      <td>G</td>\n",
       "      <td>7.0</td>\n",
       "      <td>X-F6</td>\n",
       "    </tr>\n",
       "    <tr>\n",
       "      <th>7</th>\n",
       "      <td>H</td>\n",
       "      <td>8.0</td>\n",
       "      <td>X-G7</td>\n",
       "    </tr>\n",
       "    <tr>\n",
       "      <th>8</th>\n",
       "      <td>I</td>\n",
       "      <td>9.0</td>\n",
       "      <td>X-H8</td>\n",
       "    </tr>\n",
       "    <tr>\n",
       "      <th>9</th>\n",
       "      <td>J</td>\n",
       "      <td>10.0</td>\n",
       "      <td>X-I9</td>\n",
       "    </tr>\n",
       "    <tr>\n",
       "      <th>10</th>\n",
       "      <td>K</td>\n",
       "      <td>11.0</td>\n",
       "      <td>X-J10</td>\n",
       "    </tr>\n",
       "    <tr>\n",
       "      <th>11</th>\n",
       "      <td>L</td>\n",
       "      <td>12.0</td>\n",
       "      <td>X-K11</td>\n",
       "    </tr>\n",
       "    <tr>\n",
       "      <th>12</th>\n",
       "      <td>M</td>\n",
       "      <td>13.0</td>\n",
       "      <td>X-L12</td>\n",
       "    </tr>\n",
       "    <tr>\n",
       "      <th>13</th>\n",
       "      <td>N</td>\n",
       "      <td>14.0</td>\n",
       "      <td>X-M13</td>\n",
       "    </tr>\n",
       "    <tr>\n",
       "      <th>14</th>\n",
       "      <td>O</td>\n",
       "      <td>15.0</td>\n",
       "      <td>X-N14</td>\n",
       "    </tr>\n",
       "    <tr>\n",
       "      <th>15</th>\n",
       "      <td>P</td>\n",
       "      <td>16.0</td>\n",
       "      <td>X-O15</td>\n",
       "    </tr>\n",
       "    <tr>\n",
       "      <th>16</th>\n",
       "      <td>Q</td>\n",
       "      <td>17.0</td>\n",
       "      <td>X-P16</td>\n",
       "    </tr>\n",
       "    <tr>\n",
       "      <th>17</th>\n",
       "      <td>R</td>\n",
       "      <td>18.0</td>\n",
       "      <td>X-Q17</td>\n",
       "    </tr>\n",
       "    <tr>\n",
       "      <th>18</th>\n",
       "      <td>S</td>\n",
       "      <td>19.0</td>\n",
       "      <td>X-R18</td>\n",
       "    </tr>\n",
       "    <tr>\n",
       "      <th>19</th>\n",
       "      <td>T</td>\n",
       "      <td>20.0</td>\n",
       "      <td>X-S19</td>\n",
       "    </tr>\n",
       "    <tr>\n",
       "      <th>20</th>\n",
       "      <td>U</td>\n",
       "      <td>21.0</td>\n",
       "      <td>X-T20</td>\n",
       "    </tr>\n",
       "    <tr>\n",
       "      <th>21</th>\n",
       "      <td>V</td>\n",
       "      <td>22.0</td>\n",
       "      <td>X-U21</td>\n",
       "    </tr>\n",
       "    <tr>\n",
       "      <th>22</th>\n",
       "      <td>W</td>\n",
       "      <td>23.0</td>\n",
       "      <td>X-V22</td>\n",
       "    </tr>\n",
       "    <tr>\n",
       "      <th>23</th>\n",
       "      <td>X</td>\n",
       "      <td>24.0</td>\n",
       "      <td>X-W23</td>\n",
       "    </tr>\n",
       "    <tr>\n",
       "      <th>24</th>\n",
       "      <td>Y</td>\n",
       "      <td>25.0</td>\n",
       "      <td>X-X24</td>\n",
       "    </tr>\n",
       "    <tr>\n",
       "      <th>25</th>\n",
       "      <td>Z</td>\n",
       "      <td>26.0</td>\n",
       "      <td>X-Y25</td>\n",
       "    </tr>\n",
       "    <tr>\n",
       "      <th>26</th>\n",
       "      <td>NaN</td>\n",
       "      <td>NaN</td>\n",
       "      <td>X-Z26</td>\n",
       "    </tr>\n",
       "  </tbody>\n",
       "</table>\n",
       "</div>"
      ],
      "text/plain": [
       "   Letters     0   Mong\n",
       "0        A   1.0    NaN\n",
       "1        B   2.0   X-A1\n",
       "2        C   3.0   X-B2\n",
       "3        D   4.0   X-C3\n",
       "4        E   5.0   X-D4\n",
       "5        F   6.0   X-E5\n",
       "6        G   7.0   X-F6\n",
       "7        H   8.0   X-G7\n",
       "8        I   9.0   X-H8\n",
       "9        J  10.0   X-I9\n",
       "10       K  11.0  X-J10\n",
       "11       L  12.0  X-K11\n",
       "12       M  13.0  X-L12\n",
       "13       N  14.0  X-M13\n",
       "14       O  15.0  X-N14\n",
       "15       P  16.0  X-O15\n",
       "16       Q  17.0  X-P16\n",
       "17       R  18.0  X-Q17\n",
       "18       S  19.0  X-R18\n",
       "19       T  20.0  X-S19\n",
       "20       U  21.0  X-T20\n",
       "21       V  22.0  X-U21\n",
       "22       W  23.0  X-V22\n",
       "23       X  24.0  X-W23\n",
       "24       Y  25.0  X-X24\n",
       "25       Z  26.0  X-Y25\n",
       "26     NaN   NaN  X-Z26"
      ]
     },
     "metadata": {},
     "output_type": "display_data"
    }
   ],
   "source": [
    "# Convert Series to DataFrame\n",
    "data_df = pd.concat([d1_s, d2_s, d3_s], axis = 1)\n",
    "display(data_df)"
   ]
  },
  {
   "cell_type": "markdown",
   "id": "23392873-a4c7-4dcc-b01c-d1c7286447b4",
   "metadata": {
    "jp-MarkdownHeadingCollapsed": true
   },
   "source": [
    "# "
   ]
  },
  {
   "cell_type": "markdown",
   "id": "289c7a60-b391-4748-86ca-13e017be7f24",
   "metadata": {
    "jp-MarkdownHeadingCollapsed": true
   },
   "source": [
    "# EOF"
   ]
  },
  {
   "cell_type": "code",
   "execution_count": 29,
   "id": "6494f74a-78fa-43b8-8e95-a9868b05b1ae",
   "metadata": {},
   "outputs": [
    {
     "name": "stdout",
     "output_type": "stream",
     "text": [
      "No Err\n"
     ]
    }
   ],
   "source": [
    "# We print something at the end of the file to understand that the code ran without encountering fatal errors.\n",
    "print('No Err')"
   ]
  }
 ],
 "metadata": {
  "kernelspec": {
   "display_name": "Python 3 (ipykernel)",
   "language": "python",
   "name": "python3"
  },
  "language_info": {
   "codemirror_mode": {
    "name": "ipython",
    "version": 3
   },
   "file_extension": ".py",
   "mimetype": "text/x-python",
   "name": "python",
   "nbconvert_exporter": "python",
   "pygments_lexer": "ipython3",
   "version": "3.11.9"
  }
 },
 "nbformat": 4,
 "nbformat_minor": 5
}
