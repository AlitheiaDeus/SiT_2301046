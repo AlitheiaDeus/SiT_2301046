{
 "cells": [
  {
   "cell_type": "markdown",
   "id": "9a7e6cf5-192c-42aa-80c2-b228343c3f68",
   "metadata": {},
   "source": [
    "## Import Basic Libraries"
   ]
  },
  {
   "cell_type": "code",
   "execution_count": 1,
   "id": "74e54dfa-f244-4bfb-81b6-4ee00b1cfdc4",
   "metadata": {},
   "outputs": [],
   "source": [
    "from math import pi"
   ]
  },
  {
   "cell_type": "markdown",
   "id": "2072c22c-94a4-4897-bb7b-fbfb70313a06",
   "metadata": {},
   "source": [
    "## Import Special Libraries"
   ]
  },
  {
   "cell_type": "code",
   "execution_count": 2,
   "id": "516980ac-12a6-4ab2-851a-11a227af549b",
   "metadata": {},
   "outputs": [],
   "source": [
    "import pandas as pd\n",
    "import numpy as np\n",
    "import matplotlib.pyplot as plt\n",
    "import myFunk as funk"
   ]
  },
  {
   "cell_type": "markdown",
   "id": "992c256f-dd1f-4eeb-98fc-dce1b483a0e5",
   "metadata": {},
   "source": [
    "## Load Data"
   ]
  },
  {
   "cell_type": "code",
   "execution_count": 3,
   "id": "e3b13586-c064-41fd-af79-3d5144726cc4",
   "metadata": {
    "scrolled": true
   },
   "outputs": [
    {
     "data": {
      "text/html": [
       "<div>\n",
       "<style scoped>\n",
       "    .dataframe tbody tr th:only-of-type {\n",
       "        vertical-align: middle;\n",
       "    }\n",
       "\n",
       "    .dataframe tbody tr th {\n",
       "        vertical-align: top;\n",
       "    }\n",
       "\n",
       "    .dataframe thead th {\n",
       "        text-align: right;\n",
       "    }\n",
       "</style>\n",
       "<table border=\"1\" class=\"dataframe\">\n",
       "  <thead>\n",
       "    <tr style=\"text-align: right;\">\n",
       "      <th></th>\n",
       "      <th>Prj</th>\n",
       "      <th>Rejected</th>\n",
       "      <th>Total</th>\n",
       "    </tr>\n",
       "  </thead>\n",
       "  <tbody>\n",
       "    <tr>\n",
       "      <th>0</th>\n",
       "      <td>1</td>\n",
       "      <td>94</td>\n",
       "      <td>1181</td>\n",
       "    </tr>\n",
       "    <tr>\n",
       "      <th>1</th>\n",
       "      <td>2</td>\n",
       "      <td>86</td>\n",
       "      <td>1320</td>\n",
       "    </tr>\n",
       "    <tr>\n",
       "      <th>2</th>\n",
       "      <td>3</td>\n",
       "      <td>114</td>\n",
       "      <td>1685</td>\n",
       "    </tr>\n",
       "    <tr>\n",
       "      <th>3</th>\n",
       "      <td>4</td>\n",
       "      <td>123</td>\n",
       "      <td>1712</td>\n",
       "    </tr>\n",
       "    <tr>\n",
       "      <th>4</th>\n",
       "      <td>5</td>\n",
       "      <td>97</td>\n",
       "      <td>1527</td>\n",
       "    </tr>\n",
       "    <tr>\n",
       "      <th>5</th>\n",
       "      <td>6</td>\n",
       "      <td>80</td>\n",
       "      <td>1269</td>\n",
       "    </tr>\n",
       "    <tr>\n",
       "      <th>6</th>\n",
       "      <td>7</td>\n",
       "      <td>82</td>\n",
       "      <td>1141</td>\n",
       "    </tr>\n",
       "    <tr>\n",
       "      <th>7</th>\n",
       "      <td>8</td>\n",
       "      <td>77</td>\n",
       "      <td>1103</td>\n",
       "    </tr>\n",
       "    <tr>\n",
       "      <th>8</th>\n",
       "      <td>9</td>\n",
       "      <td>96</td>\n",
       "      <td>1535</td>\n",
       "    </tr>\n",
       "    <tr>\n",
       "      <th>9</th>\n",
       "      <td>10</td>\n",
       "      <td>106</td>\n",
       "      <td>1590</td>\n",
       "    </tr>\n",
       "    <tr>\n",
       "      <th>10</th>\n",
       "      <td>11</td>\n",
       "      <td>121</td>\n",
       "      <td>1608</td>\n",
       "    </tr>\n",
       "    <tr>\n",
       "      <th>11</th>\n",
       "      <td>12</td>\n",
       "      <td>78</td>\n",
       "      <td>1205</td>\n",
       "    </tr>\n",
       "    <tr>\n",
       "      <th>12</th>\n",
       "      <td>13</td>\n",
       "      <td>62</td>\n",
       "      <td>1033</td>\n",
       "    </tr>\n",
       "    <tr>\n",
       "      <th>13</th>\n",
       "      <td>14</td>\n",
       "      <td>91</td>\n",
       "      <td>1415</td>\n",
       "    </tr>\n",
       "    <tr>\n",
       "      <th>14</th>\n",
       "      <td>15</td>\n",
       "      <td>117</td>\n",
       "      <td>1735</td>\n",
       "    </tr>\n",
       "    <tr>\n",
       "      <th>15</th>\n",
       "      <td>16</td>\n",
       "      <td>119</td>\n",
       "      <td>1860</td>\n",
       "    </tr>\n",
       "    <tr>\n",
       "      <th>16</th>\n",
       "      <td>17</td>\n",
       "      <td>128</td>\n",
       "      <td>1825</td>\n",
       "    </tr>\n",
       "    <tr>\n",
       "      <th>17</th>\n",
       "      <td>18</td>\n",
       "      <td>91</td>\n",
       "      <td>1512</td>\n",
       "    </tr>\n",
       "    <tr>\n",
       "      <th>18</th>\n",
       "      <td>19</td>\n",
       "      <td>116</td>\n",
       "      <td>1624</td>\n",
       "    </tr>\n",
       "    <tr>\n",
       "      <th>19</th>\n",
       "      <td>20</td>\n",
       "      <td>86</td>\n",
       "      <td>1242</td>\n",
       "    </tr>\n",
       "    <tr>\n",
       "      <th>20</th>\n",
       "      <td>21</td>\n",
       "      <td>108</td>\n",
       "      <td>1630</td>\n",
       "    </tr>\n",
       "    <tr>\n",
       "      <th>21</th>\n",
       "      <td>22</td>\n",
       "      <td>85</td>\n",
       "      <td>1246</td>\n",
       "    </tr>\n",
       "    <tr>\n",
       "      <th>22</th>\n",
       "      <td>23</td>\n",
       "      <td>86</td>\n",
       "      <td>1369</td>\n",
       "    </tr>\n",
       "    <tr>\n",
       "      <th>23</th>\n",
       "      <td>24</td>\n",
       "      <td>83</td>\n",
       "      <td>1277</td>\n",
       "    </tr>\n",
       "    <tr>\n",
       "      <th>24</th>\n",
       "      <td>25</td>\n",
       "      <td>73</td>\n",
       "      <td>995</td>\n",
       "    </tr>\n",
       "    <tr>\n",
       "      <th>25</th>\n",
       "      <td>26</td>\n",
       "      <td>123</td>\n",
       "      <td>1658</td>\n",
       "    </tr>\n",
       "    <tr>\n",
       "      <th>26</th>\n",
       "      <td>27</td>\n",
       "      <td>131</td>\n",
       "      <td>2059</td>\n",
       "    </tr>\n",
       "    <tr>\n",
       "      <th>27</th>\n",
       "      <td>28</td>\n",
       "      <td>106</td>\n",
       "      <td>1670</td>\n",
       "    </tr>\n",
       "    <tr>\n",
       "      <th>28</th>\n",
       "      <td>29</td>\n",
       "      <td>93</td>\n",
       "      <td>1274</td>\n",
       "    </tr>\n",
       "    <tr>\n",
       "      <th>29</th>\n",
       "      <td>30</td>\n",
       "      <td>70</td>\n",
       "      <td>1089</td>\n",
       "    </tr>\n",
       "  </tbody>\n",
       "</table>\n",
       "</div>"
      ],
      "text/plain": [
       "    Prj  Rejected  Total\n",
       "0     1        94   1181\n",
       "1     2        86   1320\n",
       "2     3       114   1685\n",
       "3     4       123   1712\n",
       "4     5        97   1527\n",
       "5     6        80   1269\n",
       "6     7        82   1141\n",
       "7     8        77   1103\n",
       "8     9        96   1535\n",
       "9    10       106   1590\n",
       "10   11       121   1608\n",
       "11   12        78   1205\n",
       "12   13        62   1033\n",
       "13   14        91   1415\n",
       "14   15       117   1735\n",
       "15   16       119   1860\n",
       "16   17       128   1825\n",
       "17   18        91   1512\n",
       "18   19       116   1624\n",
       "19   20        86   1242\n",
       "20   21       108   1630\n",
       "21   22        85   1246\n",
       "22   23        86   1369\n",
       "23   24        83   1277\n",
       "24   25        73    995\n",
       "25   26       123   1658\n",
       "26   27       131   2059\n",
       "27   28       106   1670\n",
       "28   29        93   1274\n",
       "29   30        70   1089"
      ]
     },
     "execution_count": 3,
     "metadata": {},
     "output_type": "execute_result"
    }
   ],
   "source": [
    "df = pd.read_csv('data_scatter_plot.csv')\n",
    "\n",
    "df"
   ]
  },
  {
   "cell_type": "markdown",
   "id": "45983402-c14b-4e06-8e19-2d641dd04154",
   "metadata": {},
   "source": [
    "## Overview"
   ]
  },
  {
   "cell_type": "code",
   "execution_count": 4,
   "id": "7e377e74-190b-484c-b1a3-c1d5e04a9cd0",
   "metadata": {
    "scrolled": true
   },
   "outputs": [
    {
     "data": {
      "text/plain": [
       "(30, 3)"
      ]
     },
     "execution_count": 4,
     "metadata": {},
     "output_type": "execute_result"
    }
   ],
   "source": [
    "df.shape"
   ]
  },
  {
   "cell_type": "code",
   "execution_count": 5,
   "id": "459578e7-0651-4128-9d4e-5d5b4d6dcda5",
   "metadata": {},
   "outputs": [
    {
     "data": {
      "text/plain": [
       "Index(['Prj', 'Rejected', 'Total'], dtype='object')"
      ]
     },
     "execution_count": 5,
     "metadata": {},
     "output_type": "execute_result"
    }
   ],
   "source": [
    "df.columns"
   ]
  },
  {
   "cell_type": "markdown",
   "id": "ad6b6ae0-9ff0-4e1c-91d6-7a88787d0e57",
   "metadata": {},
   "source": [
    "## Plotting original"
   ]
  },
  {
   "cell_type": "code",
   "execution_count": 6,
   "id": "9a516e55-ef67-49ce-b4e7-4f89082a0559",
   "metadata": {},
   "outputs": [
    {
     "data": {
      "image/png": "[encoded data removed]",
      "text/plain": [
       "<Figure size 640x480 with 1 Axes>"
      ]
     },
     "metadata": {},
     "output_type": "display_data"
    }
   ],
   "source": [
    "df.plot.scatter(x = 'Total', y = 'Rejected')\n",
    "\n",
    "X = df['Total']\n",
    "Y = df['Rejected']\n",
    "m, b = np.polyfit(X,Y,1)\n",
    "\n",
    "trend_x = trend_x = np.linspace(min(X), max(X), 100)\n",
    "trend_y = m * trend_x + b\n",
    "\n",
    "plt.plot(trend_x, trend_y, color = 'red', label = 'Trendline')\n",
    "\n",
    "plt.show()"
   ]
  },
  {
   "cell_type": "markdown",
   "id": "b7667d8e-1d36-431b-b17d-d4f844f8a5d7",
   "metadata": {},
   "source": [
    "## Plotting relative"
   ]
  },
  {
   "cell_type": "code",
   "execution_count": 7,
   "id": "0809d464-9554-402b-975a-69efbbf36d4b",
   "metadata": {},
   "outputs": [
    {
     "name": "stdout",
     "output_type": "stream",
     "text": [
      "    Prj  Rejected  Total  Percentage Rejected\n",
      "0     1        94   1181             7.959356\n",
      "1     2        86   1320             6.515152\n",
      "2     3       114   1685             6.765579\n",
      "3     4       123   1712             7.184579\n",
      "4     5        97   1527             6.352325\n",
      "5     6        80   1269             6.304177\n",
      "6     7        82   1141             7.186678\n",
      "7     8        77   1103             6.980961\n",
      "8     9        96   1535             6.254072\n",
      "9    10       106   1590             6.666667\n",
      "10   11       121   1608             7.524876\n",
      "11   12        78   1205             6.473029\n",
      "12   13        62   1033             6.001936\n",
      "13   14        91   1415             6.431095\n",
      "14   15       117   1735             6.743516\n",
      "15   16       119   1860             6.397849\n",
      "16   17       128   1825             7.013699\n",
      "17   18        91   1512             6.018519\n",
      "18   19       116   1624             7.142857\n",
      "19   20        86   1242             6.924316\n",
      "20   21       108   1630             6.625767\n",
      "21   22        85   1246             6.821830\n",
      "22   23        86   1369             6.281958\n",
      "23   24        83   1277             6.499608\n",
      "24   25        73    995             7.336683\n",
      "25   26       123   1658             7.418577\n",
      "26   27       131   2059             6.362312\n",
      "27   28       106   1670             6.347305\n",
      "28   29        93   1274             7.299843\n",
      "29   30        70   1089             6.427916\n"
     ]
    },
    {
     "data": {
      "image/png": "[encoded data removed]",
      "text/plain": [
       "<Figure size 640x480 with 1 Axes>"
      ]
     },
     "metadata": {},
     "output_type": "display_data"
    }
   ],
   "source": [
    "df['Percentage Rejected'] = df['Rejected'] * 100 / df['Total']\n",
    "df.plot.scatter(x = 'Total', y = 'Percentage Rejected')\n",
    "\n",
    "print(df)\n",
    "\n",
    "plt.show()"
   ]
  },
  {
   "cell_type": "code",
   "execution_count": null,
   "id": "5df78e4a-f955-460f-9b41-a622f38df35f",
   "metadata": {},
   "outputs": [],
   "source": []
  }
 ],
 "metadata": {
  "kernelspec": {
   "display_name": "Python 3 (ipykernel)",
   "language": "python",
   "name": "python3"
  },
  "language_info": {
   "codemirror_mode": {
    "name": "ipython",
    "version": 3
   },
   "file_extension": ".py",
   "mimetype": "text/x-python",
   "name": "python",
   "nbconvert_exporter": "python",
   "pygments_lexer": "ipython3",
   "version": "3.11.9"
  }
 },
 "nbformat": 4,
 "nbformat_minor": 5
}
