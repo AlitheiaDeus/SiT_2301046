{
 "cells": [
  {
   "cell_type": "markdown",
   "id": "dca63ecc-058e-4552-9246-042dce24a4da",
   "metadata": {},
   "source": [
    "# Import Libraries"
   ]
  },
  {
   "cell_type": "code",
   "execution_count": 1,
   "id": "7e0da9c9-69cc-4019-978d-3ea5f6d45c9a",
   "metadata": {},
   "outputs": [],
   "source": [
    "import pandas as pd\n",
    "import numpy as np\n",
    "import matplotlib.pyplot as plt\n",
    "import seaborn as sns\n",
    "\n",
    "import math\n",
    "from math import pi as PI\n",
    "from IPython.display import display"
   ]
  },
  {
   "cell_type": "markdown",
   "id": "5d41aba0-ccfd-4871-8268-4288cd624faf",
   "metadata": {
    "jp-MarkdownHeadingCollapsed": true
   },
   "source": [
    "# Lesson 1"
   ]
  },
  {
   "cell_type": "markdown",
   "id": "8004a080-f7a6-45c7-801d-d01539cf3882",
   "metadata": {
    "jp-MarkdownHeadingCollapsed": true
   },
   "source": [
    "## Practice 1"
   ]
  },
  {
   "cell_type": "code",
   "execution_count": 2,
   "id": "edcc4999-8bba-4699-b2ab-9376ee7dd672",
   "metadata": {},
   "outputs": [
    {
     "name": "stdout",
     "output_type": "stream",
     "text": [
      "[100, 200]\n",
      "[300, 400]\n",
      "[100, 200, 300, 400]\n",
      "[]\n"
     ]
    }
   ],
   "source": [
    "def appendlist(a, b): # appends cells of b into a\n",
    "    a += b\n",
    "\n",
    "def delmatch(a,b): # using del, remove cells in a if matching b\n",
    "    for i in range(len(a) - 1, -1, -1):  # Iterate backwards to avoid index shifting issues\n",
    "        if a[i] in b:\n",
    "            del a[i]\n",
    "\n",
    "x = [100,200]\n",
    "y = [300,400]\n",
    "\n",
    "print(x)\n",
    "print(y)\n",
    "\n",
    "combi = []\n",
    "\n",
    "combi += x\n",
    "combi += y\n",
    "\n",
    "print(combi)\n",
    "\n",
    "delmatch(combi,x)\n",
    "delmatch(combi,y)\n",
    "\n",
    "print(combi)\n",
    "\n"
   ]
  },
  {
   "cell_type": "markdown",
   "id": "84741478-d2f1-4ced-93ec-2e5907953a0b",
   "metadata": {
    "jp-MarkdownHeadingCollapsed": true
   },
   "source": [
    "## Practice 2"
   ]
  },
  {
   "cell_type": "code",
   "execution_count": 3,
   "id": "0f02767d-6d05-4477-b383-320cdfe3d200",
   "metadata": {},
   "outputs": [
    {
     "name": "stdout",
     "output_type": "stream",
     "text": [
      "prodA\n",
      "prodB \n",
      "prodC \n",
      "prodD\n"
     ]
    }
   ],
   "source": [
    "product_list = [['prodA', 'S1234', 12], ['prodB ', 'S4567', 22], ['prodC ', 'S9999', 18], ['prodD', 'S9999', 35]]\n",
    "\n",
    "for i in product_list:\n",
    "    print(i[0])\n",
    "\n"
   ]
  },
  {
   "cell_type": "markdown",
   "id": "b09da307-0457-4f12-b2ba-d30a8fc4d150",
   "metadata": {
    "jp-MarkdownHeadingCollapsed": true
   },
   "source": [
    "## Practice 3 & 4"
   ]
  },
  {
   "cell_type": "code",
   "execution_count": 4,
   "id": "7b56a9fe-26df-4b55-bee9-d19501539b13",
   "metadata": {},
   "outputs": [
    {
     "name": "stdout",
     "output_type": "stream",
     "text": [
      "[225, 36, 1, 4, 49, 100, 625, 4, 36, 16, 1]\n",
      "99.727\n"
     ]
    }
   ],
   "source": [
    "data = [15, 6, 1, 2, 7, 10, 25, 2, 6, 4, 1]\n",
    "\n",
    "datasqr = []\n",
    "\n",
    "for i in data:\n",
    "    datasqr.append(i ** 2)\n",
    "\n",
    "print(datasqr)\n",
    "\n",
    "sumsqr = 0\n",
    "\n",
    "for i in datasqr:\n",
    "    sumsqr += i\n",
    "\n",
    "print(f'{sumsqr / len(datasqr):.3f}')\n",
    "\n"
   ]
  },
  {
   "cell_type": "markdown",
   "id": "15eab605-bffa-492f-a925-8bc0e1cef7a1",
   "metadata": {
    "jp-MarkdownHeadingCollapsed": true
   },
   "source": [
    "## Practice 5"
   ]
  },
  {
   "cell_type": "code",
   "execution_count": 5,
   "id": "59e50a48-6fff-4daa-be4e-fdb5962ad6ec",
   "metadata": {},
   "outputs": [
    {
     "name": "stdout",
     "output_type": "stream",
     "text": [
      "[2, 12, 75]\n"
     ]
    }
   ],
   "source": [
    "data = [2, -10, 12, -9, 75, 0, -12]\n",
    "\n",
    "dataPositive = []\n",
    "\n",
    "for i in data:\n",
    "    if(i > 0):\n",
    "        dataPositive.append(i)\n",
    "\n",
    "print(dataPositive)\n",
    "\n"
   ]
  },
  {
   "cell_type": "markdown",
   "id": "db0d4b07-5119-4924-a5a8-56f468fb572b",
   "metadata": {
    "jp-MarkdownHeadingCollapsed": true
   },
   "source": [
    "## Practice 6"
   ]
  },
  {
   "cell_type": "code",
   "execution_count": 6,
   "id": "57cd3ec1-ddb9-40f6-bfe9-62a64ebbc9f9",
   "metadata": {},
   "outputs": [
    {
     "name": "stdout",
     "output_type": "stream",
     "text": [
      "125 and 5.398\n"
     ]
    }
   ],
   "source": [
    "def pythSqr(a,b):\n",
    "    return (a ** 2) + (b ** 2)\n",
    "\n",
    "def pythSqrt(a,b):\n",
    "    return (a ** 0.5) + (b ** 0.5)\n",
    "\n",
    "a = 10\n",
    "b = 5\n",
    "\n",
    "print(f'{pythSqr(a,b)} and {pythSqrt(a,b):.3f}')\n",
    "\n"
   ]
  },
  {
   "cell_type": "markdown",
   "id": "ab05b300-0e4e-4f79-b0f6-a7c0919b538f",
   "metadata": {
    "jp-MarkdownHeadingCollapsed": true
   },
   "source": [
    "# Lesson 2"
   ]
  },
  {
   "cell_type": "markdown",
   "id": "b4bdc75a-2fb4-4ec5-9b62-7bc33f89770f",
   "metadata": {
    "jp-MarkdownHeadingCollapsed": true
   },
   "source": [
    "## Practice 1"
   ]
  },
  {
   "cell_type": "code",
   "execution_count": 7,
   "id": "4feffda2-13af-4698-a694-2c52568f739d",
   "metadata": {},
   "outputs": [
    {
     "data": {
      "text/plain": [
       "100    1.50\n",
       "200    2.50\n",
       "300    0.75\n",
       "400    3.50\n",
       "dtype: float64"
      ]
     },
     "metadata": {},
     "output_type": "display_data"
    }
   ],
   "source": [
    "data = pd.Series([1.5, 2.5, 0.75, 3.5],index = ['100', '200', '300', '400'])\n",
    "\n",
    "display(data)"
   ]
  },
  {
   "cell_type": "code",
   "execution_count": 8,
   "id": "8bcfa033-c939-493b-bbcf-2b9aecce7497",
   "metadata": {},
   "outputs": [
    {
     "data": {
      "text/plain": [
       "2.5"
      ]
     },
     "metadata": {},
     "output_type": "display_data"
    }
   ],
   "source": [
    "display(data['200'])"
   ]
  },
  {
   "cell_type": "code",
   "execution_count": 9,
   "id": "cd42129a-9674-44e7-a8b0-215ab0348c94",
   "metadata": {},
   "outputs": [
    {
     "data": {
      "text/plain": [
       "100    1.50\n",
       "200    2.50\n",
       "300    0.75\n",
       "400    3.50\n",
       "500    4.50\n",
       "dtype: float64"
      ]
     },
     "metadata": {},
     "output_type": "display_data"
    }
   ],
   "source": [
    "data['500'] = 4.5\n",
    "display(data)"
   ]
  },
  {
   "cell_type": "code",
   "execution_count": 10,
   "id": "4caf28f1-4d03-434b-bfc4-a605946375ed",
   "metadata": {},
   "outputs": [
    {
     "data": {
      "text/plain": [
       "200    2.50\n",
       "300    0.75\n",
       "400    3.50\n",
       "dtype: float64"
      ]
     },
     "metadata": {},
     "output_type": "display_data"
    }
   ],
   "source": [
    "display(data['200':'400'])"
   ]
  },
  {
   "cell_type": "code",
   "execution_count": 11,
   "id": "b3063237-ff35-4e59-a7f4-554048e1b2f2",
   "metadata": {},
   "outputs": [
    {
     "data": {
      "text/plain": [
       "200    2.5\n",
       "400    3.5\n",
       "dtype: float64"
      ]
     },
     "metadata": {},
     "output_type": "display_data"
    }
   ],
   "source": [
    "display(data[(data > 2) & (data <= 3.5)])"
   ]
  },
  {
   "cell_type": "code",
   "execution_count": 12,
   "id": "1ae7539f-9854-424e-a703-98c210139ffe",
   "metadata": {},
   "outputs": [
    {
     "data": {
      "text/plain": [
       "100    1.50\n",
       "300    0.75\n",
       "400    3.50\n",
       "500    4.50\n",
       "dtype: float64"
      ]
     },
     "metadata": {},
     "output_type": "display_data"
    }
   ],
   "source": [
    "del data['200']\n",
    "\n",
    "display(data)"
   ]
  },
  {
   "cell_type": "markdown",
   "id": "2dac18c0-2a80-4c04-a059-b71bd5c605d2",
   "metadata": {
    "jp-MarkdownHeadingCollapsed": true
   },
   "source": [
    "## Practice 2"
   ]
  },
  {
   "cell_type": "code",
   "execution_count": 13,
   "id": "96d8778f-a4c5-41c2-bf97-5123a43dea0d",
   "metadata": {},
   "outputs": [
    {
     "data": {
      "text/html": [
       "<div>\n",
       "<style scoped>\n",
       "    .dataframe tbody tr th:only-of-type {\n",
       "        vertical-align: middle;\n",
       "    }\n",
       "\n",
       "    .dataframe tbody tr th {\n",
       "        vertical-align: top;\n",
       "    }\n",
       "\n",
       "    .dataframe thead th {\n",
       "        text-align: right;\n",
       "    }\n",
       "</style>\n",
       "<table border=\"1\" class=\"dataframe\">\n",
       "  <thead>\n",
       "    <tr style=\"text-align: right;\">\n",
       "      <th></th>\n",
       "      <th>Name</th>\n",
       "      <th>Produced_Qty</th>\n",
       "      <th>Passed_Qty</th>\n",
       "    </tr>\n",
       "  </thead>\n",
       "  <tbody>\n",
       "    <tr>\n",
       "      <th>0</th>\n",
       "      <td>Product A</td>\n",
       "      <td>523967</td>\n",
       "      <td>499768</td>\n",
       "    </tr>\n",
       "    <tr>\n",
       "      <th>1</th>\n",
       "      <td>Product B</td>\n",
       "      <td>795662</td>\n",
       "      <td>756662</td>\n",
       "    </tr>\n",
       "    <tr>\n",
       "      <th>2</th>\n",
       "      <td>Product C</td>\n",
       "      <td>341297</td>\n",
       "      <td>301297</td>\n",
       "    </tr>\n",
       "  </tbody>\n",
       "</table>\n",
       "</div>"
      ],
      "text/plain": [
       "        Name  Produced_Qty  Passed_Qty\n",
       "0  Product A        523967      499768\n",
       "1  Product B        795662      756662\n",
       "2  Product C        341297      301297"
      ]
     },
     "metadata": {},
     "output_type": "display_data"
    }
   ],
   "source": [
    "df = pd.DataFrame({'Name':['Product A', 'Product B', 'Product C'], \n",
    "                  'Produced_Qty':[523967, 795662, 341297], \n",
    "                  'Passed_Qty':[499768, 756662, 301297]})\n",
    "\n",
    "display(df)"
   ]
  },
  {
   "cell_type": "code",
   "execution_count": 14,
   "id": "3a0a6cd4-a26f-4ae5-9673-637d0a16b7b4",
   "metadata": {},
   "outputs": [
    {
     "data": {
      "text/plain": [
       "0    523967\n",
       "1    795662\n",
       "2    341297\n",
       "Name: Produced_Qty, dtype: int64"
      ]
     },
     "metadata": {},
     "output_type": "display_data"
    }
   ],
   "source": [
    "display(df['Produced_Qty'])"
   ]
  },
  {
   "cell_type": "code",
   "execution_count": 15,
   "id": "cdadaa3f-b027-4e75-9fe3-69a3a41321ad",
   "metadata": {},
   "outputs": [
    {
     "data": {
      "text/html": [
       "<div>\n",
       "<style scoped>\n",
       "    .dataframe tbody tr th:only-of-type {\n",
       "        vertical-align: middle;\n",
       "    }\n",
       "\n",
       "    .dataframe tbody tr th {\n",
       "        vertical-align: top;\n",
       "    }\n",
       "\n",
       "    .dataframe thead th {\n",
       "        text-align: right;\n",
       "    }\n",
       "</style>\n",
       "<table border=\"1\" class=\"dataframe\">\n",
       "  <thead>\n",
       "    <tr style=\"text-align: right;\">\n",
       "      <th></th>\n",
       "      <th>Name</th>\n",
       "      <th>Produced_Qty</th>\n",
       "      <th>Passed_Qty</th>\n",
       "    </tr>\n",
       "  </thead>\n",
       "  <tbody>\n",
       "    <tr>\n",
       "      <th>0</th>\n",
       "      <td>Product A</td>\n",
       "      <td>523967</td>\n",
       "      <td>499768</td>\n",
       "    </tr>\n",
       "    <tr>\n",
       "      <th>1</th>\n",
       "      <td>Product B</td>\n",
       "      <td>795662</td>\n",
       "      <td>756662</td>\n",
       "    </tr>\n",
       "    <tr>\n",
       "      <th>2</th>\n",
       "      <td>Product C</td>\n",
       "      <td>341297</td>\n",
       "      <td>301297</td>\n",
       "    </tr>\n",
       "    <tr>\n",
       "      <th>3</th>\n",
       "      <td>Product D</td>\n",
       "      <td>457892</td>\n",
       "      <td>417765</td>\n",
       "    </tr>\n",
       "    <tr>\n",
       "      <th>4</th>\n",
       "      <td>Product E</td>\n",
       "      <td>671123</td>\n",
       "      <td>651111</td>\n",
       "    </tr>\n",
       "  </tbody>\n",
       "</table>\n",
       "</div>"
      ],
      "text/plain": [
       "        Name  Produced_Qty  Passed_Qty\n",
       "0  Product A        523967      499768\n",
       "1  Product B        795662      756662\n",
       "2  Product C        341297      301297\n",
       "3  Product D        457892      417765\n",
       "4  Product E        671123      651111"
      ]
     },
     "metadata": {},
     "output_type": "display_data"
    }
   ],
   "source": [
    "df = pd.concat([df, pd.DataFrame({'Name':['Product D', 'Product E'], \n",
    "                  'Produced_Qty':[457892, 671123], \n",
    "                  'Passed_Qty':[417765, 651111]})], ignore_index = True)\n",
    "# dfta = pd.DataFrame(data)\n",
    "\n",
    "# pd.concat([df, dfta])\n",
    "display(df)"
   ]
  },
  {
   "cell_type": "code",
   "execution_count": 16,
   "id": "d22026f6-10ab-48f4-829d-80109b3b7795",
   "metadata": {},
   "outputs": [
    {
     "data": {
      "text/html": [
       "<div>\n",
       "<style scoped>\n",
       "    .dataframe tbody tr th:only-of-type {\n",
       "        vertical-align: middle;\n",
       "    }\n",
       "\n",
       "    .dataframe tbody tr th {\n",
       "        vertical-align: top;\n",
       "    }\n",
       "\n",
       "    .dataframe thead th {\n",
       "        text-align: right;\n",
       "    }\n",
       "</style>\n",
       "<table border=\"1\" class=\"dataframe\">\n",
       "  <thead>\n",
       "    <tr style=\"text-align: right;\">\n",
       "      <th></th>\n",
       "      <th>Name</th>\n",
       "      <th>Produced_Qty</th>\n",
       "      <th>Passed_Qty</th>\n",
       "      <th>Failed_Qty</th>\n",
       "    </tr>\n",
       "  </thead>\n",
       "  <tbody>\n",
       "    <tr>\n",
       "      <th>0</th>\n",
       "      <td>Product A</td>\n",
       "      <td>523967</td>\n",
       "      <td>499768</td>\n",
       "      <td>24199</td>\n",
       "    </tr>\n",
       "    <tr>\n",
       "      <th>1</th>\n",
       "      <td>Product B</td>\n",
       "      <td>795662</td>\n",
       "      <td>756662</td>\n",
       "      <td>39000</td>\n",
       "    </tr>\n",
       "    <tr>\n",
       "      <th>2</th>\n",
       "      <td>Product C</td>\n",
       "      <td>341297</td>\n",
       "      <td>301297</td>\n",
       "      <td>40000</td>\n",
       "    </tr>\n",
       "    <tr>\n",
       "      <th>3</th>\n",
       "      <td>Product D</td>\n",
       "      <td>457892</td>\n",
       "      <td>417765</td>\n",
       "      <td>40127</td>\n",
       "    </tr>\n",
       "    <tr>\n",
       "      <th>4</th>\n",
       "      <td>Product E</td>\n",
       "      <td>671123</td>\n",
       "      <td>651111</td>\n",
       "      <td>20012</td>\n",
       "    </tr>\n",
       "  </tbody>\n",
       "</table>\n",
       "</div>"
      ],
      "text/plain": [
       "        Name  Produced_Qty  Passed_Qty  Failed_Qty\n",
       "0  Product A        523967      499768       24199\n",
       "1  Product B        795662      756662       39000\n",
       "2  Product C        341297      301297       40000\n",
       "3  Product D        457892      417765       40127\n",
       "4  Product E        671123      651111       20012"
      ]
     },
     "metadata": {},
     "output_type": "display_data"
    }
   ],
   "source": [
    "df['Failed_Qty'] = df['Produced_Qty'] - df['Passed_Qty']\n",
    "\n",
    "display(df)"
   ]
  },
  {
   "cell_type": "code",
   "execution_count": 17,
   "id": "6e6bdd77-32cd-4a50-bd66-b47735efab98",
   "metadata": {},
   "outputs": [
    {
     "data": {
      "text/html": [
       "<div>\n",
       "<style scoped>\n",
       "    .dataframe tbody tr th:only-of-type {\n",
       "        vertical-align: middle;\n",
       "    }\n",
       "\n",
       "    .dataframe tbody tr th {\n",
       "        vertical-align: top;\n",
       "    }\n",
       "\n",
       "    .dataframe thead th {\n",
       "        text-align: right;\n",
       "    }\n",
       "</style>\n",
       "<table border=\"1\" class=\"dataframe\">\n",
       "  <thead>\n",
       "    <tr style=\"text-align: right;\">\n",
       "      <th></th>\n",
       "      <th>Name</th>\n",
       "      <th>Produced_Qty</th>\n",
       "      <th>Passed_Qty</th>\n",
       "      <th>Failed_Qty</th>\n",
       "      <th>Failed_Rate</th>\n",
       "    </tr>\n",
       "  </thead>\n",
       "  <tbody>\n",
       "    <tr>\n",
       "      <th>0</th>\n",
       "      <td>Product A</td>\n",
       "      <td>523967</td>\n",
       "      <td>499768</td>\n",
       "      <td>24199</td>\n",
       "      <td>0.046184</td>\n",
       "    </tr>\n",
       "    <tr>\n",
       "      <th>1</th>\n",
       "      <td>Product B</td>\n",
       "      <td>795662</td>\n",
       "      <td>756662</td>\n",
       "      <td>39000</td>\n",
       "      <td>0.049016</td>\n",
       "    </tr>\n",
       "    <tr>\n",
       "      <th>2</th>\n",
       "      <td>Product C</td>\n",
       "      <td>341297</td>\n",
       "      <td>301297</td>\n",
       "      <td>40000</td>\n",
       "      <td>0.117200</td>\n",
       "    </tr>\n",
       "    <tr>\n",
       "      <th>3</th>\n",
       "      <td>Product D</td>\n",
       "      <td>457892</td>\n",
       "      <td>417765</td>\n",
       "      <td>40127</td>\n",
       "      <td>0.087634</td>\n",
       "    </tr>\n",
       "    <tr>\n",
       "      <th>4</th>\n",
       "      <td>Product E</td>\n",
       "      <td>671123</td>\n",
       "      <td>651111</td>\n",
       "      <td>20012</td>\n",
       "      <td>0.029819</td>\n",
       "    </tr>\n",
       "  </tbody>\n",
       "</table>\n",
       "</div>"
      ],
      "text/plain": [
       "        Name  Produced_Qty  Passed_Qty  Failed_Qty  Failed_Rate\n",
       "0  Product A        523967      499768       24199     0.046184\n",
       "1  Product B        795662      756662       39000     0.049016\n",
       "2  Product C        341297      301297       40000     0.117200\n",
       "3  Product D        457892      417765       40127     0.087634\n",
       "4  Product E        671123      651111       20012     0.029819"
      ]
     },
     "metadata": {},
     "output_type": "display_data"
    }
   ],
   "source": [
    "df['Failed_Rate'] = df['Failed_Qty'] / df['Produced_Qty']\n",
    "\n",
    "display(df)"
   ]
  },
  {
   "cell_type": "code",
   "execution_count": 18,
   "id": "aa802810-c4d3-450d-b7e1-3015bc8ac678",
   "metadata": {},
   "outputs": [
    {
     "data": {
      "text/html": [
       "<div>\n",
       "<style scoped>\n",
       "    .dataframe tbody tr th:only-of-type {\n",
       "        vertical-align: middle;\n",
       "    }\n",
       "\n",
       "    .dataframe tbody tr th {\n",
       "        vertical-align: top;\n",
       "    }\n",
       "\n",
       "    .dataframe thead th {\n",
       "        text-align: right;\n",
       "    }\n",
       "</style>\n",
       "<table border=\"1\" class=\"dataframe\">\n",
       "  <thead>\n",
       "    <tr style=\"text-align: right;\">\n",
       "      <th></th>\n",
       "      <th>Name</th>\n",
       "      <th>Produced_Qty</th>\n",
       "      <th>Passed_Qty</th>\n",
       "      <th>Failed_Qty</th>\n",
       "      <th>Failed_Rate</th>\n",
       "    </tr>\n",
       "  </thead>\n",
       "  <tbody>\n",
       "    <tr>\n",
       "      <th>2</th>\n",
       "      <td>Product C</td>\n",
       "      <td>341297</td>\n",
       "      <td>301297</td>\n",
       "      <td>40000</td>\n",
       "      <td>0.1172</td>\n",
       "    </tr>\n",
       "  </tbody>\n",
       "</table>\n",
       "</div>"
      ],
      "text/plain": [
       "        Name  Produced_Qty  Passed_Qty  Failed_Qty  Failed_Rate\n",
       "2  Product C        341297      301297       40000       0.1172"
      ]
     },
     "metadata": {},
     "output_type": "display_data"
    }
   ],
   "source": [
    "display(df[df['Failed_Rate'] > 0.1])"
   ]
  },
  {
   "cell_type": "code",
   "execution_count": 19,
   "id": "32eb9fd9-c2cf-4887-9298-2baff8421271",
   "metadata": {},
   "outputs": [
    {
     "data": {
      "text/html": [
       "<div>\n",
       "<style scoped>\n",
       "    .dataframe tbody tr th:only-of-type {\n",
       "        vertical-align: middle;\n",
       "    }\n",
       "\n",
       "    .dataframe tbody tr th {\n",
       "        vertical-align: top;\n",
       "    }\n",
       "\n",
       "    .dataframe thead th {\n",
       "        text-align: right;\n",
       "    }\n",
       "</style>\n",
       "<table border=\"1\" class=\"dataframe\">\n",
       "  <thead>\n",
       "    <tr style=\"text-align: right;\">\n",
       "      <th></th>\n",
       "      <th>Name</th>\n",
       "      <th>Produced_Qty</th>\n",
       "      <th>Passed_Qty</th>\n",
       "      <th>Failed_Qty</th>\n",
       "      <th>Failed_Rate</th>\n",
       "    </tr>\n",
       "  </thead>\n",
       "  <tbody>\n",
       "    <tr>\n",
       "      <th>0</th>\n",
       "      <td>Product A</td>\n",
       "      <td>523967</td>\n",
       "      <td>512367</td>\n",
       "      <td>11600</td>\n",
       "      <td>0.022139</td>\n",
       "    </tr>\n",
       "    <tr>\n",
       "      <th>1</th>\n",
       "      <td>Product B</td>\n",
       "      <td>795662</td>\n",
       "      <td>756662</td>\n",
       "      <td>39000</td>\n",
       "      <td>0.049016</td>\n",
       "    </tr>\n",
       "    <tr>\n",
       "      <th>2</th>\n",
       "      <td>Product C</td>\n",
       "      <td>341297</td>\n",
       "      <td>301297</td>\n",
       "      <td>40000</td>\n",
       "      <td>0.117200</td>\n",
       "    </tr>\n",
       "    <tr>\n",
       "      <th>3</th>\n",
       "      <td>Product D</td>\n",
       "      <td>457892</td>\n",
       "      <td>417765</td>\n",
       "      <td>40127</td>\n",
       "      <td>0.087634</td>\n",
       "    </tr>\n",
       "    <tr>\n",
       "      <th>4</th>\n",
       "      <td>Product E</td>\n",
       "      <td>671123</td>\n",
       "      <td>651111</td>\n",
       "      <td>20012</td>\n",
       "      <td>0.029819</td>\n",
       "    </tr>\n",
       "  </tbody>\n",
       "</table>\n",
       "</div>"
      ],
      "text/plain": [
       "        Name  Produced_Qty  Passed_Qty  Failed_Qty  Failed_Rate\n",
       "0  Product A        523967      512367       11600     0.022139\n",
       "1  Product B        795662      756662       39000     0.049016\n",
       "2  Product C        341297      301297       40000     0.117200\n",
       "3  Product D        457892      417765       40127     0.087634\n",
       "4  Product E        671123      651111       20012     0.029819"
      ]
     },
     "metadata": {},
     "output_type": "display_data"
    }
   ],
   "source": [
    "df.loc[df['Name'] == 'Product A', 'Passed_Qty'] = 512367\n",
    "\n",
    "df['Failed_Qty'] = df['Produced_Qty'] - df['Passed_Qty']\n",
    "df['Failed_Rate'] = df['Failed_Qty'] / df['Produced_Qty']\n",
    "\n",
    "display(df)"
   ]
  },
  {
   "cell_type": "code",
   "execution_count": 20,
   "id": "1e2e3f90-ab90-49bc-8dc1-f861b9212b5c",
   "metadata": {},
   "outputs": [
    {
     "data": {
      "text/html": [
       "<div>\n",
       "<style scoped>\n",
       "    .dataframe tbody tr th:only-of-type {\n",
       "        vertical-align: middle;\n",
       "    }\n",
       "\n",
       "    .dataframe tbody tr th {\n",
       "        vertical-align: top;\n",
       "    }\n",
       "\n",
       "    .dataframe thead th {\n",
       "        text-align: right;\n",
       "    }\n",
       "</style>\n",
       "<table border=\"1\" class=\"dataframe\">\n",
       "  <thead>\n",
       "    <tr style=\"text-align: right;\">\n",
       "      <th></th>\n",
       "      <th>Name</th>\n",
       "      <th>Produced_Qty</th>\n",
       "      <th>Passed_Qty</th>\n",
       "      <th>Failed_Qty</th>\n",
       "      <th>Failed_Rate</th>\n",
       "    </tr>\n",
       "  </thead>\n",
       "  <tbody>\n",
       "    <tr>\n",
       "      <th>0</th>\n",
       "      <td>Product A</td>\n",
       "      <td>523967</td>\n",
       "      <td>512367</td>\n",
       "      <td>11600</td>\n",
       "      <td>0.022139</td>\n",
       "    </tr>\n",
       "    <tr>\n",
       "      <th>2</th>\n",
       "      <td>Product C</td>\n",
       "      <td>341297</td>\n",
       "      <td>301297</td>\n",
       "      <td>40000</td>\n",
       "      <td>0.117200</td>\n",
       "    </tr>\n",
       "    <tr>\n",
       "      <th>3</th>\n",
       "      <td>Product D</td>\n",
       "      <td>457892</td>\n",
       "      <td>417765</td>\n",
       "      <td>40127</td>\n",
       "      <td>0.087634</td>\n",
       "    </tr>\n",
       "    <tr>\n",
       "      <th>4</th>\n",
       "      <td>Product E</td>\n",
       "      <td>671123</td>\n",
       "      <td>651111</td>\n",
       "      <td>20012</td>\n",
       "      <td>0.029819</td>\n",
       "    </tr>\n",
       "  </tbody>\n",
       "</table>\n",
       "</div>"
      ],
      "text/plain": [
       "        Name  Produced_Qty  Passed_Qty  Failed_Qty  Failed_Rate\n",
       "0  Product A        523967      512367       11600     0.022139\n",
       "2  Product C        341297      301297       40000     0.117200\n",
       "3  Product D        457892      417765       40127     0.087634\n",
       "4  Product E        671123      651111       20012     0.029819"
      ]
     },
     "metadata": {},
     "output_type": "display_data"
    }
   ],
   "source": [
    "df.drop(df[df['Name'] == 'Product B'].index, inplace = True)\n",
    "\n",
    "display(df)"
   ]
  },
  {
   "cell_type": "markdown",
   "id": "34fb1470-d4d3-4dfa-92c7-b4a20d2c2325",
   "metadata": {
    "jp-MarkdownHeadingCollapsed": true
   },
   "source": [
    "## Practice 3"
   ]
  },
  {
   "cell_type": "code",
   "execution_count": 21,
   "id": "b031df14-891c-4079-a787-25e9e4479edd",
   "metadata": {},
   "outputs": [
    {
     "data": {
      "text/html": [
       "<div>\n",
       "<style scoped>\n",
       "    .dataframe tbody tr th:only-of-type {\n",
       "        vertical-align: middle;\n",
       "    }\n",
       "\n",
       "    .dataframe tbody tr th {\n",
       "        vertical-align: top;\n",
       "    }\n",
       "\n",
       "    .dataframe thead th {\n",
       "        text-align: right;\n",
       "    }\n",
       "</style>\n",
       "<table border=\"1\" class=\"dataframe\">\n",
       "  <thead>\n",
       "    <tr style=\"text-align: right;\">\n",
       "      <th></th>\n",
       "      <th>Week</th>\n",
       "      <th>Produced Qty</th>\n",
       "      <th>Passed Qty</th>\n",
       "    </tr>\n",
       "  </thead>\n",
       "  <tbody>\n",
       "    <tr>\n",
       "      <th>0</th>\n",
       "      <td>Week1</td>\n",
       "      <td>533967.0</td>\n",
       "      <td>529768.0</td>\n",
       "    </tr>\n",
       "    <tr>\n",
       "      <th>1</th>\n",
       "      <td>Week2</td>\n",
       "      <td>565662.0</td>\n",
       "      <td>NaN</td>\n",
       "    </tr>\n",
       "    <tr>\n",
       "      <th>2</th>\n",
       "      <td>Week3</td>\n",
       "      <td>NaN</td>\n",
       "      <td>501297.0</td>\n",
       "    </tr>\n",
       "    <tr>\n",
       "      <th>3</th>\n",
       "      <td>Week4</td>\n",
       "      <td>557892.0</td>\n",
       "      <td>517765.0</td>\n",
       "    </tr>\n",
       "    <tr>\n",
       "      <th>4</th>\n",
       "      <td>Week5</td>\n",
       "      <td>571123.0</td>\n",
       "      <td>551111.0</td>\n",
       "    </tr>\n",
       "    <tr>\n",
       "      <th>5</th>\n",
       "      <td>Week6</td>\n",
       "      <td>561123.0</td>\n",
       "      <td>551111.0</td>\n",
       "    </tr>\n",
       "  </tbody>\n",
       "</table>\n",
       "</div>"
      ],
      "text/plain": [
       "    Week  Produced Qty  Passed Qty\n",
       "0  Week1      533967.0    529768.0\n",
       "1  Week2      565662.0         NaN\n",
       "2  Week3           NaN    501297.0\n",
       "3  Week4      557892.0    517765.0\n",
       "4  Week5      571123.0    551111.0\n",
       "5  Week6      561123.0    551111.0"
      ]
     },
     "metadata": {},
     "output_type": "display_data"
    },
    {
     "data": {
      "text/html": [
       "<div>\n",
       "<style scoped>\n",
       "    .dataframe tbody tr th:only-of-type {\n",
       "        vertical-align: middle;\n",
       "    }\n",
       "\n",
       "    .dataframe tbody tr th {\n",
       "        vertical-align: top;\n",
       "    }\n",
       "\n",
       "    .dataframe thead th {\n",
       "        text-align: right;\n",
       "    }\n",
       "</style>\n",
       "<table border=\"1\" class=\"dataframe\">\n",
       "  <thead>\n",
       "    <tr style=\"text-align: right;\">\n",
       "      <th></th>\n",
       "      <th>Week</th>\n",
       "      <th>Machine</th>\n",
       "      <th>Supervisor</th>\n",
       "    </tr>\n",
       "  </thead>\n",
       "  <tbody>\n",
       "    <tr>\n",
       "      <th>0</th>\n",
       "      <td>Week1</td>\n",
       "      <td>Stamping</td>\n",
       "      <td>John</td>\n",
       "    </tr>\n",
       "    <tr>\n",
       "      <th>1</th>\n",
       "      <td>Week2</td>\n",
       "      <td>Stamping</td>\n",
       "      <td>Wilson</td>\n",
       "    </tr>\n",
       "    <tr>\n",
       "      <th>2</th>\n",
       "      <td>Week3</td>\n",
       "      <td>Stamping</td>\n",
       "      <td>John</td>\n",
       "    </tr>\n",
       "    <tr>\n",
       "      <th>3</th>\n",
       "      <td>Week4</td>\n",
       "      <td>Stamping</td>\n",
       "      <td>William</td>\n",
       "    </tr>\n",
       "    <tr>\n",
       "      <th>4</th>\n",
       "      <td>Week5</td>\n",
       "      <td>Stamping</td>\n",
       "      <td>Wilson</td>\n",
       "    </tr>\n",
       "    <tr>\n",
       "      <th>5</th>\n",
       "      <td>Week6</td>\n",
       "      <td>Stamping</td>\n",
       "      <td>William</td>\n",
       "    </tr>\n",
       "  </tbody>\n",
       "</table>\n",
       "</div>"
      ],
      "text/plain": [
       "    Week   Machine Supervisor\n",
       "0  Week1  Stamping       John\n",
       "1  Week2  Stamping     Wilson\n",
       "2  Week3  Stamping       John\n",
       "3  Week4  Stamping    William\n",
       "4  Week5  Stamping     Wilson\n",
       "5  Week6  Stamping    William"
      ]
     },
     "metadata": {},
     "output_type": "display_data"
    }
   ],
   "source": [
    "df1 = pd.DataFrame({'Week':['Week1', 'Week2', 'Week3', 'Week4', 'Week5', 'Week6'], \n",
    "                   'Produced Qty':[533967.0, 565662.0, np.nan,557892.0, 571123.0, 561123.0],\n",
    "                   'Passed Qty':[529768.0, np.nan,501297.0, 517765.0, 551111.0, 551111.0]})\n",
    "\n",
    "display(df1)\n",
    "\n",
    "df2 = pd.DataFrame({'Week':['Week1', 'Week2', 'Week3', 'Week4', 'Week5', 'Week6'],\n",
    "                   'Machine':['Stamping'] * 6,\n",
    "                   'Supervisor':['John', 'Wilson', 'John', 'William', 'Wilson', 'William']})\n",
    "\n",
    "display(df2)"
   ]
  },
  {
   "cell_type": "code",
   "execution_count": 22,
   "id": "6d0811da-e507-457d-a8fd-fcf051d10a5a",
   "metadata": {},
   "outputs": [
    {
     "data": {
      "text/html": [
       "<div>\n",
       "<style scoped>\n",
       "    .dataframe tbody tr th:only-of-type {\n",
       "        vertical-align: middle;\n",
       "    }\n",
       "\n",
       "    .dataframe tbody tr th {\n",
       "        vertical-align: top;\n",
       "    }\n",
       "\n",
       "    .dataframe thead th {\n",
       "        text-align: right;\n",
       "    }\n",
       "</style>\n",
       "<table border=\"1\" class=\"dataframe\">\n",
       "  <thead>\n",
       "    <tr style=\"text-align: right;\">\n",
       "      <th></th>\n",
       "      <th>Week</th>\n",
       "      <th>Produced Qty</th>\n",
       "      <th>Passed Qty</th>\n",
       "    </tr>\n",
       "  </thead>\n",
       "  <tbody>\n",
       "    <tr>\n",
       "      <th>0</th>\n",
       "      <td>Week1</td>\n",
       "      <td>533967.0</td>\n",
       "      <td>529768.0</td>\n",
       "    </tr>\n",
       "    <tr>\n",
       "      <th>1</th>\n",
       "      <td>Week2</td>\n",
       "      <td>565662.0</td>\n",
       "      <td>530210.4</td>\n",
       "    </tr>\n",
       "    <tr>\n",
       "      <th>2</th>\n",
       "      <td>Week3</td>\n",
       "      <td>557953.4</td>\n",
       "      <td>501297.0</td>\n",
       "    </tr>\n",
       "    <tr>\n",
       "      <th>3</th>\n",
       "      <td>Week4</td>\n",
       "      <td>557892.0</td>\n",
       "      <td>517765.0</td>\n",
       "    </tr>\n",
       "    <tr>\n",
       "      <th>4</th>\n",
       "      <td>Week5</td>\n",
       "      <td>571123.0</td>\n",
       "      <td>551111.0</td>\n",
       "    </tr>\n",
       "    <tr>\n",
       "      <th>5</th>\n",
       "      <td>Week6</td>\n",
       "      <td>561123.0</td>\n",
       "      <td>551111.0</td>\n",
       "    </tr>\n",
       "  </tbody>\n",
       "</table>\n",
       "</div>"
      ],
      "text/plain": [
       "    Week  Produced Qty  Passed Qty\n",
       "0  Week1      533967.0    529768.0\n",
       "1  Week2      565662.0    530210.4\n",
       "2  Week3      557953.4    501297.0\n",
       "3  Week4      557892.0    517765.0\n",
       "4  Week5      571123.0    551111.0\n",
       "5  Week6      561123.0    551111.0"
      ]
     },
     "metadata": {},
     "output_type": "display_data"
    }
   ],
   "source": [
    "for col in df1.columns[1:]:\n",
    "    df1[col] = df1[col].fillna(df1[col].mean())\n",
    "\n",
    "# df1['Produced Qty'] = df1['Produced Qty'].fillna(df1['Produced Qty'].mean())\n",
    "# df1['Passed Qty'] = df1['Passed Qty'].fillna(df1['Passed Qty'].mean())\n",
    "\n",
    "display(df1)"
   ]
  },
  {
   "cell_type": "code",
   "execution_count": 23,
   "id": "a7288a08-3f59-420f-bd5f-c28d1264ca45",
   "metadata": {},
   "outputs": [
    {
     "data": {
      "text/html": [
       "<div>\n",
       "<style scoped>\n",
       "    .dataframe tbody tr th:only-of-type {\n",
       "        vertical-align: middle;\n",
       "    }\n",
       "\n",
       "    .dataframe tbody tr th {\n",
       "        vertical-align: top;\n",
       "    }\n",
       "\n",
       "    .dataframe thead th {\n",
       "        text-align: right;\n",
       "    }\n",
       "</style>\n",
       "<table border=\"1\" class=\"dataframe\">\n",
       "  <thead>\n",
       "    <tr style=\"text-align: right;\">\n",
       "      <th></th>\n",
       "      <th>Week</th>\n",
       "      <th>Produced Qty</th>\n",
       "      <th>Passed Qty</th>\n",
       "      <th>Machine</th>\n",
       "      <th>Supervisor</th>\n",
       "    </tr>\n",
       "  </thead>\n",
       "  <tbody>\n",
       "    <tr>\n",
       "      <th>0</th>\n",
       "      <td>Week1</td>\n",
       "      <td>533967.0</td>\n",
       "      <td>529768.0</td>\n",
       "      <td>Stamping</td>\n",
       "      <td>John</td>\n",
       "    </tr>\n",
       "    <tr>\n",
       "      <th>1</th>\n",
       "      <td>Week2</td>\n",
       "      <td>565662.0</td>\n",
       "      <td>530210.4</td>\n",
       "      <td>Stamping</td>\n",
       "      <td>Wilson</td>\n",
       "    </tr>\n",
       "    <tr>\n",
       "      <th>2</th>\n",
       "      <td>Week3</td>\n",
       "      <td>557953.4</td>\n",
       "      <td>501297.0</td>\n",
       "      <td>Stamping</td>\n",
       "      <td>John</td>\n",
       "    </tr>\n",
       "    <tr>\n",
       "      <th>3</th>\n",
       "      <td>Week4</td>\n",
       "      <td>557892.0</td>\n",
       "      <td>517765.0</td>\n",
       "      <td>Stamping</td>\n",
       "      <td>William</td>\n",
       "    </tr>\n",
       "    <tr>\n",
       "      <th>4</th>\n",
       "      <td>Week5</td>\n",
       "      <td>571123.0</td>\n",
       "      <td>551111.0</td>\n",
       "      <td>Stamping</td>\n",
       "      <td>Wilson</td>\n",
       "    </tr>\n",
       "    <tr>\n",
       "      <th>5</th>\n",
       "      <td>Week6</td>\n",
       "      <td>561123.0</td>\n",
       "      <td>551111.0</td>\n",
       "      <td>Stamping</td>\n",
       "      <td>William</td>\n",
       "    </tr>\n",
       "  </tbody>\n",
       "</table>\n",
       "</div>"
      ],
      "text/plain": [
       "    Week  Produced Qty  Passed Qty   Machine Supervisor\n",
       "0  Week1      533967.0    529768.0  Stamping       John\n",
       "1  Week2      565662.0    530210.4  Stamping     Wilson\n",
       "2  Week3      557953.4    501297.0  Stamping       John\n",
       "3  Week4      557892.0    517765.0  Stamping    William\n",
       "4  Week5      571123.0    551111.0  Stamping     Wilson\n",
       "5  Week6      561123.0    551111.0  Stamping    William"
      ]
     },
     "metadata": {},
     "output_type": "display_data"
    }
   ],
   "source": [
    "df = pd.merge(df1, df2, on = 'Week')\n",
    "\n",
    "display(df)"
   ]
  },
  {
   "cell_type": "code",
   "execution_count": 24,
   "id": "76edeb84-a610-41d1-9593-0b44cfe2c62b",
   "metadata": {},
   "outputs": [
    {
     "data": {
      "text/html": [
       "<div>\n",
       "<style scoped>\n",
       "    .dataframe tbody tr th:only-of-type {\n",
       "        vertical-align: middle;\n",
       "    }\n",
       "\n",
       "    .dataframe tbody tr th {\n",
       "        vertical-align: top;\n",
       "    }\n",
       "\n",
       "    .dataframe thead th {\n",
       "        text-align: right;\n",
       "    }\n",
       "</style>\n",
       "<table border=\"1\" class=\"dataframe\">\n",
       "  <thead>\n",
       "    <tr style=\"text-align: right;\">\n",
       "      <th></th>\n",
       "      <th>Week</th>\n",
       "      <th>Produced Qty</th>\n",
       "      <th>Passed Qty</th>\n",
       "      <th>Machine</th>\n",
       "      <th>Supervisor</th>\n",
       "      <th>Passed Rate</th>\n",
       "    </tr>\n",
       "  </thead>\n",
       "  <tbody>\n",
       "    <tr>\n",
       "      <th>0</th>\n",
       "      <td>Week1</td>\n",
       "      <td>533967.0</td>\n",
       "      <td>529768.0</td>\n",
       "      <td>Stamping</td>\n",
       "      <td>John</td>\n",
       "      <td>0.992136</td>\n",
       "    </tr>\n",
       "    <tr>\n",
       "      <th>1</th>\n",
       "      <td>Week2</td>\n",
       "      <td>565662.0</td>\n",
       "      <td>530210.4</td>\n",
       "      <td>Stamping</td>\n",
       "      <td>Wilson</td>\n",
       "      <td>0.937327</td>\n",
       "    </tr>\n",
       "    <tr>\n",
       "      <th>2</th>\n",
       "      <td>Week3</td>\n",
       "      <td>557953.4</td>\n",
       "      <td>501297.0</td>\n",
       "      <td>Stamping</td>\n",
       "      <td>John</td>\n",
       "      <td>0.898457</td>\n",
       "    </tr>\n",
       "    <tr>\n",
       "      <th>3</th>\n",
       "      <td>Week4</td>\n",
       "      <td>557892.0</td>\n",
       "      <td>517765.0</td>\n",
       "      <td>Stamping</td>\n",
       "      <td>William</td>\n",
       "      <td>0.928074</td>\n",
       "    </tr>\n",
       "    <tr>\n",
       "      <th>4</th>\n",
       "      <td>Week5</td>\n",
       "      <td>571123.0</td>\n",
       "      <td>551111.0</td>\n",
       "      <td>Stamping</td>\n",
       "      <td>Wilson</td>\n",
       "      <td>0.964960</td>\n",
       "    </tr>\n",
       "    <tr>\n",
       "      <th>5</th>\n",
       "      <td>Week6</td>\n",
       "      <td>561123.0</td>\n",
       "      <td>551111.0</td>\n",
       "      <td>Stamping</td>\n",
       "      <td>William</td>\n",
       "      <td>0.982157</td>\n",
       "    </tr>\n",
       "  </tbody>\n",
       "</table>\n",
       "</div>"
      ],
      "text/plain": [
       "    Week  Produced Qty  Passed Qty   Machine Supervisor  Passed Rate\n",
       "0  Week1      533967.0    529768.0  Stamping       John     0.992136\n",
       "1  Week2      565662.0    530210.4  Stamping     Wilson     0.937327\n",
       "2  Week3      557953.4    501297.0  Stamping       John     0.898457\n",
       "3  Week4      557892.0    517765.0  Stamping    William     0.928074\n",
       "4  Week5      571123.0    551111.0  Stamping     Wilson     0.964960\n",
       "5  Week6      561123.0    551111.0  Stamping    William     0.982157"
      ]
     },
     "metadata": {},
     "output_type": "display_data"
    }
   ],
   "source": [
    "df['Passed Rate'] = df['Passed Qty'] / df['Produced Qty']\n",
    "\n",
    "display(df)"
   ]
  },
  {
   "cell_type": "code",
   "execution_count": 25,
   "id": "cb355810-501f-4ad8-93b4-708e66949ec3",
   "metadata": {},
   "outputs": [
    {
     "data": {
      "text/html": [
       "<div>\n",
       "<style scoped>\n",
       "    .dataframe tbody tr th:only-of-type {\n",
       "        vertical-align: middle;\n",
       "    }\n",
       "\n",
       "    .dataframe tbody tr th {\n",
       "        vertical-align: top;\n",
       "    }\n",
       "\n",
       "    .dataframe thead th {\n",
       "        text-align: right;\n",
       "    }\n",
       "</style>\n",
       "<table border=\"1\" class=\"dataframe\">\n",
       "  <thead>\n",
       "    <tr style=\"text-align: right;\">\n",
       "      <th></th>\n",
       "      <th>Passed Rate</th>\n",
       "    </tr>\n",
       "    <tr>\n",
       "      <th>Supervisor</th>\n",
       "      <th></th>\n",
       "    </tr>\n",
       "  </thead>\n",
       "  <tbody>\n",
       "    <tr>\n",
       "      <th>John</th>\n",
       "      <td>0.945296</td>\n",
       "    </tr>\n",
       "    <tr>\n",
       "      <th>William</th>\n",
       "      <td>0.955116</td>\n",
       "    </tr>\n",
       "    <tr>\n",
       "      <th>Wilson</th>\n",
       "      <td>0.951144</td>\n",
       "    </tr>\n",
       "  </tbody>\n",
       "</table>\n",
       "</div>"
      ],
      "text/plain": [
       "            Passed Rate\n",
       "Supervisor             \n",
       "John           0.945296\n",
       "William        0.955116\n",
       "Wilson         0.951144"
      ]
     },
     "metadata": {},
     "output_type": "display_data"
    }
   ],
   "source": [
    "df_sup_PR = df.groupby('Supervisor').agg({'Passed Rate':'mean'})\n",
    "\n",
    "display(df_sup_PR)"
   ]
  },
  {
   "cell_type": "code",
   "execution_count": 26,
   "id": "27a6ffd7-4c8b-40e0-bff0-0518e2688513",
   "metadata": {},
   "outputs": [
    {
     "data": {
      "text/html": [
       "<div>\n",
       "<style scoped>\n",
       "    .dataframe tbody tr th:only-of-type {\n",
       "        vertical-align: middle;\n",
       "    }\n",
       "\n",
       "    .dataframe tbody tr th {\n",
       "        vertical-align: top;\n",
       "    }\n",
       "\n",
       "    .dataframe thead th {\n",
       "        text-align: right;\n",
       "    }\n",
       "</style>\n",
       "<table border=\"1\" class=\"dataframe\">\n",
       "  <thead>\n",
       "    <tr style=\"text-align: right;\">\n",
       "      <th></th>\n",
       "      <th>Produced Qty</th>\n",
       "    </tr>\n",
       "    <tr>\n",
       "      <th>Supervisor</th>\n",
       "      <th></th>\n",
       "    </tr>\n",
       "  </thead>\n",
       "  <tbody>\n",
       "    <tr>\n",
       "      <th>John</th>\n",
       "      <td>1091920.4</td>\n",
       "    </tr>\n",
       "    <tr>\n",
       "      <th>William</th>\n",
       "      <td>1119015.0</td>\n",
       "    </tr>\n",
       "    <tr>\n",
       "      <th>Wilson</th>\n",
       "      <td>1136785.0</td>\n",
       "    </tr>\n",
       "  </tbody>\n",
       "</table>\n",
       "</div>"
      ],
      "text/plain": [
       "            Produced Qty\n",
       "Supervisor              \n",
       "John           1091920.4\n",
       "William        1119015.0\n",
       "Wilson         1136785.0"
      ]
     },
     "metadata": {},
     "output_type": "display_data"
    },
    {
     "data": {
      "text/html": [
       "<div>\n",
       "<style scoped>\n",
       "    .dataframe tbody tr th:only-of-type {\n",
       "        vertical-align: middle;\n",
       "    }\n",
       "\n",
       "    .dataframe tbody tr th {\n",
       "        vertical-align: top;\n",
       "    }\n",
       "\n",
       "    .dataframe thead th {\n",
       "        text-align: right;\n",
       "    }\n",
       "</style>\n",
       "<table border=\"1\" class=\"dataframe\">\n",
       "  <thead>\n",
       "    <tr style=\"text-align: right;\">\n",
       "      <th></th>\n",
       "      <th>Produced Qty</th>\n",
       "    </tr>\n",
       "    <tr>\n",
       "      <th>Supervisor</th>\n",
       "      <th></th>\n",
       "    </tr>\n",
       "  </thead>\n",
       "  <tbody>\n",
       "    <tr>\n",
       "      <th>John</th>\n",
       "      <td>1091920.4</td>\n",
       "    </tr>\n",
       "    <tr>\n",
       "      <th>William</th>\n",
       "      <td>1119015.0</td>\n",
       "    </tr>\n",
       "    <tr>\n",
       "      <th>Wilson</th>\n",
       "      <td>1136785.0</td>\n",
       "    </tr>\n",
       "  </tbody>\n",
       "</table>\n",
       "</div>"
      ],
      "text/plain": [
       "            Produced Qty\n",
       "Supervisor              \n",
       "John           1091920.4\n",
       "William        1119015.0\n",
       "Wilson         1136785.0"
      ]
     },
     "metadata": {},
     "output_type": "display_data"
    }
   ],
   "source": [
    "df_sup_TPQ = df.groupby('Supervisor').agg({'Produced Qty':'sum'})\n",
    "\n",
    "dax = df.groupby('Supervisor')['Produced Qty'].sum().to_frame()\n",
    "\n",
    "display (dax)\n",
    "\n",
    "display(df_sup_TPQ)"
   ]
  },
  {
   "cell_type": "code",
   "execution_count": 27,
   "id": "7853a540-6ba8-430e-8eb6-2025c34fc8fb",
   "metadata": {},
   "outputs": [
    {
     "data": {
      "text/html": [
       "<div>\n",
       "<style scoped>\n",
       "    .dataframe tbody tr th:only-of-type {\n",
       "        vertical-align: middle;\n",
       "    }\n",
       "\n",
       "    .dataframe tbody tr th {\n",
       "        vertical-align: top;\n",
       "    }\n",
       "\n",
       "    .dataframe thead th {\n",
       "        text-align: right;\n",
       "    }\n",
       "</style>\n",
       "<table border=\"1\" class=\"dataframe\">\n",
       "  <thead>\n",
       "    <tr style=\"text-align: right;\">\n",
       "      <th></th>\n",
       "      <th>Produced Qty</th>\n",
       "    </tr>\n",
       "    <tr>\n",
       "      <th>Supervisor</th>\n",
       "      <th></th>\n",
       "    </tr>\n",
       "  </thead>\n",
       "  <tbody>\n",
       "    <tr>\n",
       "      <th>Wilson</th>\n",
       "      <td>1136785.0</td>\n",
       "    </tr>\n",
       "    <tr>\n",
       "      <th>William</th>\n",
       "      <td>1119015.0</td>\n",
       "    </tr>\n",
       "    <tr>\n",
       "      <th>John</th>\n",
       "      <td>1091920.4</td>\n",
       "    </tr>\n",
       "  </tbody>\n",
       "</table>\n",
       "</div>"
      ],
      "text/plain": [
       "            Produced Qty\n",
       "Supervisor              \n",
       "Wilson         1136785.0\n",
       "William        1119015.0\n",
       "John           1091920.4"
      ]
     },
     "metadata": {},
     "output_type": "display_data"
    },
    {
     "data": {
      "text/html": [
       "<div>\n",
       "<style scoped>\n",
       "    .dataframe tbody tr th:only-of-type {\n",
       "        vertical-align: middle;\n",
       "    }\n",
       "\n",
       "    .dataframe tbody tr th {\n",
       "        vertical-align: top;\n",
       "    }\n",
       "\n",
       "    .dataframe thead th {\n",
       "        text-align: right;\n",
       "    }\n",
       "</style>\n",
       "<table border=\"1\" class=\"dataframe\">\n",
       "  <thead>\n",
       "    <tr style=\"text-align: right;\">\n",
       "      <th></th>\n",
       "      <th>Passed Rate</th>\n",
       "    </tr>\n",
       "    <tr>\n",
       "      <th>Supervisor</th>\n",
       "      <th></th>\n",
       "    </tr>\n",
       "  </thead>\n",
       "  <tbody>\n",
       "    <tr>\n",
       "      <th>William</th>\n",
       "      <td>0.955116</td>\n",
       "    </tr>\n",
       "    <tr>\n",
       "      <th>Wilson</th>\n",
       "      <td>0.951144</td>\n",
       "    </tr>\n",
       "    <tr>\n",
       "      <th>John</th>\n",
       "      <td>0.945296</td>\n",
       "    </tr>\n",
       "  </tbody>\n",
       "</table>\n",
       "</div>"
      ],
      "text/plain": [
       "            Passed Rate\n",
       "Supervisor             \n",
       "William        0.955116\n",
       "Wilson         0.951144\n",
       "John           0.945296"
      ]
     },
     "metadata": {},
     "output_type": "display_data"
    }
   ],
   "source": [
    "df_sup_TPQ.sort_values(by = 'Produced Qty', ascending = False, inplace = True)\n",
    "df_sup_PR.sort_values(by = 'Passed Rate', ascending = False, inplace = True)\n",
    "\n",
    "display(df_sup_TPQ)\n",
    "display(df_sup_PR)"
   ]
  },
  {
   "cell_type": "markdown",
   "id": "3ad525c0-c0e8-43ca-b1b9-1c4875d0156f",
   "metadata": {},
   "source": [
    "# Lesson 3"
   ]
  },
  {
   "cell_type": "markdown",
   "id": "95a69104-da57-4657-870d-d1691bfa9d92",
   "metadata": {},
   "source": [
    "## Practice 1"
   ]
  },
  {
   "cell_type": "code",
   "execution_count": 28,
   "id": "ed203efe-f7ef-48be-9706-9d4a03b81277",
   "metadata": {},
   "outputs": [
    {
     "data": {
      "image/png": "[encoded data removed]",
      "text/plain": [
       "<Figure size 1600x900 with 2 Axes>"
      ]
     },
     "metadata": {},
     "output_type": "display_data"
    }
   ],
   "source": [
    "# set 1000 array from 0 to 10\n",
    "x = np.linspace(0, 10, 1000)\n",
    "y = pd.DataFrame({'Sin(x)':np.sin(x), 'Cos(x)':np.cos(x)}, index = x)\n",
    "colours = ['g', 'b', 'r']\n",
    "lines = ['-', '--', ':']\n",
    "\n",
    "fig, axes = plt.subplots(nrows = len(y.columns), ncols = 1, figsize = (16,9))\n",
    "\n",
    "for n, ax, val in zip(range(len(y.columns)), axes, y):\n",
    "    ax.plot(x, y[val], label = val, color = colours[n], linestyle = lines[n])\n",
    "    # ax.title.set_text (val)\n",
    "    ax.set(ylabel = val)\n",
    "    ax.grid(True)\n",
    "    ax.legend(bbox_to_anchor = (1, 0.5), loc = 'center left')\n",
    "\n",
    "plt.show()"
   ]
  },
  {
   "cell_type": "markdown",
   "id": "6058e0a1-0fbf-4910-b62e-8dad6336c320",
   "metadata": {},
   "source": [
    "## Practice 2"
   ]
  },
  {
   "cell_type": "code",
   "execution_count": 29,
   "id": "561d65dc-2510-4b57-9381-1d50d8343916",
   "metadata": {},
   "outputs": [
    {
     "data": {
      "text/plain": [
       "['Machine 1', 'Machine 2', 'Machine 3']"
      ]
     },
     "metadata": {},
     "output_type": "display_data"
    },
    {
     "data": {
      "text/plain": [
       "['Customer 1',\n",
       " 'Customer 2',\n",
       " 'Customer 3',\n",
       " 'Customer 4',\n",
       " 'Customer 5',\n",
       " 'Customer 6']"
      ]
     },
     "metadata": {},
     "output_type": "display_data"
    }
   ],
   "source": [
    "df_raw = pd.read_csv('lesson3_data.csv')\n",
    "df = df_raw\n",
    "\n",
    "machines = df.columns[1:].tolist()\n",
    "customers = df['Customer'].tolist()\n",
    "\n",
    "display(machines)\n",
    "display(customers)"
   ]
  },
  {
   "cell_type": "code",
   "execution_count": 30,
   "id": "398b42ae-3caa-4455-b466-ec19b2b8ad87",
   "metadata": {},
   "outputs": [
    {
     "data": {
      "text/html": [
       "<div>\n",
       "<style scoped>\n",
       "    .dataframe tbody tr th:only-of-type {\n",
       "        vertical-align: middle;\n",
       "    }\n",
       "\n",
       "    .dataframe tbody tr th {\n",
       "        vertical-align: top;\n",
       "    }\n",
       "\n",
       "    .dataframe thead th {\n",
       "        text-align: right;\n",
       "    }\n",
       "</style>\n",
       "<table border=\"1\" class=\"dataframe\">\n",
       "  <thead>\n",
       "    <tr style=\"text-align: right;\">\n",
       "      <th></th>\n",
       "      <th>Customer</th>\n",
       "      <th>Machine 1</th>\n",
       "      <th>Machine 2</th>\n",
       "      <th>Machine 3</th>\n",
       "    </tr>\n",
       "  </thead>\n",
       "  <tbody>\n",
       "    <tr>\n",
       "      <th>0</th>\n",
       "      <td>Customer 1</td>\n",
       "      <td>33</td>\n",
       "      <td>44</td>\n",
       "      <td>46</td>\n",
       "    </tr>\n",
       "    <tr>\n",
       "      <th>1</th>\n",
       "      <td>Customer 2</td>\n",
       "      <td>55</td>\n",
       "      <td>61</td>\n",
       "      <td>65</td>\n",
       "    </tr>\n",
       "    <tr>\n",
       "      <th>2</th>\n",
       "      <td>Customer 3</td>\n",
       "      <td>72</td>\n",
       "      <td>80</td>\n",
       "      <td>83</td>\n",
       "    </tr>\n",
       "    <tr>\n",
       "      <th>3</th>\n",
       "      <td>Customer 4</td>\n",
       "      <td>62</td>\n",
       "      <td>90</td>\n",
       "      <td>95</td>\n",
       "    </tr>\n",
       "    <tr>\n",
       "      <th>4</th>\n",
       "      <td>Customer 5</td>\n",
       "      <td>49</td>\n",
       "      <td>84</td>\n",
       "      <td>88</td>\n",
       "    </tr>\n",
       "    <tr>\n",
       "      <th>5</th>\n",
       "      <td>Customer 6</td>\n",
       "      <td>55</td>\n",
       "      <td>58</td>\n",
       "      <td>60</td>\n",
       "    </tr>\n",
       "  </tbody>\n",
       "</table>\n",
       "</div>"
      ],
      "text/plain": [
       "     Customer  Machine 1  Machine 2  Machine 3\n",
       "0  Customer 1         33         44         46\n",
       "1  Customer 2         55         61         65\n",
       "2  Customer 3         72         80         83\n",
       "3  Customer 4         62         90         95\n",
       "4  Customer 5         49         84         88\n",
       "5  Customer 6         55         58         60"
      ]
     },
     "metadata": {},
     "output_type": "display_data"
    }
   ],
   "source": [
    "display(df)"
   ]
  },
  {
   "cell_type": "code",
   "execution_count": 31,
   "id": "580d9166-a8eb-4a60-bdb1-f5965a85a111",
   "metadata": {},
   "outputs": [
    {
     "data": {
      "image/png": "[encoded data removed]",
      "text/plain": [
       "<Figure size 1600x900 with 1 Axes>"
      ]
     },
     "metadata": {},
     "output_type": "display_data"
    }
   ],
   "source": [
    "plt.figure(figsize = (16, 9))\n",
    "\n",
    "fig = plt.pie(df['Machine 1'], labels = df['Customer'], autopct = '%1.1f%%')\n",
    "\n",
    "plt.title('Machine 1', rotation = 90, ha = 'left',y = 0.4, x = -0.05)\n",
    "plt.legend(bbox_to_anchor = (1.2, 1), loc = 'center left')\n",
    "plt.show()"
   ]
  },
  {
   "cell_type": "code",
   "execution_count": 32,
   "id": "7c7f145c-4600-4be2-bb79-7c6805de252f",
   "metadata": {},
   "outputs": [
    {
     "data": {
      "image/png": "[encoded data removed]",
      "text/plain": [
       "<Figure size 1600x900 with 3 Axes>"
      ]
     },
     "metadata": {},
     "output_type": "display_data"
    }
   ],
   "source": [
    "fig, axes = plt.subplots(1, len(machines), figsize = (16, 9))\n",
    "\n",
    "for ax, machine in zip(axes, machines):\n",
    "    bars = ax.bar(df['Customer'], df[machine], label = machine)\n",
    "    for bar in bars:\n",
    "        x = bar.get_x() + bar.get_width() / 2\n",
    "        y = bar.get_height() + 0.2\n",
    "        ax.text(x, y, f'{bar.get_height()}', ha = 'center', va = 'bottom')  # Add text with formatting\n",
    "    \n",
    "    ax.grid(True)\n",
    "    ax.tick_params(axis = 'x', rotation = 90)\n",
    "    # ax.set_xlabel('Customer')\n",
    "    ax.legend(bbox_to_anchor = (1, 1), loc = 'upper right')\n"
   ]
  },
  {
   "cell_type": "markdown",
   "id": "eebe22a1-c57a-4e8b-b2a0-d0af8888bf7e",
   "metadata": {
    "jp-MarkdownHeadingCollapsed": true
   },
   "source": [
    "### FUCKING STUPID!!!"
   ]
  },
  {
   "cell_type": "code",
   "execution_count": 42,
   "id": "e41a1435-7e0f-4656-99ab-e7a07614d88d",
   "metadata": {},
   "outputs": [
    {
     "data": {
      "image/png": "[encoded data removed]",
      "text/plain": [
       "<Figure size 1600x900 with 3 Axes>"
      ]
     },
     "metadata": {},
     "output_type": "display_data"
    }
   ],
   "source": [
    "fig, axes = plt.subplots(ncols = 3, figsize = (16,9))\n",
    "\n",
    "for ax, machine in zip(axes, machines):\n",
    "    df.plot(kind = 'bar', ax = ax, x = 'Customer', y = machine)\n",
    "    ax.bar_label(ax.containers[0])\n",
    "    ax.grid(True)"
   ]
  },
  {
   "cell_type": "markdown",
   "id": "045be80e-7650-4ac4-b016-b8157c3e478e",
   "metadata": {},
   "source": [
    "### "
   ]
  },
  {
   "cell_type": "code",
   "execution_count": 34,
   "id": "1c37998b-b625-4b1c-a498-51848c6d8b5c",
   "metadata": {},
   "outputs": [
    {
     "data": {
      "image/png": "[encoded data removed]",
      "text/plain": [
       "<Figure size 1600x900 with 1 Axes>"
      ]
     },
     "metadata": {},
     "output_type": "display_data"
    }
   ],
   "source": [
    "plt.figure(figsize = (16, 9))\n",
    "\n",
    "stack = 0\n",
    "\n",
    "for machine in machines:\n",
    "    bar_width = df[machine].values.tolist()\n",
    "    bars = plt.barh(df['Customer'], df[machine], left = stack, label = machine, height = 0.5)\n",
    "    stack += df[machine]\n",
    "    \n",
    "    for bar, width in zip(bars, bar_width):\n",
    "        x = bar.get_x() + bar.get_width() / 2  # Get the bar center x position\n",
    "        y = bar.get_y() + bar.get_height() / 2  # Get the bar center y position\n",
    "        ax = plt.gca()  # Get the current axes object\n",
    "        ax.text(x, y, f'{width:.1f}', ha = 'center', va = 'center')  # Add text with formatting\n",
    "\n",
    "plt.ylabel('Customer')\n",
    "plt.grid(True)\n",
    "plt.legend(bbox_to_anchor = (1, 0), loc = 'lower left')\n",
    "plt.show()"
   ]
  },
  {
   "cell_type": "code",
   "execution_count": 35,
   "id": "55af46d4-496a-4a0a-8d4d-2bfdd29a1a99",
   "metadata": {},
   "outputs": [
    {
     "data": {
      "image/png": "[encoded data removed]",
      "text/plain": [
       "<Figure size 1600x900 with 1 Axes>"
      ]
     },
     "metadata": {},
     "output_type": "display_data"
    }
   ],
   "source": [
    "plt.figure(figsize = (16, 9))  # Set figure size\n",
    "\n",
    "w = 0.25\n",
    "\n",
    "for i, machine in enumerate(machines):\n",
    "    bars = plt.bar(df.index + (w * i), df[machine], label = machine, width = w)\n",
    "    for bar in bars:\n",
    "        x = bar.get_x() + bar.get_width() / 2\n",
    "        y = bar.get_height() + 0.2\n",
    "        ax = plt.gca()\n",
    "        ax.text(x, y, f'{bar.get_height()}', ha = 'center', va = 'bottom')\n",
    "\n",
    "# Customize x-axis ticks and labels\n",
    "tickShift = 0.5 * len(machines) - 0.5\n",
    "plt.xticks(df.index + (tickShift * w), df['Customer'], rotation = 90)  # Set x-axis ticks and labels using DataFrame index\n",
    "\n",
    "plt.xlabel('Customer')\n",
    "\n",
    "plt.legend()\n",
    "plt.grid(True)\n",
    "plt.show()"
   ]
  },
  {
   "cell_type": "code",
   "execution_count": 36,
   "id": "b56dd20f-2d27-429b-b6cf-5151108270b1",
   "metadata": {},
   "outputs": [
    {
     "data": {
      "image/png": "[encoded data removed]",
      "text/plain": [
       "<Figure size 1600x900 with 1 Axes>"
      ]
     },
     "metadata": {},
     "output_type": "display_data"
    }
   ],
   "source": [
    "x = df['Machine 1']\n",
    "y = df['Machine 2']\n",
    "\n",
    "plt.figure(figsize = (16, 9))\n",
    "\n",
    "plt.scatter(x, y)\n",
    "\n",
    "plt.xlabel('Machine 1')\n",
    "plt.ylabel('Machine 2')\n",
    "\n",
    "plt.grid(True)\n",
    "plt.show()"
   ]
  },
  {
   "cell_type": "markdown",
   "id": "139bcdbf-1fa4-41f0-9841-ad987f397cc2",
   "metadata": {},
   "source": [
    "# EOF"
   ]
  },
  {
   "cell_type": "code",
   "execution_count": 37,
   "id": "c4944723-8ac8-495d-8d5a-5703fffa88c9",
   "metadata": {},
   "outputs": [
    {
     "name": "stdout",
     "output_type": "stream",
     "text": [
      "This code ran successfully!\n"
     ]
    }
   ],
   "source": [
    "print('This code ran successfully!')"
   ]
  }
 ],
 "metadata": {
  "kernelspec": {
   "display_name": "Python 3 (ipykernel)",
   "language": "python",
   "name": "python3"
  },
  "language_info": {
   "codemirror_mode": {
    "name": "ipython",
    "version": 3
   },
   "file_extension": ".py",
   "mimetype": "text/x-python",
   "name": "python",
   "nbconvert_exporter": "python",
   "pygments_lexer": "ipython3",
   "version": "3.11.9"
  }
 },
 "nbformat": 4,
 "nbformat_minor": 5
}
