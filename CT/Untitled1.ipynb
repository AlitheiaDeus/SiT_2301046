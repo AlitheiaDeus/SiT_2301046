{
 "cells": [
  {
   "cell_type": "code",
   "execution_count": null,
   "id": "ffa23278-fa73-4fe9-b855-ee290da54e50",
   "metadata": {},
   "outputs": [],
   "source": []
  }
 ],
 "metadata": {
  "kernelspec": {
   "display_name": "Octave",
   "language": "octave",
   "name": "octave"
  },
  "language_info": {
   "name": ""
  }
 },
 "nbformat": 4,
 "nbformat_minor": 5
}
