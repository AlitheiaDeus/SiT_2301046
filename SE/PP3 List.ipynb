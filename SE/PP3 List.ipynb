{
 "cells": [
  {
   "cell_type": "markdown",
   "metadata": {
    "id": "_-uLfjtzB9-J"
   },
   "source": [
    "### 3. List\n",
    "\n",
    "Lists are used to store multiple items in a single variable. For instance, we may want to store many animals together.\n",
    "\n",
    "```\n",
    "animal1 = \"tiger\"\n",
    "animal2 = \"elephant\"\n",
    "animal3 = \"dog\"\n",
    "```\n",
    "\n",
    "However it may be difficult and inconvenient to access these individual animals. One easier way is to do the following:\n",
    "\n",
    "```\n",
    "animals = [\"tiger\", \"elephant\", \"dog\"]\n",
    "```\n",
    "\n",
    "Again, let's break down these statements step by step."
   ]
  },
  {
   "cell_type": "markdown",
   "metadata": {
    "id": "vRlQrHaGH44R"
   },
   "source": [
    "### 3.1 Defining lists"
   ]
  },
  {
   "cell_type": "code",
   "execution_count": 1,
   "metadata": {
    "colab": {
     "base_uri": "https://localhost:8080/"
    },
    "id": "rZZha9CmDnMu",
    "outputId": "e7ed52fd-3821-49c7-982b-0cd17fdc6707"
   },
   "outputs": [
    {
     "name": "stdout",
     "output_type": "stream",
     "text": [
      "['tiger', 'elephant', 'dog']\n"
     ]
    }
   ],
   "source": [
    "animals = [\"tiger\", \"elephant\", \"dog\"]\n",
    "print"
   ]
  },
  {
   "cell_type": "markdown",
   "metadata": {
    "id": "FLPtGi27GKhy"
   },
   "source": [
    "During the definition of the list, we encapsulate the values in square brackets, seperated with commas. Here what we have is a list of strings. The strings in the list is \"tiger\", \"elephant\" and \"dog\". \n",
    "\n",
    "If we have numerical arrays we have the following:"
   ]
  },
  {
   "cell_type": "code",
   "execution_count": 2,
   "metadata": {
    "colab": {
     "base_uri": "https://localhost:8080/"
    },
    "id": "uAt2uxfBFU-0",
    "outputId": "8dbe83e8-d9cd-4c19-95d0-0bbf7459b09b"
   },
   "outputs": [
    {
     "name": "stdout",
     "output_type": "stream",
     "text": [
      "[4, 7, 3]\n"
     ]
    }
   ],
   "source": [
    "int_array = \n",
    "print"
   ]
  },
  {
   "cell_type": "markdown",
   "metadata": {
    "id": "bz0q7lkJHqCu"
   },
   "source": [
    "This creates an array of three values 3, 4 and 7. There will be times where you may just want to create an empty array for the time being and then add values to the array. You will be able to achieve that with the following:"
   ]
  },
  {
   "cell_type": "code",
   "execution_count": 3,
   "metadata": {
    "colab": {
     "base_uri": "https://localhost:8080/"
    },
    "id": "TJc9I5YVKcKj",
    "outputId": "aacf2bb7-6fcf-4fab-a4e7-237d1739f2bd"
   },
   "outputs": [
    {
     "name": "stdout",
     "output_type": "stream",
     "text": [
      "[]\n"
     ]
    }
   ],
   "source": [
    "list = \n",
    "print"
   ]
  },
  {
   "cell_type": "markdown",
   "metadata": {
    "id": "WDkV2daLIL1R"
   },
   "source": [
    "### 3.2 List functions\n",
    "\n",
    "Once again, one of the strengths of python is the in-built functions within the language. We see examples of these in-built functions in the list datatype. Some of these examples are for instance:\n",
    "\n",
    "\n",
    "1. Getting the length of the array using the *len* keyword. This is one of the most common functions that you will be using. In the above example, the list consists of three elements, 4, 7 and 3. Hence the length of the array is three."
   ]
  },
  {
   "cell_type": "code",
   "execution_count": 4,
   "metadata": {
    "colab": {
     "base_uri": "https://localhost:8080/"
    },
    "id": "YXZDyEWFHo14",
    "outputId": "767b919d-2a24-4e83-d577-3fe82aa14647"
   },
   "outputs": [
    {
     "name": "stdout",
     "output_type": "stream",
     "text": [
      "3\n"
     ]
    }
   ],
   "source": [
    "int_array = \n",
    "print"
   ]
  },
  {
   "cell_type": "markdown",
   "metadata": {
    "id": "tjjKwZtdLKot"
   },
   "source": [
    "2. Getting the maximum / minimum value of an array using the *max / min* function keyword. This operation is useful at times. For instance in a class context, you may want to find who is getting the highest score in a quiz."
   ]
  },
  {
   "cell_type": "code",
   "execution_count": 5,
   "metadata": {
    "colab": {
     "base_uri": "https://localhost:8080/"
    },
    "id": "gXvM_3UTIbkP",
    "outputId": "98adcdc3-5461-4e9a-cd25-457de56a54d8"
   },
   "outputs": [
    {
     "name": "stdout",
     "output_type": "stream",
     "text": [
      "7\n",
      "3\n"
     ]
    }
   ],
   "source": [
    "print\n",
    "print"
   ]
  },
  {
   "cell_type": "markdown",
   "metadata": {
    "id": "my2ezV7JLfrS"
   },
   "source": [
    "3. Sorting the list using the *sorted* function keyword. This is another useful function. Example, it allows you to sort the scores of a list from lowest to highest."
   ]
  },
  {
   "cell_type": "code",
   "execution_count": 6,
   "metadata": {
    "colab": {
     "base_uri": "https://localhost:8080/"
    },
    "id": "JAAouHwwLqqJ",
    "outputId": "e03c9698-cf02-40ca-c83a-5ea6a63e187e"
   },
   "outputs": [
    {
     "name": "stdout",
     "output_type": "stream",
     "text": [
      "[3, 4, 7]\n"
     ]
    }
   ],
   "source": [
    "int_array = \n",
    "print"
   ]
  },
  {
   "cell_type": "markdown",
   "metadata": {
    "id": "2swEjplSLye8"
   },
   "source": [
    "Note that the original array remains unchanged and if you want to store the sorted array, you will need to store it in another array."
   ]
  },
  {
   "cell_type": "code",
   "execution_count": 7,
   "metadata": {
    "colab": {
     "base_uri": "https://localhost:8080/"
    },
    "id": "6WqJO0NIL8Ls",
    "outputId": "ce888586-28d4-4e07-b8d3-51ed0810b775"
   },
   "outputs": [
    {
     "name": "stdout",
     "output_type": "stream",
     "text": [
      "Before sort [4, 7, 3]\n",
      "Result from sorted() [3, 4, 7]\n",
      "After sorted() [4, 7, 3]\n",
      "Result from sort() [3, 4, 7]\n",
      "After sort() [3, 4, 7]\n"
     ]
    }
   ],
   "source": [
    "int_array = "
   ]
  },
  {
   "cell_type": "markdown",
   "metadata": {
    "id": "v6xX2DsJIxo-"
   },
   "source": [
    "### 3.3 Accessing elements in a list"
   ]
  },
  {
   "cell_type": "markdown",
   "metadata": {
    "id": "-POXiBoeI3g6"
   },
   "source": [
    "List elements are indexed starting from the number 0. Hence the first element of the list is at 0 and the last element of the list is at length -1. So if we want to find out the first element, we use index 0."
   ]
  },
  {
   "cell_type": "code",
   "execution_count": 8,
   "metadata": {
    "colab": {
     "base_uri": "https://localhost:8080/"
    },
    "id": "MnSDdRwKI2kt",
    "outputId": "1c81f9f6-3ccf-4e5a-8fa8-e7f9d0f85aba"
   },
   "outputs": [
    {
     "name": "stdout",
     "output_type": "stream",
     "text": [
      "4\n"
     ]
    }
   ],
   "source": [
    "int_array = \n",
    "print"
   ]
  },
  {
   "cell_type": "markdown",
   "metadata": {
    "id": "wSK1bEiGp8hF"
   },
   "source": [
    "Recall the number of items in the list is 3, as indictated with the len function. Hence to get the last item on the list, we use the following command:"
   ]
  },
  {
   "cell_type": "code",
   "execution_count": 9,
   "metadata": {
    "colab": {
     "base_uri": "https://localhost:8080/"
    },
    "id": "iuONvy2MqHkL",
    "outputId": "5861b9ce-08fb-4b4c-a053-329d87d44306"
   },
   "outputs": [
    {
     "name": "stdout",
     "output_type": "stream",
     "text": [
      "3\n",
      "3\n"
     ]
    }
   ],
   "source": [
    "print\n",
    "print"
   ]
  },
  {
   "cell_type": "markdown",
   "metadata": {
    "id": "n08hBpEKqVSG"
   },
   "source": [
    "Notice that we have the len(int_array) - 1. The minus 1 is required because the array starts from index 0.\n",
    "\n",
    "```\n",
    "int_array = [4, 7, 3]\n",
    "```\n",
    "\n",
    "index 0: number 4\n",
    "\n",
    "index 1: number 7\n",
    "\n",
    "index 2: number 3\n",
    "\n",
    "If we try to access the array at index 3, we will get the following error:"
   ]
  },
  {
   "cell_type": "code",
   "execution_count": 10,
   "metadata": {
    "id": "9cnbANBFrhnj"
   },
   "outputs": [
    {
     "name": "stdout",
     "output_type": "stream",
     "text": [
      "4\n",
      "7\n",
      "3\n"
     ]
    }
   ],
   "source": [
    "int_array = \n",
    "print\n",
    "print\n",
    "print"
   ]
  },
  {
   "cell_type": "markdown",
   "metadata": {
    "id": "ZIdGyevCKLAW"
   },
   "source": [
    "### 3.3 Adding and removing elements"
   ]
  },
  {
   "cell_type": "markdown",
   "metadata": {
    "id": "P8Jnuq5rsTS2"
   },
   "source": [
    "There are a few functions that allow you to add and remove elements. Some of these examples are append, remove and insert. These operations allow you to manipulate the array during the execution of the program. For instance the command we used earlire was only to initialize the array.\n",
    "\n",
    "```\n",
    "int_array = [4, 7, 3]\n",
    "```\n",
    "\n",
    "However many times we need to add elements into the array, remove or insert at certain positions. We will go through three functions how to carry these operations out."
   ]
  },
  {
   "cell_type": "markdown",
   "metadata": {
    "id": "bLM1_LFi03qo"
   },
   "source": [
    "**Append**\n",
    "\n",
    "This operation adds an element to the end of the array. Notice that the original array is changed. The syntax is the following:\n",
    "```\n",
    "append (value)\n",
    "```\n",
    "\n",
    "And the value will be added to the very end of the array."
   ]
  },
  {
   "cell_type": "code",
   "execution_count": 11,
   "metadata": {
    "colab": {
     "base_uri": "https://localhost:8080/"
    },
    "id": "PtCD5FIGKQBV",
    "outputId": "71e9bd8b-13eb-4103-991b-bceecedc7159"
   },
   "outputs": [
    {
     "name": "stdout",
     "output_type": "stream",
     "text": [
      "[4, 7, 3]\n",
      "[4, 7, 3, 8]\n"
     ]
    }
   ],
   "source": [
    "int_array = "
   ]
  },
  {
   "cell_type": "markdown",
   "metadata": {
    "id": "fW0h3HvF1OgG"
   },
   "source": [
    "If we use the len function taught in the earlier section, you would also notice that the length of the array has increased by one. The length of the array is now equals to four."
   ]
  },
  {
   "cell_type": "code",
   "execution_count": 12,
   "metadata": {
    "colab": {
     "base_uri": "https://localhost:8080/"
    },
    "id": "Sms4yOKV1ILf",
    "outputId": "33ba2240-f90a-452a-eb81-20d505b85535"
   },
   "outputs": [
    {
     "name": "stdout",
     "output_type": "stream",
     "text": [
      "4\n"
     ]
    }
   ],
   "source": [
    "print"
   ]
  },
  {
   "cell_type": "markdown",
   "metadata": {
    "id": "9G_N3OXoEDIq"
   },
   "source": [
    "**Insert**\n",
    "\n",
    "The insert operation is used to insert an element in a certain location. The syntax is the following:\n",
    "```\n",
    "insert (index, value)\n",
    "```\n",
    "Which inserts the value within the array at location index. All elements after index are shifted one position to the right.\n"
   ]
  },
  {
   "cell_type": "code",
   "execution_count": 13,
   "metadata": {
    "colab": {
     "base_uri": "https://localhost:8080/"
    },
    "id": "nW_ArCgfF5fh",
    "outputId": "85b1a561-a0f1-41ff-9cd9-b96e5bdd7a2d"
   },
   "outputs": [
    {
     "name": "stdout",
     "output_type": "stream",
     "text": [
      "[4, 7, 9, 3, 4, 19]\n",
      "[4, 7, 6, 9, 3, 4, 19]\n",
      "[4, 7, 6, 9, 3, 4, 12, 19]\n",
      "[4, 7, 6, 9, 3, 4, 12, 19, 18]\n"
     ]
    }
   ],
   "source": [
    "int_array = "
   ]
  },
  {
   "cell_type": "markdown",
   "metadata": {
    "id": "gkKwvto-GKgY"
   },
   "source": [
    "Note that if you give insert an index greater than the number of elements in the string, it turns into an append statement."
   ]
  },
  {
   "cell_type": "code",
   "execution_count": 14,
   "metadata": {
    "colab": {
     "base_uri": "https://localhost:8080/"
    },
    "id": "cIZUTlx6GYzl",
    "outputId": "a356b1f0-926e-4cf8-8fee-675c51308217"
   },
   "outputs": [
    {
     "name": "stdout",
     "output_type": "stream",
     "text": [
      "[4, 7, 6, 9, 3, 4, 12, 19, 18]\n",
      "[4, 7, 6, 9, 3, 4, 12, 15, 19, 18]\n",
      "[4, 7, 6, 9, 3, 4, 12, 19, 18]\n",
      "[4, 7, 6, 9, 3, 4, 12, 15, 19, 18]\n"
     ]
    }
   ],
   "source": [
    "int_array = "
   ]
  },
  {
   "cell_type": "markdown",
   "metadata": {
    "id": "D1ODWzzPGArf"
   },
   "source": [
    "Note that negative indexing works in the insert statement. It will insert the element two elements before the end of the array."
   ]
  },
  {
   "cell_type": "markdown",
   "metadata": {
    "id": "Gp8OAZl94fVB"
   },
   "source": [
    "**Remove**\n",
    "\n",
    "The remove operation can be used to remove a certain element from the array. They syntax is the following:\n",
    "```\n",
    "remove(value)\n",
    "```\n",
    "\n",
    "And the first occurance of value within the array will be removed. For instance if we wish to remove the element 3 from the array, we will do the following"
   ]
  },
  {
   "cell_type": "code",
   "execution_count": 15,
   "metadata": {
    "colab": {
     "base_uri": "https://localhost:8080/"
    },
    "id": "okteyXJM1XCE",
    "outputId": "0b368e57-8aa2-4dc5-f73e-f4065f3855c7"
   },
   "outputs": [
    {
     "name": "stdout",
     "output_type": "stream",
     "text": [
      "[4, 7, 4]\n",
      "3\n"
     ]
    }
   ],
   "source": [
    "int_array = "
   ]
  },
  {
   "cell_type": "markdown",
   "metadata": {
    "id": "nj9t1QaJCGTE"
   },
   "source": [
    "Notice that the element 3 is gone. However if there are duplicated elements in the array list, only the first element of the array will be removed. This is illustrated when we try to remove the element 4."
   ]
  },
  {
   "cell_type": "code",
   "execution_count": 16,
   "metadata": {
    "colab": {
     "base_uri": "https://localhost:8080/"
    },
    "id": "vAZJqgNoCzYo",
    "outputId": "bd3c657c-3187-4228-f872-072fa0929dd1"
   },
   "outputs": [
    {
     "name": "stdout",
     "output_type": "stream",
     "text": [
      "[7, 4]\n",
      "2\n"
     ]
    }
   ],
   "source": []
  },
  {
   "cell_type": "markdown",
   "metadata": {
    "id": "KhJhcCGmC11D"
   },
   "source": [
    "Note that only the first occurance of the element 4 is removed."
   ]
  },
  {
   "cell_type": "markdown",
   "metadata": {
    "id": "9SkgE54_Dy3a"
   },
   "source": [
    "**Pop**\n",
    "\n",
    "Pop is used when we wish to remove elements located at certain indexes of the array. They syntax is the following:\n",
    "\n",
    "```\n",
    "pop(index)\n",
    "```\n",
    "\n",
    "where the index of the element to be removed is stated in the index variable."
   ]
  },
  {
   "cell_type": "code",
   "execution_count": 17,
   "metadata": {
    "colab": {
     "base_uri": "https://localhost:8080/"
    },
    "id": "dqb__DrKIj53",
    "outputId": "969e1f76-d5f8-4540-dcb3-729dea9a85cb"
   },
   "outputs": [
    {
     "name": "stdout",
     "output_type": "stream",
     "text": [
      "[4, 7, 6, 9, 3, 4, 12, 19, 18]\n",
      "[4, 7, 6, 9, 4, 12, 19, 18]\n",
      "[4, 7, 6, 9, 4, 12, 18]\n"
     ]
    }
   ],
   "source": [
    "int_array = "
   ]
  },
  {
   "cell_type": "markdown",
   "metadata": {
    "id": "nKzlVsy_Jckc"
   },
   "source": [
    "### 3.4 Indexing elements within a list\n",
    "\n",
    "**Range indexing of elements in list**\n",
    "\n",
    "Recall earlier that arrays start from index 0. We are also able to access the list via the colon character. The syntax is\n",
    "\n",
    "```\n",
    "array_name[start_index : end_index]\n",
    "```\n",
    "\n",
    "Note that the number of elements returned will be up to (end_index - 1), meaning that the element at\n",
    "\n",
    "```\n",
    "array_name[end_index]\n",
    "```\n",
    "\n",
    "is not returned. The last element to be returned is\n",
    "\n",
    "```\n",
    "array_name[end_index - 1]\n",
    "```\n",
    "\n",
    "Hence the number of items returned is end_index - start_index."
   ]
  },
  {
   "cell_type": "code",
   "execution_count": 18,
   "metadata": {
    "colab": {
     "base_uri": "https://localhost:8080/"
    },
    "id": "Z8jqvJYyJa6v",
    "outputId": "f835ca0e-c113-4994-cf5b-a5a2538c3a2e"
   },
   "outputs": [
    {
     "name": "stdout",
     "output_type": "stream",
     "text": [
      "[4, 7, 9, 9, 15, 19]\n",
      "[9, 9]\n"
     ]
    }
   ],
   "source": [
    "int_array = "
   ]
  },
  {
   "cell_type": "markdown",
   "metadata": {
    "id": "CTRMcC6hrAJH"
   },
   "source": [
    "Do note that if we do not include the end index, it is automatically assigned to the end of the list."
   ]
  },
  {
   "cell_type": "code",
   "execution_count": 19,
   "metadata": {
    "id": "Lpo421sErA2L"
   },
   "outputs": [
    {
     "name": "stdout",
     "output_type": "stream",
     "text": [
      "[4, 7, 9, 9, 15, 19]\n",
      "[9, 9, 15, 19]\n"
     ]
    }
   ],
   "source": [
    "int_array = "
   ]
  },
  {
   "cell_type": "markdown",
   "metadata": {
    "id": "n9sRy4TbMczg"
   },
   "source": [
    "**Negative indexing elements within an array**"
   ]
  },
  {
   "cell_type": "markdown",
   "metadata": {
    "id": "QestZVAwNEMf"
   },
   "source": [
    "We discussed a little bit on negative indexing of elements. How that works is the following:\n",
    "\n",
    "if index 0 is the first element on the list, then index -1 is the last element on the list. Likewise, index -2 is the second last element on the list."
   ]
  },
  {
   "cell_type": "code",
   "execution_count": 20,
   "metadata": {
    "colab": {
     "base_uri": "https://localhost:8080/"
    },
    "id": "YDYQgZuaOSOE",
    "outputId": "dc2e4b4a-fce1-42d4-ac45-b648c70dda3c"
   },
   "outputs": [
    {
     "name": "stdout",
     "output_type": "stream",
     "text": [
      "[4, 7, 9, 9, 15, 19]\n",
      "19\n",
      "15\n"
     ]
    }
   ],
   "source": [
    "int_array = "
   ]
  },
  {
   "cell_type": "markdown",
   "metadata": {
    "id": "Ib42pxJKORBj"
   },
   "source": [
    "Hence if we have int_array[-4:-2], we are taking the last fourth element and the last third element from the back of the list."
   ]
  },
  {
   "cell_type": "code",
   "execution_count": 21,
   "metadata": {
    "colab": {
     "base_uri": "https://localhost:8080/"
    },
    "id": "PxoZHj56MgOO",
    "outputId": "a2d38920-24db-4898-989b-25d64b2442ce"
   },
   "outputs": [
    {
     "name": "stdout",
     "output_type": "stream",
     "text": [
      "[4, 7, 9, 9, 15, 19]\n",
      "[9, 9]\n",
      "[4, 7]\n"
     ]
    }
   ],
   "source": [
    "int_array = "
   ]
  },
  {
   "cell_type": "markdown",
   "metadata": {
    "id": "krwN6DjePLgf"
   },
   "source": [
    "### 3.5 Checking if an element is within the list or not"
   ]
  },
  {
   "cell_type": "markdown",
   "metadata": {
    "id": "sFzmb5v9P1aQ"
   },
   "source": [
    "Python has a very intuitive way of checking if it contains an element or not. There are at least two ways of doing this check. In the first way, we are able to use the in built function known as *count*. The syntax is:\n",
    "\n",
    "```\n",
    "count(value)\n",
    "```\n",
    "\n",
    "The count function counts the number of times an element of value is present within the list."
   ]
  },
  {
   "cell_type": "code",
   "execution_count": 22,
   "metadata": {
    "colab": {
     "base_uri": "https://localhost:8080/"
    },
    "id": "5IVqdi-jOGRp",
    "outputId": "f9139cb8-eac0-45ff-84a6-92f3f69b9c73"
   },
   "outputs": [
    {
     "name": "stdout",
     "output_type": "stream",
     "text": [
      "2\n"
     ]
    }
   ],
   "source": [
    "int_array = "
   ]
  },
  {
   "cell_type": "markdown",
   "metadata": {
    "id": "agiHq59IRIPW"
   },
   "source": [
    "The other method is just using the typical syntax in if else statements\n",
    "\n",
    "```\n",
    "if value in int_array:\n",
    "  some other things here\n",
    "```"
   ]
  },
  {
   "cell_type": "code",
   "execution_count": 23,
   "metadata": {
    "colab": {
     "base_uri": "https://localhost:8080/"
    },
    "id": "FKHuM7kxQqpb",
    "outputId": "a9303fb0-6222-4ec6-d2f5-49fa4c0285d1"
   },
   "outputs": [
    {
     "name": "stdout",
     "output_type": "stream",
     "text": [
      "no tree, no three!\n"
     ]
    }
   ],
   "source": [
    "int_array = "
   ]
  },
  {
   "cell_type": "markdown",
   "metadata": {
    "id": "K42xck8wTt6A"
   },
   "source": [
    "*Exercise 3.1*\n",
    "\n",
    "Carry out the following steps:\n",
    "\n",
    "1.   Create a list called temp_list with the following items: 17, 40.2, “test work\", True.\n",
    "\n",
    "2.   Append \"hello world\" and 17 to the list.\n",
    "\n",
    "3.   Insert the value \"testing\" at the 4th position (index = 4).\n",
    "\n",
    "4.   Insert the value \"starting\" at the start of the list.\n",
    "\n",
    "5.   Find the index of \"hello world\".\n",
    "\n",
    "6.   Count the number of 17s in the list.\n",
    "\n",
    "7.   Remove the first occurrence of 17 from the list.\n",
    "\n",
    "8.   Remove True from the list using pop and index."
   ]
  },
  {
   "cell_type": "code",
   "execution_count": 24,
   "metadata": {
    "colab": {
     "base_uri": "https://localhost:8080/"
    },
    "id": "12LW9YftWdK8",
    "outputId": "7d5a5eca-a7b2-400c-b51d-4939a91b5eca"
   },
   "outputs": [
    {
     "name": "stdout",
     "output_type": "stream",
     "text": [
      "[17, 40.2, 'test work', True]\n",
      "[17, 40.2, 'test work', True, 'hello world', 17]\n",
      "[17, 40.2, 'test work', True, 'testing', 'hello world', 17]\n",
      "['starting', 17, 40.2, 'test work', True, 'testing', 'hello world', 17]\n",
      "6\n",
      "2\n",
      "['starting', 40.2, 'test work', True, 'testing', 'hello world', 17]\n",
      "['starting', 40.2, 'test work', 'testing', 'hello world', 17]\n"
     ]
    }
   ],
   "source": []
  },
  {
   "cell_type": "markdown",
   "metadata": {
    "id": "6l93SN2LZg2d"
   },
   "source": [
    "*Exercise 3.2*\n",
    "\n",
    "Add item 555 after 444 in the following Python List\n",
    "\n",
    "list1 = [1, [22, [333, 444], 55], 6, 7]\n",
    "\n",
    "Expected output:\n",
    "list1 = [1, [22, [333, 444, 555], 55], 6, 7]"
   ]
  },
  {
   "cell_type": "code",
   "execution_count": 25,
   "metadata": {
    "colab": {
     "base_uri": "https://localhost:8080/"
    },
    "id": "xfT1t3RLYwCb",
    "outputId": "870722c6-0bbe-49cf-95cf-384ac4527f91"
   },
   "outputs": [
    {
     "name": "stdout",
     "output_type": "stream",
     "text": [
      "[1, [22, [333, 444], 55], 6, 7]\n",
      "[1, [22, [333, 444, 555], 55], 6, 7]\n"
     ]
    }
   ],
   "source": []
  },
  {
   "cell_type": "code",
   "execution_count": null,
   "metadata": {},
   "outputs": [],
   "source": []
  }
 ],
 "metadata": {
  "colab": {
   "provenance": []
  },
  "kernelspec": {
   "display_name": "Python 3",
   "language": "python",
   "name": "python3"
  },
  "language_info": {
   "codemirror_mode": {
    "name": "ipython",
    "version": 3
   },
   "file_extension": ".py",
   "mimetype": "text/x-python",
   "name": "python",
   "nbconvert_exporter": "python",
   "pygments_lexer": "ipython3",
   "version": "3.8.8"
  }
 },
 "nbformat": 4,
 "nbformat_minor": 1
}
