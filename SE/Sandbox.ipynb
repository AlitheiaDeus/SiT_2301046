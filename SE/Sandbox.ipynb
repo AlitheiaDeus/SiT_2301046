{
 "cells": [
  {
   "cell_type": "code",
   "execution_count": 10,
   "id": "e81ecf3d-fccc-40ab-86ad-43949e342654",
   "metadata": {},
   "outputs": [
    {
     "name": "stdout",
     "output_type": "stream",
     "text": [
      "[['A', 35.0], ['B', 22.0], ['C', 33.0], ['D', 69.0], ['E', 420.0]]\n"
     ]
    },
    {
     "ename": "NameError",
     "evalue": "name 'operator' is not defined",
     "output_type": "error",
     "traceback": [
      "\u001b[1;31m---------------------------------------------------------------------------\u001b[0m",
      "\u001b[1;31mNameError\u001b[0m                                 Traceback (most recent call last)",
      "Cell \u001b[1;32mIn[10], line 10\u001b[0m\n\u001b[0;32m      7\u001b[0m python_students \u001b[38;5;241m=\u001b[39m [[\u001b[38;5;124m'\u001b[39m\u001b[38;5;124mA\u001b[39m\u001b[38;5;124m'\u001b[39m, \u001b[38;5;241m35.0\u001b[39m], [\u001b[38;5;124m'\u001b[39m\u001b[38;5;124mB\u001b[39m\u001b[38;5;124m'\u001b[39m, \u001b[38;5;241m22.0\u001b[39m], [\u001b[38;5;124m'\u001b[39m\u001b[38;5;124mC\u001b[39m\u001b[38;5;124m'\u001b[39m, \u001b[38;5;241m33.0\u001b[39m], [\u001b[38;5;124m'\u001b[39m\u001b[38;5;124mD\u001b[39m\u001b[38;5;124m'\u001b[39m, \u001b[38;5;241m69.0\u001b[39m], [\u001b[38;5;124m'\u001b[39m\u001b[38;5;124mE\u001b[39m\u001b[38;5;124m'\u001b[39m, \u001b[38;5;241m420.0\u001b[39m]]\n\u001b[0;32m      8\u001b[0m \u001b[38;5;28mprint\u001b[39m(python_students)\n\u001b[1;32m---> 10\u001b[0m python_students \u001b[38;5;241m=\u001b[39m \u001b[38;5;28msorted\u001b[39m(python_students, key \u001b[38;5;241m=\u001b[39m operator\u001b[38;5;241m.\u001b[39mitemgetter(\u001b[38;5;241m1\u001b[39m))\n\u001b[0;32m     11\u001b[0m \u001b[38;5;28mprint\u001b[39m(python_students)\n",
      "\u001b[1;31mNameError\u001b[0m: name 'operator' is not defined"
     ]
    }
   ],
   "source": [
    "# python_students = []\n",
    "# for i in range(int(input())):\n",
    "#     name = input()\n",
    "#     score = float(input())\n",
    "#     python_students.insert(i, [name, score])\n",
    "\n",
    "python_students = [['A', 35.0], ['B', 22.0], ['C', 33.0], ['D', 69.0], ['E', 420.0]]\n",
    "print(python_students)\n",
    "\n",
    "python_students = sorted(python_students, key = operator.itemgetter(1))\n",
    "print(python_students)"
   ]
  },
  {
   "cell_type": "code",
   "execution_count": null,
   "id": "9d2ac5d1-234c-4c63-bf1f-62a6faa82648",
   "metadata": {},
   "outputs": [],
   "source": []
  }
 ],
 "metadata": {
  "kernelspec": {
   "display_name": "Python 3 (ipykernel)",
   "language": "python",
   "name": "python3"
  },
  "language_info": {
   "codemirror_mode": {
    "name": "ipython",
    "version": 3
   },
   "file_extension": ".py",
   "mimetype": "text/x-python",
   "name": "python",
   "nbconvert_exporter": "python",
   "pygments_lexer": "ipython3",
   "version": "3.11.9"
  }
 },
 "nbformat": 4,
 "nbformat_minor": 5
}
