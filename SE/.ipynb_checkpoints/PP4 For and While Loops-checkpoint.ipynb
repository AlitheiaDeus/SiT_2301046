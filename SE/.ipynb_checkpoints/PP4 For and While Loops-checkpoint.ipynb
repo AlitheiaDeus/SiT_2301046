{
 "cells": [
  {
   "cell_type": "markdown",
   "metadata": {
    "id": "fnuOVriG3ffL"
   },
   "source": [
    "## 4. For and While Loops\n"
   ]
  },
  {
   "cell_type": "markdown",
   "metadata": {
    "id": "y3_4-E6P4c7c"
   },
   "source": [
    "### 4.1 Introducing the for loop statement\n",
    "\n",
    "For loops allow you to run a series of statements, or various pieces of code until a certain condition is reached. \n",
    "\n",
    "**Eating Eating**\n",
    "\n",
    "For example, let's say you are very hungry and you cannot and won't stop eating for as long as you are hungry. Hence, the for loop condition for your decision making is:\n",
    "\n",
    "```\n",
    "for as long as my stomach is hungry,\n",
    "  I will take another mouth of this icecream.\n",
    "```\n",
    "\n",
    "So what you do is that you eat a mouth of ice-cream. Then you think if you stomach is still hungry or not. Obviously the answer is no, and hence you will continue eating the ice-cream.\n",
    "\n",
    "What we have seen here are two things. The first is the condition (also known as the terminating condition):\n",
    "\n",
    "```\n",
    "Is my stomach still hungry?\n",
    "```\n",
    "\n",
    "the second is the \"action\":\n",
    "\n",
    "```\n",
    "Eat another mouth of ice cream\n",
    "```\n",
    "\n",
    "These are the two elements of a for loop which you should always have.\n",
    "\n",
    "**The Wantan Man**\n",
    "\n",
    "In the second example, imagine yourself at 5am, at the wantan noodle store before the store is open. It will not be surprising to see the wantan man wrapping wantan using the meat around the flour skin. In his mind, he is saying that today I need to wrap (e.g.) 500 wantans, then his for loop will be:\n",
    "\n",
    "```\n",
    "for number of wantans less than 500,\n",
    "  wrap wantan\n",
    "```"
   ]
  },
  {
   "cell_type": "markdown",
   "metadata": {
    "id": "ISLCpvay-K1m"
   },
   "source": [
    "### 4.2 Importance of the for loop\n",
    "\n",
    "Such loops are important in computer programs as in real life. For example, if you are wearing shoes, you loop is,\n",
    "\n",
    "```\n",
    "for as long as feet is still bare:\n",
    "  wear shoes\n",
    "```\n",
    "\n",
    "```\n",
    "for as long as mind is bored:\n",
    "  play game (maybe genshin impact)\n",
    "```\n",
    "\n",
    "```\n",
    "for as long as legs are not tired:\n",
    "  run faster\n",
    "```\n",
    "\n",
    "In computer programming, this is also very common. For example, if you are updating the scores of students, one common statement that could happen is,\n",
    "\n",
    "```\n",
    "for all students in the class:\n",
    "  add one mark to their quiz 2\n",
    "```"
   ]
  },
  {
   "cell_type": "markdown",
   "metadata": {
    "id": "8jqlMxDRk_56"
   },
   "source": [
    "### 4.3 Example for loop\n",
    "\n",
    "Let's say that there is list of students in the class, known as student list, and the list of their quiz 2 scores."
   ]
  },
  {
   "cell_type": "code",
   "execution_count": 1,
   "metadata": {
    "id": "6EZt9a1Gd-dB"
   },
   "outputs": [],
   "source": [
    "student_list = ['amy', 'ben', 'cody']\n",
    "student_quiz_2 = [50, 60, 70]"
   ]
  },
  {
   "cell_type": "code",
   "execution_count": 2,
   "metadata": {
    "colab": {
     "base_uri": "https://localhost:8080/"
    },
    "id": "X9-KUJ7njPG5",
    "outputId": "9b6bf914-d714-4176-e19d-c396ef768504"
   },
   "outputs": [
    {
     "name": "stdout",
     "output_type": "stream",
     "text": [
      "amy\n",
      "ben\n",
      "cody\n"
     ]
    }
   ],
   "source": [
    "for"
   ]
  },
  {
   "cell_type": "markdown",
   "metadata": {
    "id": "jJlx6rITgh65"
   },
   "source": [
    "Let's break down the earlier statements one by one. The first part:\n",
    "\n",
    "```\n",
    "student_list = ['amy', 'ben', 'cody']\n",
    "student_quiz_2 = [50,60,70]\n",
    "```\n",
    "\n",
    "Declares two lists / array. The first list is the list of student names in a course (if your name is one of the three names here, it is purely coincidental). The second list declares their scores for quiz 02. So Amy gets a score of 50, Ben a score of 60 and Cody a score of 70. \n",
    "\n",
    "In the second part, we see the following:\n",
    "\n",
    "```\n",
    "for student in student_list:\n",
    "  print(student)\n",
    "```\n",
    "\n",
    "**First method of using a for loop**\n",
    "\n",
    "This means that for each of the student we find within the list, we will be printing out the name of the student. On a broad level, this means that the statement\n",
    "\n",
    "```\n",
    "for each_item in full_list\n",
    "```\n",
    "\n",
    "will iterate through every item in the full_list.\n",
    "\n",
    "The syntax is the following:\n",
    "\n",
    "1.   We first have the for loop terminating condition.\n",
    "2.   After the condition we have the colon character.\n",
    "3.   Below the colon character and indented, will be code block within the for loop.\n"
   ]
  },
  {
   "cell_type": "code",
   "execution_count": 3,
   "metadata": {
    "colab": {
     "base_uri": "https://localhost:8080/"
    },
    "id": "6F91soLyydVf",
    "outputId": "ff4be2c3-8c27-458a-c030-3bf0a05d2d06"
   },
   "outputs": [
    {
     "name": "stdout",
     "output_type": "stream",
     "text": [
      "amy\n",
      "the name above is also a student\n",
      "ben\n",
      "the name above is also a student\n",
      "cody\n",
      "the name above is also a student\n"
     ]
    }
   ],
   "source": [
    "for"
   ]
  },
  {
   "cell_type": "markdown",
   "metadata": {
    "id": "ZKhKh_c-yujv"
   },
   "source": [
    "If we do not have the indentation correct, notice that the last line will only be printed once as it is not within the for loop."
   ]
  },
  {
   "cell_type": "code",
   "execution_count": 4,
   "metadata": {
    "colab": {
     "base_uri": "https://localhost:8080/"
    },
    "id": "Erv48ijAysIR",
    "outputId": "db434f52-776d-450b-f5b7-ccecd5be8658"
   },
   "outputs": [
    {
     "name": "stdout",
     "output_type": "stream",
     "text": [
      "amy\n",
      "ben\n",
      "cody\n",
      "the name above is also a student\n"
     ]
    }
   ],
   "source": [
    "for"
   ]
  },
  {
   "cell_type": "markdown",
   "metadata": {
    "id": "kXV_hnGqlbRa"
   },
   "source": [
    "Let's look at the next part of the example. Recall that in a list, we are able to access the individual elements through an index. Hence if we want to add in ten marks to every student in the list, one way of doing that is:\n",
    "\n",
    "```\n",
    "student_quiz_2[0] += 10\n",
    "student_quiz_2[1] += 10\n",
    "student_quiz_2[2] += 10\n",
    "```\n",
    "\n",
    "Note that \n",
    "\n",
    "```\n",
    "student_quiz_2[0] += 10\n",
    "```\n",
    "\n",
    "```\n",
    "student_quiz_2[0] = student_quiz_2[0] + 10\n",
    "```\n",
    "\n",
    "are the same."
   ]
  },
  {
   "cell_type": "markdown",
   "metadata": {
    "id": "eCUssLxhtz09"
   },
   "source": [
    "**Second method of using a for loop**\n",
    "\n",
    "But of course you will definately say that typing such instructions is a waste of time. Hence the proper way of doing that will be:"
   ]
  },
  {
   "cell_type": "code",
   "execution_count": 5,
   "metadata": {
    "colab": {
     "base_uri": "https://localhost:8080/"
    },
    "id": "5N_XuYtdehSk",
    "outputId": "1ba9a247-40d6-42c1-8a2f-19cbd5a23bf9"
   },
   "outputs": [
    {
     "name": "stdout",
     "output_type": "stream",
     "text": [
      "amy\n",
      "ben\n",
      "cody\n"
     ]
    }
   ],
   "source": [
    "for"
   ]
  },
  {
   "cell_type": "code",
   "execution_count": 6,
   "metadata": {
    "id": "QNu_wXCYhsYc"
   },
   "outputs": [],
   "source": [
    "student_list = ['amy', 'ben', 'cody']\n",
    "student_quiz_2 = [50, 60, 70]"
   ]
  },
  {
   "cell_type": "code",
   "execution_count": 7,
   "metadata": {
    "colab": {
     "base_uri": "https://localhost:8080/"
    },
    "id": "uZi7n64hiqz4",
    "outputId": "d38acf56-2e70-4813-af35-667efa0de6f0"
   },
   "outputs": [
    {
     "name": "stdout",
     "output_type": "stream",
     "text": [
      "3\n"
     ]
    }
   ],
   "source": []
  },
  {
   "cell_type": "code",
   "execution_count": 8,
   "metadata": {
    "colab": {
     "base_uri": "https://localhost:8080/"
    },
    "id": "djgIIyDnhF0C",
    "outputId": "d2a10c70-53c7-4d9f-c23d-e01e5d4e0e9f"
   },
   "outputs": [
    {
     "name": "stdout",
     "output_type": "stream",
     "text": [
      "0 amy scores has been increase to 60\n",
      "1 ben scores has been increase to 70\n",
      "2 cody scores has been increase to 80\n"
     ]
    }
   ],
   "source": [
    "for"
   ]
  },
  {
   "cell_type": "markdown",
   "metadata": {
    "id": "ZOqxlk4in760"
   },
   "source": [
    "Note that the student scores have increased by 10 points. Lets break down what the for loop is saying. In the earlier paragraph, we talked about accessing each element manually, by accessing the index one by one. What the for loop does is by automating this iteration of the index. The variable i holds the value of the index. \n",
    "\n",
    "If we are to print out the value of i, we get:"
   ]
  },
  {
   "cell_type": "code",
   "execution_count": 9,
   "metadata": {
    "colab": {
     "base_uri": "https://localhost:8080/"
    },
    "id": "dzh3APehoeRE",
    "outputId": "0dfdb027-dec9-48e8-c6ad-6b0a548781f9"
   },
   "outputs": [
    {
     "name": "stdout",
     "output_type": "stream",
     "text": [
      "0\n",
      "1\n",
      "2\n"
     ]
    }
   ],
   "source": [
    "for"
   ]
  },
  {
   "cell_type": "markdown",
   "metadata": {
    "id": "CxLIT_Q2ohD0"
   },
   "source": [
    "We see that the value of i increases from 0 all the way to 2. The value of 2 is determined by the length of the array. This length of array is obtained from the command:"
   ]
  },
  {
   "cell_type": "code",
   "execution_count": 10,
   "metadata": {
    "colab": {
     "base_uri": "https://localhost:8080/"
    },
    "id": "eqpt_IfNfNXe",
    "outputId": "c8c4e0e0-9405-471a-8166-e5042c20016e"
   },
   "outputs": [
    {
     "name": "stdout",
     "output_type": "stream",
     "text": [
      "3\n"
     ]
    }
   ],
   "source": []
  },
  {
   "cell_type": "markdown",
   "metadata": {
    "id": "oqmAGtF4pGU6"
   },
   "source": [
    "So if we convert the first line to english, it means\n",
    "\n",
    "```\n",
    "for i in range(len(student_quiz_2)):\n",
    "  print(i)\n",
    "```\n",
    "\n",
    "Iterate the value of i, from the value of 0 to length of array student_quiz_2. For each value of i, print it out. We will be speaking more on this range function shortly. After updating the quiz scores, we will be able to print out the names and their scores. "
   ]
  },
  {
   "cell_type": "code",
   "execution_count": 11,
   "metadata": {
    "colab": {
     "base_uri": "https://localhost:8080/"
    },
    "id": "AI7xuYYNgH8S",
    "outputId": "38596823-29c0-4a73-faf6-b17ccde433be"
   },
   "outputs": [
    {
     "name": "stdout",
     "output_type": "stream",
     "text": [
      "amy scored 60\n",
      "ben scored 70\n",
      "cody scored 80\n"
     ]
    }
   ],
   "source": [
    "for"
   ]
  },
  {
   "cell_type": "markdown",
   "metadata": {
    "id": "JH5wCcxysubn"
   },
   "source": [
    "*Exercise 4.1*\n",
    "\n",
    "Find the sum of all elements in a list."
   ]
  },
  {
   "cell_type": "code",
   "execution_count": 12,
   "metadata": {
    "id": "XMQTdCdcs6wa"
   },
   "outputs": [],
   "source": [
    "# Do not delete this cell. This exercise requires this list.\n",
    "temp_list = [4,6,2,5,7,4,5,2,4]"
   ]
  },
  {
   "cell_type": "code",
   "execution_count": 13,
   "metadata": {
    "colab": {
     "base_uri": "https://localhost:8080/"
    },
    "id": "CwGbN2TZs2e6",
    "outputId": "01ab621e-6633-44e3-e98a-d4f262af0312"
   },
   "outputs": [
    {
     "name": "stdout",
     "output_type": "stream",
     "text": [
      "39\n"
     ]
    }
   ],
   "source": []
  },
  {
   "cell_type": "code",
   "execution_count": 14,
   "metadata": {
    "colab": {
     "base_uri": "https://localhost:8080/"
    },
    "id": "F0PQbvNUpb3a",
    "outputId": "b9de9f54-54f4-42fd-c15a-82e10c0ced2a"
   },
   "outputs": [
    {
     "name": "stdout",
     "output_type": "stream",
     "text": [
      "39\n"
     ]
    }
   ],
   "source": []
  },
  {
   "cell_type": "markdown",
   "metadata": {
    "id": "rswPI34vrMEF"
   },
   "source": [
    "*Exercise 4.2*\n",
    "\n",
    "Find the maximum element in a list."
   ]
  },
  {
   "cell_type": "code",
   "execution_count": 15,
   "metadata": {
    "colab": {
     "base_uri": "https://localhost:8080/"
    },
    "id": "tmMT72zNsSyx",
    "outputId": "63ba0740-71ca-4aeb-ae4d-c46a561b962c"
   },
   "outputs": [
    {
     "name": "stdout",
     "output_type": "stream",
     "text": [
      "7\n"
     ]
    }
   ],
   "source": []
  },
  {
   "cell_type": "code",
   "execution_count": 16,
   "metadata": {
    "colab": {
     "base_uri": "https://localhost:8080/"
    },
    "id": "jXqFE9tXpfKn",
    "outputId": "f145e8a2-840b-4727-93d2-d19cf0d64f8c"
   },
   "outputs": [
    {
     "name": "stdout",
     "output_type": "stream",
     "text": [
      "7\n"
     ]
    }
   ],
   "source": []
  },
  {
   "cell_type": "markdown",
   "metadata": {
    "id": "HlPytQJot7PJ"
   },
   "source": [
    "*Exercise 4.3*\n",
    "\n",
    "Find the average of a list."
   ]
  },
  {
   "cell_type": "code",
   "execution_count": 17,
   "metadata": {
    "colab": {
     "base_uri": "https://localhost:8080/"
    },
    "id": "BW-p6zVjvIwD",
    "outputId": "12a58f0c-ebac-4e37-e4d0-8997be482a2d"
   },
   "outputs": [
    {
     "name": "stdout",
     "output_type": "stream",
     "text": [
      "4.333333333333333\n"
     ]
    }
   ],
   "source": []
  },
  {
   "cell_type": "markdown",
   "metadata": {
    "id": "uBt-H5rIq8qZ"
   },
   "source": [
    "### Section 4.4 Range command\n",
    "\n",
    "The previous example of the for loop used the range command with the length of the list. The syntax of the for the range is the following:"
   ]
  },
  {
   "cell_type": "markdown",
   "metadata": {
    "id": "Z706HGhozdEB"
   },
   "source": [
    "```\n",
    "range(end_value)\n",
    "```\n",
    "\n",
    "When we have only one parameter in the range function, it means we will iterate from 0, to the value of end_value in steps of 1."
   ]
  },
  {
   "cell_type": "code",
   "execution_count": 18,
   "metadata": {
    "colab": {
     "base_uri": "https://localhost:8080/"
    },
    "id": "K4LeV0WF1cHx",
    "outputId": "bad52cd4-8a90-46e6-e533-50259c21095c"
   },
   "outputs": [
    {
     "name": "stdout",
     "output_type": "stream",
     "text": [
      "[0, 1, 2, 3, 4, 5, 6, 7, 8, 9]\n",
      "[0, 1, 2, 3, 4, 5, 6, 7, 8, 9]\n"
     ]
    }
   ],
   "source": []
  },
  {
   "cell_type": "markdown",
   "metadata": {
    "id": "c4bvsEmz2snH"
   },
   "source": [
    "Note that the range value ends at end_value - 1. What this means is that it does not end at 10, but at 9."
   ]
  },
  {
   "cell_type": "markdown",
   "metadata": {
    "id": "MpJHrdfv01YS"
   },
   "source": [
    "```\n",
    "range(start_value, end_value)\n",
    "```\n",
    "\n",
    "When we have two parameters in the range function, it means we will iterate from start_value, to the value of end_value in steps of 1."
   ]
  },
  {
   "cell_type": "code",
   "execution_count": 19,
   "metadata": {
    "colab": {
     "base_uri": "https://localhost:8080/"
    },
    "id": "7cUaGQkc08dv",
    "outputId": "b75c8840-3268-4b7f-a91b-9c38c6a1928d"
   },
   "outputs": [
    {
     "name": "stdout",
     "output_type": "stream",
     "text": [
      "[5, 6, 7, 8, 9]\n",
      "[5, 6, 7, 8, 9]\n"
     ]
    }
   ],
   "source": []
  },
  {
   "cell_type": "markdown",
   "metadata": {
    "id": "ghSMkq2m0qNY"
   },
   "source": [
    "```\n",
    "range(start_value, end_value, step)\n",
    "```\n",
    "\n",
    "When we have three parameters in the range function, it means we will iterate from start_value to the value of end_value in steps of the value of variable step."
   ]
  },
  {
   "cell_type": "code",
   "execution_count": 20,
   "metadata": {
    "colab": {
     "base_uri": "https://localhost:8080/"
    },
    "id": "DQ7y3NqmxAPC",
    "outputId": "731ea436-eedc-4b0d-f914-5ffc03704f1e"
   },
   "outputs": [
    {
     "name": "stdout",
     "output_type": "stream",
     "text": [
      "[0, 2, 4, 6, 8]\n",
      "[0, 2, 4, 6, 8]\n"
     ]
    }
   ],
   "source": []
  },
  {
   "cell_type": "markdown",
   "metadata": {
    "id": "CQGMKiaI6FEE"
   },
   "source": [
    "*Exercise 4.4*\n",
    "\n",
    "Write a code to print the numbers from 5 to 10 (both numbers inclusive)."
   ]
  },
  {
   "cell_type": "code",
   "execution_count": 21,
   "metadata": {
    "colab": {
     "base_uri": "https://localhost:8080/"
    },
    "id": "uheAoDXs6hOg",
    "outputId": "ffa5ecbc-0dca-4a63-a995-4d8d82440a9f"
   },
   "outputs": [
    {
     "name": "stdout",
     "output_type": "stream",
     "text": [
      "5\n",
      "6\n",
      "7\n",
      "8\n",
      "9\n",
      "10\n"
     ]
    }
   ],
   "source": []
  },
  {
   "cell_type": "markdown",
   "metadata": {
    "id": "2zmmmxnw2dSY"
   },
   "source": [
    "*Exercise 4.5*\n",
    "\n",
    "Find the sum of all odd elements in a list."
   ]
  },
  {
   "cell_type": "code",
   "execution_count": 22,
   "metadata": {
    "id": "ENltZFIu3jAy"
   },
   "outputs": [],
   "source": [
    "# Do not delete this cell. This exercise requires this list.\n",
    "temp_list = [4,6,2,5,7,4,5,2,4]"
   ]
  },
  {
   "cell_type": "code",
   "execution_count": 23,
   "metadata": {
    "colab": {
     "base_uri": "https://localhost:8080/"
    },
    "id": "MeDt0JLd1wj5",
    "outputId": "ca10ef02-ee4e-4bcf-c9a8-673084f8d7ba"
   },
   "outputs": [
    {
     "name": "stdout",
     "output_type": "stream",
     "text": [
      "17\n"
     ]
    }
   ],
   "source": []
  },
  {
   "cell_type": "markdown",
   "metadata": {
    "id": "OaWuRFIa4bkD"
   },
   "source": [
    "*Exercise 4.6*\n",
    "\n",
    "Find the sum of every third element in a list, starting from the third element."
   ]
  },
  {
   "cell_type": "code",
   "execution_count": 24,
   "metadata": {
    "colab": {
     "base_uri": "https://localhost:8080/"
    },
    "id": "QjCTrezu3xAH",
    "outputId": "dc5cf175-5694-4874-c7f7-628992d345db"
   },
   "outputs": [
    {
     "name": "stdout",
     "output_type": "stream",
     "text": [
      "10\n"
     ]
    }
   ],
   "source": []
  },
  {
   "cell_type": "markdown",
   "metadata": {
    "id": "VFbdGaCE5DBK"
   },
   "source": [
    "### Section 4.5 Index, Break and Continue"
   ]
  },
  {
   "cell_type": "markdown",
   "metadata": {
    "id": "eruqPA8xo6kM"
   },
   "source": [
    "**Index**\n",
    "\n",
    "At times you may also want to get the index as well as the element in the for loop. You can do it with the following command:"
   ]
  },
  {
   "cell_type": "code",
   "execution_count": 25,
   "metadata": {
    "id": "aYXC4XYlo7oK"
   },
   "outputs": [
    {
     "name": "stdout",
     "output_type": "stream",
     "text": [
      "0 4\n",
      "1 6\n",
      "2 2\n",
      "3 5\n",
      "4 7\n",
      "5 4\n",
      "6 5\n",
      "7 2\n",
      "8 4\n"
     ]
    }
   ],
   "source": []
  },
  {
   "cell_type": "markdown",
   "metadata": {
    "id": "VC2yUXJvo8H3"
   },
   "source": [
    "**Continue**\n",
    "\n",
    "There are times when within the loop, you may want to exit the loop prematurely, or ignore certain parts of the list. For example, if we have a list and we want to sum up all its values, other than the value in index 4. How this is done is the following:"
   ]
  },
  {
   "cell_type": "code",
   "execution_count": 26,
   "metadata": {
    "colab": {
     "base_uri": "https://localhost:8080/"
    },
    "id": "bMZnkFz94lnW",
    "outputId": "ecd4c338-491f-45c1-c5a7-90071bb70c69"
   },
   "outputs": [
    {
     "name": "stdout",
     "output_type": "stream",
     "text": [
      "32\n"
     ]
    }
   ],
   "source": []
  },
  {
   "cell_type": "markdown",
   "metadata": {
    "id": "vqtmVSvv9VWn"
   },
   "source": [
    "**Break**\n",
    "\n",
    "There are also times where you want to exit the loop altogether. For instance, if we wish to sum up all the values in a list until we hit index 5."
   ]
  },
  {
   "cell_type": "code",
   "execution_count": 27,
   "metadata": {
    "colab": {
     "base_uri": "https://localhost:8080/"
    },
    "id": "dohwV7zF82t6",
    "outputId": "91eec890-7ebb-43bb-a2a2-221c985ffde5"
   },
   "outputs": [
    {
     "name": "stdout",
     "output_type": "stream",
     "text": [
      "12\n"
     ]
    }
   ],
   "source": []
  },
  {
   "cell_type": "markdown",
   "metadata": {
    "id": "RcnFUoo--h8D"
   },
   "source": [
    "*Exercise 4.7*\n",
    "\n",
    "Write a for loop to count the number of elements in temp_list that is divisible by 3."
   ]
  },
  {
   "cell_type": "code",
   "execution_count": 28,
   "metadata": {
    "colab": {
     "base_uri": "https://localhost:8080/"
    },
    "id": "wwJ9JxLg-kDy",
    "outputId": "b93d50fd-f37f-49e3-a8be-093680fd7f66"
   },
   "outputs": [
    {
     "name": "stdout",
     "output_type": "stream",
     "text": [
      "1\n"
     ]
    }
   ],
   "source": []
  },
  {
   "cell_type": "markdown",
   "metadata": {},
   "source": [
    "### 4.6 Introducing the while loop statement\n",
    "\n",
    "The earlier section discussed about for loops, where we talk about us eating for as long as we are hungry.\n",
    "\n",
    "In this section, we have another similar control flow statement called the while loop. You can consider the while loop to look something like the following:\n",
    "```\n",
    "I am hungry\n",
    "while still hungry:\n",
    "  eat wantan mee\n",
    "  ask myself if i am still hungry\n",
    "```\n",
    "Similar to for control statements, while loops contains four items:\n",
    "* initialization of a variable which will be tested in the while loop\n",
    "* a condition to be tested (True or False)\n",
    "* statements to be run as long as condition is true\n",
    "* update the variable to be tested\n",
    "\n",
    "Lets look at an example to make this more concrete. Assume we want to print out the text \"hey\" five times. The for loop version will look like this:"
   ]
  },
  {
   "cell_type": "code",
   "execution_count": 29,
   "metadata": {},
   "outputs": [
    {
     "name": "stdout",
     "output_type": "stream",
     "text": [
      "hey\n",
      "hey\n",
      "hey\n",
      "hey\n",
      "hey\n"
     ]
    }
   ],
   "source": []
  },
  {
   "cell_type": "markdown",
   "metadata": {},
   "source": [
    "The while loop version will look like the following:"
   ]
  },
  {
   "cell_type": "code",
   "execution_count": 30,
   "metadata": {},
   "outputs": [
    {
     "name": "stdout",
     "output_type": "stream",
     "text": [
      "hey\n",
      "hey\n",
      "hey\n",
      "hey\n",
      "hey\n"
     ]
    }
   ],
   "source": []
  },
  {
   "cell_type": "code",
   "execution_count": 31,
   "metadata": {},
   "outputs": [
    {
     "name": "stdout",
     "output_type": "stream",
     "text": [
      "hey\n",
      "hey\n",
      "hey\n",
      "hey\n",
      "hey\n",
      "\n"
     ]
    }
   ],
   "source": []
  },
  {
   "cell_type": "markdown",
   "metadata": {},
   "source": [
    "We will be using one variable to keep track of the loop. This variable needs to be initialized at the start before the while loop. Everytime before the while loop is executed, the variable is tested to check. Within the while loop, you execute the print statement. It is also important to update the variable explicitly."
   ]
  },
  {
   "cell_type": "markdown",
   "metadata": {},
   "source": [
    "*Exercise 4.8*\n",
    "\n",
    "Can every for loop be converted to a while loop?\n",
    "\n",
    "*Exercise 4.9*\n",
    "\n",
    "Convert the following for loops into while loop:"
   ]
  },
  {
   "cell_type": "code",
   "execution_count": 32,
   "metadata": {},
   "outputs": [
    {
     "name": "stdout",
     "output_type": "stream",
     "text": [
      "0 amy\n",
      "1 ben\n",
      "2 cody\n"
     ]
    }
   ],
   "source": []
  },
  {
   "cell_type": "code",
   "execution_count": 33,
   "metadata": {},
   "outputs": [
    {
     "name": "stdout",
     "output_type": "stream",
     "text": [
      "0 amy\n",
      "1 ben\n",
      "2 cody\n"
     ]
    }
   ],
   "source": []
  },
  {
   "cell_type": "markdown",
   "metadata": {},
   "source": [
    "*Exercise 4.10*\n",
    "\n",
    "Convert the following for loops into while loop:"
   ]
  },
  {
   "cell_type": "code",
   "execution_count": 34,
   "metadata": {},
   "outputs": [
    {
     "name": "stdout",
     "output_type": "stream",
     "text": [
      "15\n"
     ]
    }
   ],
   "source": []
  },
  {
   "cell_type": "code",
   "execution_count": 35,
   "metadata": {},
   "outputs": [
    {
     "name": "stdout",
     "output_type": "stream",
     "text": [
      "15\n"
     ]
    }
   ],
   "source": []
  },
  {
   "cell_type": "markdown",
   "metadata": {},
   "source": [
    "*Exercise 4.11*\n",
    "\n",
    "Given the following piece of code, what will be the value of the number at the end of the while loop?\n",
    "\n",
    "```\n",
    "count = 1\n",
    "while count < 100:\n",
    "  print(count)\n",
    "  count = count * 3\n",
    "```"
   ]
  },
  {
   "cell_type": "code",
   "execution_count": 36,
   "metadata": {},
   "outputs": [
    {
     "name": "stdout",
     "output_type": "stream",
     "text": [
      "1\n",
      "3\n",
      "9\n",
      "27\n",
      "81\n",
      "final number = 243\n"
     ]
    }
   ],
   "source": []
  },
  {
   "cell_type": "markdown",
   "metadata": {},
   "source": [
    "*Exercise 4.12*\n",
    "\n",
    "Given the following piece of code, what will be the value of the number at the end of the while loop?\n",
    "\n",
    "```\n",
    "count = 1\n",
    "while count >= 1:\n",
    "  print(count)\n",
    "  count = count + 1\n",
    "```"
   ]
  },
  {
   "cell_type": "code",
   "execution_count": null,
   "metadata": {},
   "outputs": [],
   "source": []
  },
  {
   "cell_type": "markdown",
   "metadata": {},
   "source": [
    "*Exercise 4.13*\n",
    "\n",
    "Write a While Loop that would increment number by 10 until number > 100. The initial value of number is 0.\n",
    "* if the number is >= 10, print \"foo\"  \n",
    "* if the number is >=50, print \"bar\"  "
   ]
  },
  {
   "cell_type": "code",
   "execution_count": null,
   "metadata": {},
   "outputs": [],
   "source": []
  }
 ],
 "metadata": {
  "colab": {
   "provenance": []
  },
  "kernelspec": {
   "display_name": "Python 3 (ipykernel)",
   "language": "python",
   "name": "python3"
  },
  "language_info": {
   "codemirror_mode": {
    "name": "ipython",
    "version": 3
   },
   "file_extension": ".py",
   "mimetype": "text/x-python",
   "name": "python",
   "nbconvert_exporter": "python",
   "pygments_lexer": "ipython3",
   "version": "3.11.7"
  }
 },
 "nbformat": 4,
 "nbformat_minor": 4
}
