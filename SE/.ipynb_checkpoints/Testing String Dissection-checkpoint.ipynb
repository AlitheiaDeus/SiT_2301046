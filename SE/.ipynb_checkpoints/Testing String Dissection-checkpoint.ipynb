{
 "cells": [
  {
   "cell_type": "code",
   "execution_count": 2,
   "id": "2a124fd5-eaec-4b3e-9c60-a6fe65f3adbe",
   "metadata": {},
   "outputs": [],
   "source": [
    "s = \"dfjklharuibvcn dusyiuhj\""
   ]
  },
  {
   "cell_type": "code",
   "execution_count": 10,
   "id": "68d98f10-676c-455e-ac7a-a14568193a32",
   "metadata": {},
   "outputs": [
    {
     "name": "stdout",
     "output_type": "stream",
     "text": [
      "True\n"
     ]
    }
   ],
   "source": [
    "V = False\n",
    "\n",
    "for c in s:\n",
    "    # print(c)\n",
    "    V = V + c.isalnum()\n",
    "    \n",
    "if V:\n",
    "    print(True)\n",
    "else:\n",
    "    print(False)"
   ]
  },
  {
   "cell_type": "code",
   "execution_count": 11,
   "id": "ac271e9a-75f7-4189-86fa-f6d2a11659c7",
   "metadata": {},
   "outputs": [
    {
     "name": "stdout",
     "output_type": "stream",
     "text": [
      "<generator object <genexpr> at 0x0000022A999A8E10>\n"
     ]
    }
   ],
   "source": [
    "print(char.isalnum() for c in s)"
   ]
  }
 ],
 "metadata": {
  "kernelspec": {
   "display_name": "Python 3 (ipykernel)",
   "language": "python",
   "name": "python3"
  },
  "language_info": {
   "codemirror_mode": {
    "name": "ipython",
    "version": 3
   },
   "file_extension": ".py",
   "mimetype": "text/x-python",
   "name": "python",
   "nbconvert_exporter": "python",
   "pygments_lexer": "ipython3",
   "version": "3.11.9"
  }
 },
 "nbformat": 4,
 "nbformat_minor": 5
}
