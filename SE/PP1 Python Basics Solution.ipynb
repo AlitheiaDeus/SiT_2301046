{
 "cells": [
  {
   "cell_type": "markdown",
   "metadata": {
    "id": "2DVrwLcT32X0"
   },
   "source": [
    "## 1. Python Basics"
   ]
  },
  {
   "cell_type": "markdown",
   "metadata": {
    "id": "3ZI1Dua94gV6"
   },
   "source": [
    "### 1.1 Hello World"
   ]
  },
  {
   "cell_type": "markdown",
   "metadata": {
    "id": "oIeylCS19AOa"
   },
   "source": [
    "Print a series of text using the typical print command."
   ]
  },
  {
   "cell_type": "code",
   "execution_count": 1,
   "metadata": {
    "colab": {
     "base_uri": "https://localhost:8080/"
    },
    "id": "YDQjxmmr334P",
    "outputId": "ec4f9a4a-ac1d-41d3-fcef-0b56ae861f35"
   },
   "outputs": [
    {
     "name": "stdout",
     "output_type": "stream",
     "text": [
      "Hello World!\n"
     ]
    }
   ],
   "source": [
    "print (\"Hello World!\")"
   ]
  },
  {
   "cell_type": "markdown",
   "metadata": {
    "id": "IjYm_Je79Ewe"
   },
   "source": [
    "Let's try to do it by putting the text in a variable."
   ]
  },
  {
   "cell_type": "code",
   "execution_count": 2,
   "metadata": {
    "colab": {
     "base_uri": "https://localhost:8080/"
    },
    "id": "6xRHRc8d8j2P",
    "outputId": "e16a6d46-23c1-42a6-cd75-f1718d4ea0b5"
   },
   "outputs": [
    {
     "name": "stdout",
     "output_type": "stream",
     "text": [
      "9\n"
     ]
    }
   ],
   "source": [
    "var = \"9\"\n",
    "print (var)"
   ]
  },
  {
   "cell_type": "markdown",
   "metadata": {
    "id": "QFRE4DWo9NJf"
   },
   "source": [
    "We can add a name to the statement."
   ]
  },
  {
   "cell_type": "code",
   "execution_count": 3,
   "metadata": {
    "colab": {
     "base_uri": "https://localhost:8080/"
    },
    "id": "Qp5xaWqg89vh",
    "outputId": "43498a92-c586-4aec-cf30-a1b7a031674e"
   },
   "outputs": [
    {
     "name": "stdout",
     "output_type": "stream",
     "text": [
      "Nice to meet you, Alice\n"
     ]
    }
   ],
   "source": [
    "print (\"Nice to meet you, Alice\")"
   ]
  },
  {
   "cell_type": "markdown",
   "metadata": {
    "id": "dHFIIXRW9to0"
   },
   "source": [
    "Let's try using variables again."
   ]
  },
  {
   "cell_type": "code",
   "execution_count": 4,
   "metadata": {
    "colab": {
     "base_uri": "https://localhost:8080/"
    },
    "id": "mj0Msq5Q9dUc",
    "outputId": "c0c89091-3e0b-47b5-d2dc-67873e0e2bbb"
   },
   "outputs": [
    {
     "name": "stdout",
     "output_type": "stream",
     "text": [
      "Nice to meet you,Alice\n"
     ]
    }
   ],
   "source": [
    "greetings = \"Nice to meet you,\"\n",
    "name = \"Alice\"\n",
    "print (greetings + name)"
   ]
  },
  {
   "cell_type": "markdown",
   "metadata": {},
   "source": [
    "Notice the space? What can we do?"
   ]
  },
  {
   "cell_type": "code",
   "execution_count": 5,
   "metadata": {
    "colab": {
     "base_uri": "https://localhost:8080/"
    },
    "id": "ozfmWlCKrFVG",
    "outputId": "b0e9fd1d-3140-4482-9b74-0229e121d3cf"
   },
   "outputs": [
    {
     "name": "stdout",
     "output_type": "stream",
     "text": [
      "Nice to meet you, Alice\n"
     ]
    }
   ],
   "source": [
    "print (greetings, name)"
   ]
  },
  {
   "cell_type": "markdown",
   "metadata": {
    "id": "Q4uMwgPD90f5"
   },
   "source": [
    "When the plus symobol is used with two strings, one is \"Nice to meet you\" and the other is \"Alice\", we are combining or concatenating these strings together."
   ]
  },
  {
   "cell_type": "markdown",
   "metadata": {
    "id": "DNU4Ky7F_MqP"
   },
   "source": [
    "**Formatted strings or f-strings**"
   ]
  },
  {
   "cell_type": "markdown",
   "metadata": {
    "id": "U8Md560W_fn-"
   },
   "source": [
    "If you read some older python programming syntaxes, you would find that there are several other ways of formatting text strings. Examples of these are using the .format or the %s formats. These are still supported by Python but they are discouraged because of the low level of readibility. What is recommended now is to use a f-string like this:"
   ]
  },
  {
   "cell_type": "code",
   "execution_count": 6,
   "metadata": {
    "colab": {
     "base_uri": "https://localhost:8080/"
    },
    "id": "MuEYp5fW_XH2",
    "outputId": "cb9c96aa-a525-47f5-b644-de4a7330c7c0"
   },
   "outputs": [
    {
     "name": "stdout",
     "output_type": "stream",
     "text": [
      "Nice to meet you, Alice\n"
     ]
    }
   ],
   "source": [
    "print (f\"{greetings} {name}\")"
   ]
  },
  {
   "cell_type": "code",
   "execution_count": 7,
   "metadata": {
    "colab": {
     "base_uri": "https://localhost:8080/"
    },
    "id": "gyo5nMWMr9Fm",
    "outputId": "0b99def9-5775-4009-c3e0-67dcb4abe605"
   },
   "outputs": [
    {
     "name": "stdout",
     "output_type": "stream",
     "text": [
      "John height is 1.8 and the weight is 5\n"
     ]
    }
   ],
   "source": [
    "child_name = \"John\"\n",
    "height = 1.8\n",
    "weight = 5\n",
    "print (f\"{child_name} height is {height:.1f} and the weight is {weight}\")"
   ]
  },
  {
   "cell_type": "markdown",
   "metadata": {
    "id": "jJRa0zEo-UfC"
   },
   "source": [
    "*Exercise 1.1*\n",
    "\n",
    "Write the code to print out the following statement:\n",
    "\n",
    "Nice to meet you, Ben and Alice.\n",
    "\n",
    "Make sure to use all three variables and the f-string command."
   ]
  },
  {
   "cell_type": "code",
   "execution_count": 8,
   "metadata": {
    "id": "kRkXvq8c9zHO"
   },
   "outputs": [],
   "source": [
    "greeting = \"Nice to meet you\""
   ]
  },
  {
   "cell_type": "code",
   "execution_count": 9,
   "metadata": {
    "id": "wvWi7FN3uTwu"
   },
   "outputs": [],
   "source": [
    "name1 = \"Ben\""
   ]
  },
  {
   "cell_type": "code",
   "execution_count": 10,
   "metadata": {
    "id": "KirixpCRuVZ1"
   },
   "outputs": [],
   "source": [
    "name2 = \"Jerry\""
   ]
  },
  {
   "cell_type": "code",
   "execution_count": 11,
   "metadata": {
    "colab": {
     "base_uri": "https://localhost:8080/"
    },
    "id": "9I1w0kUQ-vYa",
    "outputId": "627e7128-587a-41b2-96ac-fc7857cdae64"
   },
   "outputs": [
    {
     "name": "stdout",
     "output_type": "stream",
     "text": [
      "Nice to meet you, Ben and Jerry\n"
     ]
    }
   ],
   "source": [
    "print (f\"{greeting}, {name1} and {name2}\")"
   ]
  },
  {
   "cell_type": "markdown",
   "metadata": {
    "id": "8CueF0kLA7AQ"
   },
   "source": [
    "### 1.2 Variable Types"
   ]
  },
  {
   "cell_type": "markdown",
   "metadata": {
    "id": "9aYmUz6dB2YE"
   },
   "source": [
    "Python has five standard data types and they are:\n",
    "*   Numbers\n",
    "*   String\n",
    "*   List\n",
    "*   Dictionary\n",
    "*   Tuple\n",
    "\n",
    "**Numbers**\n",
    "\n",
    "Number Types\n",
    "\n",
    "Python supports three types of numbers. They are integer, float and complex. For this course we will only be working with integer and floating numbers.\n",
    "\n",
    "Integer are whole numbers while floating numbers are decimal numbers."
   ]
  },
  {
   "cell_type": "code",
   "execution_count": 12,
   "metadata": {
    "colab": {
     "base_uri": "https://localhost:8080/"
    },
    "id": "80NAAnkLDOOQ",
    "outputId": "6c7e312d-9698-4d08-fdb4-3c72f1cb973f"
   },
   "outputs": [
    {
     "name": "stdout",
     "output_type": "stream",
     "text": [
      "Nice to meet you, my name is Ben and I am 3 years old\n"
     ]
    }
   ],
   "source": [
    "age = 3\n",
    "print (f\"Nice to meet you, my name is Ben and I am {age} years old\")"
   ]
  },
  {
   "cell_type": "code",
   "execution_count": 13,
   "metadata": {},
   "outputs": [
    {
     "name": "stdout",
     "output_type": "stream",
     "text": [
      "Nice to meet you, my name is Ben and I am 3 years old\n"
     ]
    }
   ],
   "source": [
    "print (\"Nice to meet you, my name is Ben and I am\", age, \"years old\")"
   ]
  },
  {
   "cell_type": "code",
   "execution_count": 14,
   "metadata": {
    "colab": {
     "base_uri": "https://localhost:8080/"
    },
    "id": "q4D_BxeFDoNJ",
    "outputId": "23491c28-dbcb-43ab-9a82-fa41c5d68383"
   },
   "outputs": [
    {
     "name": "stdout",
     "output_type": "stream",
     "text": [
      "Nice to meet you, my name is Ben and I am 3 years old. I am very tall for my age, about 87.3cm.\n"
     ]
    }
   ],
   "source": [
    "height = 87.3\n",
    "print (f\"Nice to meet you, my name is Ben and I am {age} years old. I am very tall for my age, about {height}cm.\")"
   ]
  },
  {
   "cell_type": "markdown",
   "metadata": {
    "id": "SU1u40wSEsS8"
   },
   "source": [
    "Number manipulation\n",
    "\n",
    "The typical operators apply.\n",
    "\n",
    "*   \\+ addition\n",
    "*   \\- subtraction\n",
    "*   \\* multiplication\n",
    "*   \\/ division"
   ]
  },
  {
   "cell_type": "code",
   "execution_count": 15,
   "metadata": {
    "colab": {
     "base_uri": "https://localhost:8080/"
    },
    "id": "BGo_XeNGDvY6",
    "outputId": "ad3c0098-7110-4256-e3f6-2bc0b8180b9c"
   },
   "outputs": [
    {
     "name": "stdout",
     "output_type": "stream",
     "text": [
      "10\n",
      "2\n",
      "24\n",
      "1.5\n",
      "2\n",
      "1296\n",
      "1\n"
     ]
    }
   ],
   "source": [
    "x = 6\n",
    "y = 4\n",
    "print (x + y)     # addition\n",
    "print (x - y)     # subtraction\n",
    "print (x * y)     # multiplication\n",
    "print (x / y)     # divison\n",
    "print (x % y)     # modulus\n",
    "print (x ** y)    # exponential\n",
    "print (x // y)    # floor division"
   ]
  },
  {
   "cell_type": "markdown",
   "metadata": {
    "id": "TR_SrhgbFqan"
   },
   "source": [
    "There is also a math library that we can use. From the math library we will be able to get certain constants or carry out functions such as square root etc."
   ]
  },
  {
   "cell_type": "code",
   "execution_count": 16,
   "metadata": {
    "colab": {
     "base_uri": "https://localhost:8080/"
    },
    "id": "trjUqVljFQbJ",
    "outputId": "b2dc8db5-a2e5-4d56-99f6-28dae8350a41"
   },
   "outputs": [
    {
     "name": "stdout",
     "output_type": "stream",
     "text": [
      "3.141592653589793\n"
     ]
    }
   ],
   "source": [
    "import math\n",
    "print (math.pi)"
   ]
  },
  {
   "cell_type": "markdown",
   "metadata": {
    "id": "T8vHL9-_GMnT"
   },
   "source": [
    "Notice that the number of decimal points are quite a lot. If we only want to see 2 of them, we can do the following:"
   ]
  },
  {
   "cell_type": "code",
   "execution_count": 17,
   "metadata": {
    "colab": {
     "base_uri": "https://localhost:8080/"
    },
    "id": "FYQqIHwxGJbq",
    "outputId": "e3ac5720-e2e0-4f10-b89f-c14df22ed637"
   },
   "outputs": [
    {
     "name": "stdout",
     "output_type": "stream",
     "text": [
      "3.14\n",
      "3.14\n"
     ]
    }
   ],
   "source": [
    "print (f\"{math.pi:.2f}\")\n",
    "print (\"%.2f\" %math.pi)"
   ]
  },
  {
   "cell_type": "markdown",
   "metadata": {
    "id": "aUQaASkkGw2l"
   },
   "source": [
    "Note that this does not change the value of the variable, just the way it is displayed."
   ]
  },
  {
   "cell_type": "code",
   "execution_count": 18,
   "metadata": {
    "colab": {
     "base_uri": "https://localhost:8080/"
    },
    "id": "jOo8fD6AGoIL",
    "outputId": "9116a44b-4ada-41f9-8b9e-20905f0c0165"
   },
   "outputs": [
    {
     "name": "stdout",
     "output_type": "stream",
     "text": [
      "3.14\n"
     ]
    }
   ],
   "source": [
    "x = math.pi\n",
    "print (f\"{x:.2f}\") "
   ]
  },
  {
   "cell_type": "code",
   "execution_count": 19,
   "metadata": {
    "colab": {
     "base_uri": "https://localhost:8080/"
    },
    "id": "tx4bRNtuG7Mw",
    "outputId": "575c303b-111b-434f-a175-07f58cc680b9"
   },
   "outputs": [
    {
     "name": "stdout",
     "output_type": "stream",
     "text": [
      "3.141592653589793\n"
     ]
    }
   ],
   "source": [
    "print (x)"
   ]
  },
  {
   "cell_type": "markdown",
   "metadata": {
    "id": "69qZJrMKG_hl"
   },
   "source": [
    "If we really want to convert the variable to just two decimal places, we have to use the *round* function:"
   ]
  },
  {
   "cell_type": "code",
   "execution_count": 20,
   "metadata": {
    "colab": {
     "base_uri": "https://localhost:8080/"
    },
    "id": "ZIRJT-UbG-8F",
    "outputId": "f62b2891-c6f5-46ba-a404-a7da428f3b92"
   },
   "outputs": [
    {
     "name": "stdout",
     "output_type": "stream",
     "text": [
      "3.14\n"
     ]
    }
   ],
   "source": [
    "x = round(math.pi,2)\n",
    "print (x)"
   ]
  },
  {
   "cell_type": "markdown",
   "metadata": {
    "id": "Yeh2r1mmjtYU"
   },
   "source": [
    "*Exercise 1.2*\n",
    "\n",
    "Calculate the area of a square with sides 5cm. Store it in a variable known as square_area. Print out the entire statement:\n",
    "\n",
    "\"The area of a square of sides 5 cm is xxx cm squared\""
   ]
  },
  {
   "cell_type": "code",
   "execution_count": 21,
   "metadata": {
    "colab": {
     "base_uri": "https://localhost:8080/"
    },
    "id": "7Kz3w8VdkAre",
    "outputId": "84647353-5648-406e-9f0b-55dca0cbd72e"
   },
   "outputs": [
    {
     "name": "stdout",
     "output_type": "stream",
     "text": [
      "The area of a square of sides 5 cm is 25 cm squared\n"
     ]
    }
   ],
   "source": [
    "side = 5\n",
    "square_area = side * side\n",
    "print (f\"The area of a square of sides {side} cm is {square_area} cm squared\")"
   ]
  },
  {
   "cell_type": "markdown",
   "metadata": {
    "id": "YfAPZPsnkTPY"
   },
   "source": [
    "*Exercise 1.3*\n",
    "\n",
    "Calculate the area of a rectangle with sides 10 cm and 5 cm. Store it in a variable known as rectangle_area. Print out the entire statement:\n",
    "\n",
    "\"The area of a rectangle of sides 10 cm and 5 cm is xxx cm squared\""
   ]
  },
  {
   "cell_type": "code",
   "execution_count": 22,
   "metadata": {
    "colab": {
     "base_uri": "https://localhost:8080/"
    },
    "id": "8wvxMGbNkl3E",
    "outputId": "a4beaf35-c997-4537-9cb4-269e404668c2"
   },
   "outputs": [
    {
     "name": "stdout",
     "output_type": "stream",
     "text": [
      "The area of a rectangle of sides 10 cm and 5 cm is 50 cm squared\n"
     ]
    }
   ],
   "source": [
    "side1 = 10\n",
    "side2 = 5\n",
    "rectangle_area = side1 * side2\n",
    "print (f\"The area of a rectangle of sides {side1} cm and {side2} cm is {rectangle_area} cm squared\")"
   ]
  },
  {
   "cell_type": "markdown",
   "metadata": {
    "id": "oAlc6a3vInnA"
   },
   "source": [
    "*Exercise 1.4*\n",
    "\n",
    "Calculate the area of a circle of radius 3.5 cm. Store it in a variable known as circle_area. Print out the value of the circle to 3 decimal points."
   ]
  },
  {
   "cell_type": "code",
   "execution_count": 23,
   "metadata": {
    "colab": {
     "base_uri": "https://localhost:8080/"
    },
    "id": "BZOaUUgJIcYp",
    "outputId": "bffb5feb-e058-4cb4-92bd-aed9610b90c6"
   },
   "outputs": [
    {
     "name": "stdout",
     "output_type": "stream",
     "text": [
      "The area of a circle of radius 3.5 cm is 38.485 cm squared\n"
     ]
    }
   ],
   "source": [
    "import math\n",
    "radius = 3.5\n",
    "circle_area = math.pi * radius * radius\n",
    "circle_area = math.pi * radius ** 2\n",
    "print (f\"The area of a circle of radius {radius} cm is {circle_area:.3f} cm squared\")"
   ]
  },
  {
   "attachments": {
    "Ex1.5.png": {
     "image/png": "[encoded data removed]"
    }
   },
   "cell_type": "markdown",
   "metadata": {
    "id": "BUk2GPuhJOgR"
   },
   "source": [
    "*Exercise 1.5*\n",
    "\n",
    "Given the following triangle, find the area of the triangle. Print it to 3 decimal places.\n",
    "<div>\n",
    "    <img src=\"attachment:Ex1.5.png\" width=\"300\"/>\n",
    "</div>\n",
    "\n",
    "Hint:\n",
    "The area of the triangle is:\n",
    "0.5 * height * width\n",
    "\n",
    "The width of this triangle is 20\n",
    "\n",
    "The height of this triangle can be found by taking the sine of the angle multiple by 11.\n",
    "\n",
    "You can use the sine by using the math.sin function. You can find out more about the function here:\n",
    "\n",
    "https://www.w3schools.com/python/ref_math_sin.asp"
   ]
  },
  {
   "cell_type": "code",
   "execution_count": 24,
   "metadata": {
    "id": "cQnDZcozI-BL"
   },
   "outputs": [
    {
     "name": "stdout",
     "output_type": "stream",
     "text": [
      "The area of a triangle of height 8.426488874308758 cm and width 20 is 84.265 cm squared\n"
     ]
    }
   ],
   "source": [
    "import math\n",
    "width = 20\n",
    "angle = 50\n",
    "side = 11\n",
    "height = math.sin(math.radians(angle)) * side\n",
    "triangle_area = 0.5 * height * width\n",
    "print (f\"The area of a triangle of height {height} cm and width {width} is {triangle_area:.3f} cm squared\")"
   ]
  },
  {
   "cell_type": "markdown",
   "metadata": {},
   "source": [
    "### 1.3 Comments"
   ]
  },
  {
   "cell_type": "markdown",
   "metadata": {},
   "source": [
    "Comments are useful for explaining and troubleshooting of your codes. Python will ignore comments."
   ]
  },
  {
   "cell_type": "code",
   "execution_count": 25,
   "metadata": {},
   "outputs": [
    {
     "name": "stdout",
     "output_type": "stream",
     "text": [
      "This is not a comment\n"
     ]
    }
   ],
   "source": [
    "#This is a comment\n",
    "print (\"This is not a comment\")"
   ]
  },
  {
   "cell_type": "code",
   "execution_count": 26,
   "metadata": {},
   "outputs": [
    {
     "name": "stdout",
     "output_type": "stream",
     "text": [
      "This is not a comment\n"
     ]
    }
   ],
   "source": [
    "print (\"This is not a comment\") #This is a comment"
   ]
  },
  {
   "cell_type": "code",
   "execution_count": 27,
   "metadata": {},
   "outputs": [
    {
     "name": "stdout",
     "output_type": "stream",
     "text": [
      "This is not a comment\n"
     ]
    }
   ],
   "source": [
    "#There can be more than\n",
    "#one line of comment\n",
    "#like this\n",
    "print (\"This is not a comment\")"
   ]
  },
  {
   "cell_type": "code",
   "execution_count": 28,
   "metadata": {},
   "outputs": [
    {
     "name": "stdout",
     "output_type": "stream",
     "text": [
      "This is not a comment\n"
     ]
    }
   ],
   "source": [
    "'''\n",
    "There can be more than\n",
    "one line of comment\n",
    "like this\n",
    "'''\n",
    "print (\"This is not a comment\")"
   ]
  }
 ],
 "metadata": {
  "colab": {
   "provenance": []
  },
  "kernelspec": {
   "display_name": "Python 3 (ipykernel)",
   "language": "python",
   "name": "python3"
  },
  "language_info": {
   "codemirror_mode": {
    "name": "ipython",
    "version": 3
   },
   "file_extension": ".py",
   "mimetype": "text/x-python",
   "name": "python",
   "nbconvert_exporter": "python",
   "pygments_lexer": "ipython3",
   "version": "3.11.7"
  }
 },
 "nbformat": 4,
 "nbformat_minor": 4
}
