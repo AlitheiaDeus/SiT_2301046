{
 "cells": [
  {
   "cell_type": "markdown",
   "metadata": {
    "id": "ZHaCixLqo6XO"
   },
   "source": [
    "## 2. Conditional Statements"
   ]
  },
  {
   "cell_type": "markdown",
   "metadata": {
    "id": "8DFAwARmpUBn"
   },
   "source": [
    "### 2.1 The if statement\n",
    "\n",
    "Conditional statements allow you to specify a certain condition, and run a specific piece of code, depending if the condition is True or False. \n",
    "\n",
    "For example, let's say you are coming to school today, and you can either take the bus or the train. If it rains, you would have to take the shelter and you have a direct shelter to the bus stop. However the MRT is quite far away from your home and you will get wet. Hence the if statement condition for your decision making is:\n",
    "\n",
    "```\n",
    "if it rains,\n",
    "  I will take the bus\n",
    "else,\n",
    "  I will take the MRT\n",
    "```"
   ]
  },
  {
   "cell_type": "markdown",
   "metadata": {
    "id": "laibtsbPqZdS"
   },
   "source": [
    "Let's look at a few examples of the if statement. Using our example above:"
   ]
  },
  {
   "cell_type": "code",
   "execution_count": 1,
   "metadata": {
    "colab": {
     "base_uri": "https://localhost:8080/"
    },
    "id": "1qb63H4no-WB",
    "outputId": "6370b044-b39b-4ecb-c1d9-947c6692aa3a"
   },
   "outputs": [
    {
     "name": "stdout",
     "output_type": "stream",
     "text": [
      "Today I think I will be taking the bus to school.\n"
     ]
    }
   ],
   "source": [
    "rain = \n",
    "public_transport = None\n",
    "\n",
    "if \n",
    "    public_transport = \n",
    "else:\n",
    "    public_transport = \n",
    "\n",
    "print"
   ]
  },
  {
   "cell_type": "markdown",
   "metadata": {
    "id": "DrFHqYimq52_"
   },
   "source": [
    "We will break this simple example down step by step.\n",
    "\n",
    "**Initialization**\n",
    "\n",
    "Firstly, I have defined the variable rain as True and public_transport as None.\n",
    "\n",
    "**if conditional**\n",
    "\n",
    "In the second part\n",
    "\n",
    "```\n",
    "if rain:\n",
    "  public_transport = \"bus\"\n",
    "```\n",
    "\n",
    "The variable rain is used in the condition. Here, the if statement checks the variable rain if it is True or False. Note that after the condition, there is an essential semi colon \":\" to show the end of a condition.\n",
    "\n",
    "The next line sets the value of variable public_transport as bus. However, note that there are some space at the front of the line. This tells Python that the lines that come indented fall under the scope of the earlier if statement.\n",
    "\n",
    "```\n",
    "if rain:\n",
    "  public_transport = \"bus\"\n",
    "```"
   ]
  },
  {
   "cell_type": "markdown",
   "metadata": {
    "id": "HVcUUWoYr7LB"
   },
   "source": [
    "**Indentation**\n",
    "\n",
    "Let's discuss more indentation. Indentation is used to indicate a code block. Let's show this with a simple example. Suppose we wish to print out an additional statement if it is raining. Let's just extract out a portion of the earlier code to obtain the following:"
   ]
  },
  {
   "cell_type": "code",
   "execution_count": 2,
   "metadata": {
    "colab": {
     "base_uri": "https://localhost:8080/"
    },
    "id": "O-z5LL3PqzcZ",
    "outputId": "3407b630-5688-43a2-e291-6725c54dc6e9"
   },
   "outputs": [
    {
     "name": "stdout",
     "output_type": "stream",
     "text": [
      "Its raining today\n"
     ]
    }
   ],
   "source": [
    "rain = \n",
    "public_transport = None\n",
    "\n",
    "if \n",
    "    public_transport =\n",
    "print"
   ]
  },
  {
   "cell_type": "markdown",
   "metadata": {
    "id": "TmRylA7Ps4gh"
   },
   "source": [
    "Suppose if it's not raining, we set rain to False. We however still get the print out its raining today."
   ]
  },
  {
   "cell_type": "code",
   "execution_count": 3,
   "metadata": {
    "colab": {
     "base_uri": "https://localhost:8080/"
    },
    "id": "jXHqZd_Usjo4",
    "outputId": "b855e53f-b2bb-47eb-eb1c-6bbe9d6ea6fe"
   },
   "outputs": [
    {
     "name": "stdout",
     "output_type": "stream",
     "text": [
      "Its raining today\n"
     ]
    }
   ],
   "source": [
    "rain = \n",
    "public_transport = None\n",
    "\n",
    "if \n",
    "    public_transport = \n",
    "print"
   ]
  },
  {
   "cell_type": "markdown",
   "metadata": {
    "id": "GthKOr-WtKwo"
   },
   "source": [
    "The issue here is that the print statement is not indented correctly. For it to work properly, it must be indented in the same line as public_transport for it to be considered to be under the same scope. Hence we should change it to:"
   ]
  },
  {
   "cell_type": "code",
   "execution_count": 4,
   "metadata": {
    "id": "HsOF9dXitJW_"
   },
   "outputs": [],
   "source": [
    "rain = \n",
    "public_transport = None\n",
    "\n",
    "if \n",
    "    public_transport = \n",
    "    print"
   ]
  },
  {
   "cell_type": "code",
   "execution_count": 5,
   "metadata": {
    "colab": {
     "base_uri": "https://localhost:8080/"
    },
    "id": "772jm9-etZeW",
    "outputId": "a4d7d237-e50e-458e-d4db-3662b1f4cb25"
   },
   "outputs": [
    {
     "name": "stdout",
     "output_type": "stream",
     "text": [
      "Its raining today\n"
     ]
    }
   ],
   "source": [
    "rain = \n",
    "public_transport = None\n",
    "\n",
    "if \n",
    "    public_transport = \n",
    "    print"
   ]
  },
  {
   "cell_type": "markdown",
   "metadata": {
    "id": "LyaflSHhtePY"
   },
   "source": [
    "This indentation will also apply during functions, loops and classes."
   ]
  },
  {
   "cell_type": "markdown",
   "metadata": {
    "id": "YXIgYhaituMt"
   },
   "source": [
    "**else conditional**\n",
    "\n",
    "The next portion of the code illustrates what happens if rain is equals to False. Hence if it is not raining, variable public_transport will be set to \"Train\"\n",
    "\n",
    "```\n",
    "if rain:\n",
    "  public_transport = \"bus\"\n",
    "else:\n",
    "  public_transport = \"train\"\n",
    "\n",
    "```\n",
    "\n",
    "\n"
   ]
  },
  {
   "cell_type": "code",
   "execution_count": 6,
   "metadata": {
    "colab": {
     "base_uri": "https://localhost:8080/"
    },
    "id": "uRZqoGnOta5t",
    "outputId": "531abbb9-5c17-4eaa-ddea-a6d50e3af870"
   },
   "outputs": [
    {
     "name": "stdout",
     "output_type": "stream",
     "text": [
      "Today I think I will be taking the train to school.\n"
     ]
    }
   ],
   "source": [
    "rain = \n",
    "public_transport = None\n",
    "\n",
    "if \n",
    "    public_transport = \n",
    "else:\n",
    "    public_transport = \n",
    "\n",
    "print"
   ]
  },
  {
   "cell_type": "markdown",
   "metadata": {
    "id": "Ya-6PSm3uRg7"
   },
   "source": [
    "In this very simple example, we are only using if and else. There is one more conditional within if else known as the elif. It is short for \"else if\".\n",
    "\n",
    "Let's assume that if it is not raining and if you are late, you will take the cab. So the conditional will look like the following in english.\n",
    "\n",
    "```\n",
    "if it rains,\n",
    "  I will take the bus\n",
    "else if it is not raining and I am late,\n",
    "  I will take the cab\n",
    "else,\n",
    "  I will take the MRT\n",
    "```\n",
    "\n",
    "Let's now try to tweak our code with the new conditionals."
   ]
  },
  {
   "cell_type": "code",
   "execution_count": 7,
   "metadata": {
    "colab": {
     "base_uri": "https://localhost:8080/"
    },
    "id": "CoVLX4luuE13",
    "outputId": "7650178c-4b4a-4880-83ac-0623d09d0aa7"
   },
   "outputs": [
    {
     "name": "stdout",
     "output_type": "stream",
     "text": [
      "Today I think I will be taking the cab to school.\n"
     ]
    }
   ],
   "source": [
    "rain = \n",
    "late = \n",
    "public_transport = None\n",
    "\n",
    "if \n",
    "    public_transport = \n",
    "elif \n",
    "    public_transport = \n",
    "else:\n",
    "    public_transport = \n",
    "\n",
    "print"
   ]
  },
  {
   "cell_type": "markdown",
   "metadata": {
    "id": "tcmJn96gvZD2"
   },
   "source": [
    "### 2.2 Operators\n",
    "\n",
    "The if else statements above all assumed that the variable rain returned a value True or False. However most of the time, we may want to test a certain condition, and then decide based on a certain condition. For instance, lets say we have a car and if the amount of petrol in the fuel tank falls below a certain fraction, we will then have to refuel the tank.\n",
    "\n",
    "```\n",
    "if fuel_tank almost empty,\n",
    "  refill it\n",
    "```\n",
    "If we convert this to code, we get:"
   ]
  },
  {
   "cell_type": "code",
   "execution_count": 8,
   "metadata": {
    "colab": {
     "base_uri": "https://localhost:8080/"
    },
    "id": "_Otu6C84vISy",
    "outputId": "27b4d7fb-b649-4185-e5aa-f192c635d7c6"
   },
   "outputs": [
    {
     "name": "stdout",
     "output_type": "stream",
     "text": [
      "fuel tank is almost empty\n"
     ]
    }
   ],
   "source": [
    "fuel_tank = 0.05\n",
    "if \n",
    "    print"
   ]
  },
  {
   "cell_type": "markdown",
   "metadata": {
    "id": "MO7lus4j0az4"
   },
   "source": [
    "Of course we have many types of conditionals. The full list can be seen here:\n",
    "\n",
    "|Operator|Meaning|\n",
    "|-|-|\n",
    "|==|equal|\n",
    "|!=|not equal|\n",
    "|<|less than|\n",
    "|>|greater than|\n",
    "|<=|equal or less than|\n",
    "|>=|equal or greater than|\n",
    "|and|and across all conditions|\n",
    "|or|or across all conditions|\n",
    "\n",
    "Let's reuse the earlier example and add more conditions to it."
   ]
  },
  {
   "cell_type": "code",
   "execution_count": 9,
   "metadata": {
    "colab": {
     "base_uri": "https://localhost:8080/"
    },
    "id": "Zs3i2zLF0M_M",
    "outputId": "0b1894bc-e2f3-451b-842b-f0f8af6e091e"
   },
   "outputs": [
    {
     "name": "stdout",
     "output_type": "stream",
     "text": [
      "fuel tank is almost empty\n"
     ]
    }
   ],
   "source": [
    "fuel_tank = 0.05\n",
    "if \n",
    "    print"
   ]
  },
  {
   "cell_type": "markdown",
   "metadata": {
    "id": "teM0SkLN14En"
   },
   "source": [
    "Let's say we have an additional condition, if the fuel tank is less than or equals to 0.2 and its the morning (before 12 noon), I should go and pump petrol now."
   ]
  },
  {
   "cell_type": "code",
   "execution_count": 10,
   "metadata": {
    "colab": {
     "base_uri": "https://localhost:8080/"
    },
    "id": "IntGrmio1sLJ",
    "outputId": "85c44577-d921-4a99-9fc0-0e3823a19ddb"
   },
   "outputs": [
    {
     "name": "stdout",
     "output_type": "stream",
     "text": [
      "go pump petrol!\n"
     ]
    }
   ],
   "source": [
    "fuel_tank = \n",
    "hour_24 = \n",
    "if \n",
    "    print "
   ]
  },
  {
   "cell_type": "markdown",
   "metadata": {
    "id": "XMgwvwxP2nK5"
   },
   "source": [
    "*Exercise 2.1*\n",
    "\n",
    "Create a set of if else statements which tests the variable time_in_oven. If it is equal to the variable recipe_cake, print out \"the cake is perfect\". If it is less than variable recipe_cake, print out \"the cake is undercooked\", else print out \"the cake is burnt\"."
   ]
  },
  {
   "cell_type": "code",
   "execution_count": 11,
   "metadata": {
    "colab": {
     "base_uri": "https://localhost:8080/"
    },
    "id": "DilLpqgG2VXE",
    "outputId": "b2d49634-60bf-470a-db92-ec770d515c9d"
   },
   "outputs": [
    {
     "name": "stdout",
     "output_type": "stream",
     "text": [
      "the cake is undercooked\n"
     ]
    }
   ],
   "source": []
  },
  {
   "cell_type": "markdown",
   "metadata": {
    "id": "fSCenNnW4HZ6"
   },
   "source": [
    "*Exercise 2.2*\n",
    "\n",
    "Create a set of if else statements that does the following:\n",
    "\n",
    "1. If energy is high and raining is False, print \"Go to the park\"\n",
    "2. Else if energy is high and raining is True, print \"Play computer game\"  \n",
    "3. Else if energy is low and raining is True, print \"Sleep\"  \n",
    "3. Else if energy is low and raining is False, print \"Study how to play computer game\"  "
   ]
  },
  {
   "cell_type": "code",
   "execution_count": 12,
   "metadata": {
    "colab": {
     "base_uri": "https://localhost:8080/"
    },
    "id": "C7Lw5PsK75KO",
    "outputId": "9b35247f-87b9-4ceb-a560-99f128f55803"
   },
   "outputs": [
    {
     "name": "stdout",
     "output_type": "stream",
     "text": [
      "Sleep\n"
     ]
    }
   ],
   "source": []
  },
  {
   "cell_type": "markdown",
   "metadata": {
    "id": "qZhvNCHR5SLk"
   },
   "source": [
    "*Exercise 2.3*\n",
    "\n",
    "Create a set of if else statements that does the following:\n",
    "\n",
    "1. If both numbers are a multiple of 2, adds both numbers \n",
    "2. Else multiple them\n",
    "\n",
    "You can use the modulo operator to check if are they a multiple of two or not.\n",
    "\n",
    "*https://realpython.com/python-modulo-operator/*"
   ]
  },
  {
   "cell_type": "code",
   "execution_count": 29,
   "metadata": {
    "colab": {
     "base_uri": "https://localhost:8080/"
    },
    "id": "vNnAYZFn7nuW",
    "outputId": "8c8570e7-923a-4dbb-9283-1f5c418feb2a"
   },
   "outputs": [],
   "source": [
    "num1 = int(5)\n",
    "num2 = int(8)\n",
    "\n",
    "if not num1 % 2 and not num2 % 2:\n",
    "    print('EVEN')\n",
    "else:\n",
    "    print('ODD')"
   ]
  },
  {
   "cell_type": "markdown",
   "metadata": {
    "id": "u0KoViZS9Cf9"
   },
   "source": [
    "*Exercise 2.4*\n",
    "\n",
    "Consider the following if statement. Simplify to just one condition.\n",
    "\n",
    "\n",
    "\n",
    "```\n",
    "doesSignificantWork = True\n",
    "makesBreakthrough = False\n",
    "\n",
    "if doesSignificantWork:\n",
    "  if (makesBreakthrough):\n",
    "    nobelPrizeCandidate = True\n",
    "  else:\n",
    "    nobelPrizeCandidate = False\n",
    "elif doesSignificantWork == False:\n",
    "  nobelPrizeCandidate = False\n",
    "\n",
    "print(nobelPrizeCandidate)\n",
    "```\n",
    "\n"
   ]
  },
  {
   "cell_type": "code",
   "execution_count": 1,
   "metadata": {
    "colab": {
     "base_uri": "https://localhost:8080/"
    },
    "id": "8_4mvg0E9DPC",
    "outputId": "b5800b58-561b-4055-93e2-f71f95e3cf47"
   },
   "outputs": [
    {
     "name": "stdout",
     "output_type": "stream",
     "text": [
      "False\n"
     ]
    }
   ],
   "source": [
    "doesSignificantWork = True\n",
    "makesBreakthrough = False\n",
    "\n",
    "if doesSignificantWork and makesBreakthrough:\n",
    "    print(True)\n",
    "else:\n",
    "    print(False)"
   ]
  },
  {
   "cell_type": "markdown",
   "metadata": {
    "id": "gCVzAoAt6jzh"
   },
   "source": [
    "*Exercise 2.5*\n",
    "\n",
    "You are given a number i:\n",
    "\n",
    "*   if i is a multiple of both 3 and 5, print FizzBuzz\n",
    "*   if i is a multiple of 3 but not 5, print Fizz\n",
    "*   if i is a multiple of 5 but not 3, print Buzz\n",
    "*   if i is neither a multiple of 3 and 5, print the value of i"
   ]
  },
  {
   "cell_type": "code",
   "execution_count": 15,
   "metadata": {
    "colab": {
     "base_uri": "https://localhost:8080/"
    },
    "id": "dKnrRa6M7PBE",
    "outputId": "882907d8-84a7-4676-ec1d-ab44516cf8ea"
   },
   "outputs": [
    {
     "name": "stdout",
     "output_type": "stream",
     "text": [
      "FizzBuzz\n"
     ]
    }
   ],
   "source": []
  }
 ],
 "metadata": {
  "colab": {
   "provenance": []
  },
  "kernelspec": {
   "display_name": "Python 3 (ipykernel)",
   "language": "python",
   "name": "python3"
  },
  "language_info": {
   "codemirror_mode": {
    "name": "ipython",
    "version": 3
   },
   "file_extension": ".py",
   "mimetype": "text/x-python",
   "name": "python",
   "nbconvert_exporter": "python",
   "pygments_lexer": "ipython3",
   "version": "3.11.9"
  }
 },
 "nbformat": 4,
 "nbformat_minor": 4
}
